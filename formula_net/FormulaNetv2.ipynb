{
 "cells": [
  {
   "cell_type": "code",
   "execution_count": 1,
   "metadata": {},
   "outputs": [
    {
     "name": "stderr",
     "output_type": "stream",
     "text": [
      "c:\\Users\\Abderrahmane\\ProjectsC\\ReconnaissanceAlgebrique\\.conda\\Lib\\site-packages\\tqdm\\auto.py:21: TqdmWarning: IProgress not found. Please update jupyter and ipywidgets. See https://ipywidgets.readthedocs.io/en/stable/user_install.html\n",
      "  from .autonotebook import tqdm as notebook_tqdm\n"
     ]
    }
   ],
   "source": [
    "import math\n",
    "import torch\n",
    "from torch_geometric.data import InMemoryDataset, Data, Batch\n",
    "from torch.utils.data import DataLoader, Subset, random_split\n",
    "from sklearn.calibration import LabelEncoder\n",
    "import json "
   ]
  },
  {
   "cell_type": "code",
   "execution_count": 461,
   "metadata": {},
   "outputs": [],
   "source": [
    "from torch import nn\n",
    "from torch.nn import Linear, ReLU, LeakyReLU, init\n",
    "import torch.nn.functional as F\n",
    "from torch_geometric.nn import GCNConv, global_mean_pool, GATv2Conv, TransformerConv, LayerNorm\n",
    "import numpy as np\n",
    "import torch.optim.lr_scheduler as lr_scheduler\n"
   ]
  },
  {
   "cell_type": "code",
   "execution_count": 3,
   "metadata": {},
   "outputs": [],
   "source": [
    "import torch\n",
    "from torch.utils.tensorboard import SummaryWriter\n",
    "writer = SummaryWriter()"
   ]
  },
  {
   "cell_type": "code",
   "execution_count": 556,
   "metadata": {},
   "outputs": [],
   "source": [
    "DATASET_FILEPATH = \"math_datagen_triplet_40k.json\"\n",
    "BATCH_SIZE = 256\n",
    "TRAIN_RATIO = 0.9\n",
    "VAL_RATIO = 0.1\n",
    "DISTANCE_FUNC = F.pairwise_distance\n",
    "margin = 0.8\n",
    "rep = 16"
   ]
  },
  {
   "cell_type": "code",
   "execution_count": 234,
   "metadata": {},
   "outputs": [],
   "source": [
    "TYPES = [\"FUNC\", \"OPERATION\", \"POW\", \"LITERAL\", \"VARIABLE\", \"CONSTANT_LITERAL\"]\n",
    "OPERATIONS = [\"ADD\", \"MUL\", \"FUNC\", \"POW\"]\n",
    "FUNCTIONS = [\"SIN\", \"COS\", \"TAN\", \"EXP\", \"LOG\", \"SINH\", \"COSH\", \"TANH\"]\n",
    "VARIABLE_ALPHABET = [chr(x) for x in range(ord('a'), ord('z')+1) if chr(x) not in [\"e\", \"i\"]]\n",
    "CLASSIC_CONSTANTS = [\"PI\", \"I\", \"g\",\"e\", \"zoo\", \"E\"]"
   ]
  },
  {
   "cell_type": "code",
   "execution_count": 235,
   "metadata": {},
   "outputs": [],
   "source": [
    "\n",
    "def dict_to_geometric_representation(in_graph_dict: dict, encoder) -> Data:\n",
    "    node_list = []\n",
    "    edge_mappings = []\n",
    "    def traverse_graph(graph = in_graph_dict):\n",
    "        nonlocal node_list\n",
    "        nonlocal edge_mappings\n",
    "        curr_node_index = len(node_list)\n",
    "        encoded_data = encoder({\"type\": graph[\"type\"], \"subtype\": graph[\"subtype\"], \"value\": graph[\"value\"]})\n",
    "        # print(\"Encoded data: \", encoded_data)\n",
    "        node_list.append(encoded_data)\n",
    "        if \"children\" in graph.keys():\n",
    "            for child in graph[\"children\"]:\n",
    "                edge_mappings.append((curr_node_index, traverse_graph(child)) ) #I'm retarded.\n",
    "        return curr_node_index\n",
    "    traverse_graph()\n",
    "    nodes = torch.tensor(node_list,dtype=torch.float32)\n",
    "    if not torch.all(torch.isfinite(nodes)):\n",
    "        print(\"NODES CONTAIN INFINITE VALUE ---> \\n\")\n",
    "        print(\"X = \", nodes)\n",
    "    nodes[nodes == float(\"inf\")] = 0\n",
    "    nodes[nodes == -float(\"inf\")] = 0\n",
    "    if not torch.all(torch.isfinite(nodes)):\n",
    "        print(\"MODIFIED NODES CONTAIN INFINITE VALUE ---> \\n\")\n",
    "        print(\"X = \", nodes)\n",
    "    edges = torch.tensor([[x[0] for x in edge_mappings], [x[1] for x in edge_mappings]], dtype=torch.long) # Probably slow and mentally degenerated\n",
    "    geom_data = Data(x=nodes, edge_index=edges)\n",
    "    return geom_data"
   ]
  },
  {
   "cell_type": "markdown",
   "metadata": {},
   "source": [
    "#### Encoder"
   ]
  },
  {
   "cell_type": "code",
   "execution_count": null,
   "metadata": {},
   "outputs": [],
   "source": []
  },
  {
   "cell_type": "code",
   "execution_count": 236,
   "metadata": {},
   "outputs": [],
   "source": [
    "label_encoder = LabelEncoder()\n",
    "label_encoder.fit(OPERATIONS+FUNCTIONS+CLASSIC_CONSTANTS+VARIABLE_ALPHABET+TYPES)\n",
    "# --- misc\n",
    "nan_count = 0 \n",
    "sample_count = 0"
   ]
  },
  {
   "cell_type": "code",
   "execution_count": 237,
   "metadata": {},
   "outputs": [],
   "source": [
    "def sanitize_value(value):\n",
    "    if value in [\"-Infinity\",\"Infinity\", float(\"inf\"), float(\"-inf\"), \"inf\", \"-inf\"]:\n",
    "        return None\n",
    "    return value"
   ]
  },
  {
   "cell_type": "code",
   "execution_count": 238,
   "metadata": {},
   "outputs": [],
   "source": [
    "def node_attr_encoder(attr):\n",
    "    global nan_count\n",
    "    global sample_count\n",
    "    \n",
    "    def safe_label_encode(value):\n",
    "        return label_encoder.transform([value])[0] if value else -1\n",
    "\n",
    "    type_encoding = [safe_label_encode(attr.get(\"type\"))] * rep\n",
    "    subtype_encoding = [safe_label_encode(attr.get(\"subtype\"))] * rep\n",
    "    \n",
    "    value_encoding_vec = [-1] * rep  # Default to all -1 if no valid value\n",
    "    \n",
    "    if sanitize_value(attr.get(\"value\")) is not None:\n",
    "        if isinstance(attr[\"value\"], str):\n",
    "            value_encoding = safe_label_encode(attr[\"value\"])\n",
    "            value_encoding_vec = [(0 if i % 2 == 0 else value_encoding) for i in range(rep)]\n",
    "        else:\n",
    "            try:\n",
    "                val = float(attr[\"value\"])\n",
    "                if math.isfinite(val):\n",
    "                    expon = math.log10(abs(val))\n",
    "                    val = val // 10**int(expon)\n",
    "                    value_encoding_vec = [(expon if i % 2 == 1 else val) for i in range(rep)]\n",
    "                else:\n",
    "                    raise ValueError(\"Non-finite value\")\n",
    "            except (ValueError, TypeError):\n",
    "                nan_count += 1\n",
    "                value_encoding_vec = [(-1 if i % 2 == 1 else 1) for i in range(rep)]\n",
    "            finally:\n",
    "                sample_count += 1\n",
    "\n",
    "    result = type_encoding + subtype_encoding + value_encoding_vec\n",
    "    return result"
   ]
  },
  {
   "cell_type": "markdown",
   "metadata": {},
   "source": [
    "#### Loading in the dataset"
   ]
  },
  {
   "cell_type": "code",
   "execution_count": 239,
   "metadata": {},
   "outputs": [],
   "source": [
    "triplet_dataset = []"
   ]
  },
  {
   "cell_type": "code",
   "execution_count": 240,
   "metadata": {},
   "outputs": [],
   "source": [
    "# print('\"value\": Infinity,'.find(\"Infinity\"))"
   ]
  },
  {
   "cell_type": "code",
   "execution_count": 241,
   "metadata": {},
   "outputs": [],
   "source": [
    "with open(DATASET_FILEPATH) as file_handle:\n",
    "    object_data = json.load(file_handle)\n",
    "    for triplet in object_data:\n",
    "        ## TODO : check if contains infinity (triplet to str and then search for Infinity)\n",
    "        # print(triplet)\n",
    "        # print(json.dumps(triplet).find(\"inf\"))\n",
    "        \n",
    "        if json.dumps(triplet).find(\"inf\") == -1:\n",
    "            expr_true = triplet[\"expr_true\"]\n",
    "            expr_false = triplet[\"expr_false\"]\n",
    "            expr_anchor = triplet[\"expr_anchor\"]\n",
    "            geom_anchor = dict_to_geometric_representation(expr_anchor,node_attr_encoder )\n",
    "            geom_true = dict_to_geometric_representation(expr_true,node_attr_encoder )\n",
    "            geom_false = dict_to_geometric_representation(expr_false,node_attr_encoder )\n",
    "            triplet_dataset.append((geom_anchor, geom_true, geom_false))\n",
    "        \n",
    "        "
   ]
  },
  {
   "cell_type": "code",
   "execution_count": 242,
   "metadata": {},
   "outputs": [],
   "source": [
    "# with open(\"test\",\"w\") as f:\n",
    "#     f.write(str(triplet_dataset))"
   ]
  },
  {
   "cell_type": "code",
   "execution_count": null,
   "metadata": {},
   "outputs": [],
   "source": []
  },
  {
   "cell_type": "markdown",
   "metadata": {},
   "source": [
    "#### Neural network training"
   ]
  },
  {
   "cell_type": "code",
   "execution_count": 294,
   "metadata": {},
   "outputs": [],
   "source": [
    "num_features = triplet_dataset[0][0].num_features"
   ]
  },
  {
   "cell_type": "code",
   "execution_count": 504,
   "metadata": {},
   "outputs": [],
   "source": [
    "class FormulaNet(nn.Module):\n",
    "    def __init__(self, hidden_channels: int, embedding_space: int):\n",
    "        super(FormulaNet, self).__init__()\n",
    "        self.dense_1 = Linear(num_features, num_features*2) \n",
    "        self.dense_2 = Linear(num_features*2, hidden_channels) \n",
    "        \n",
    "        self.relu_1 = LeakyReLU(0.2)\n",
    "        self.gconv_1 = GCNConv(num_features*2, hidden_channels)\n",
    "        self.gconv_2 = GCNConv(hidden_channels, hidden_channels)\n",
    "        self.trans1 = TransformerConv(hidden_channels, hidden_channels, heads=1)\n",
    "        self.trans2 = TransformerConv(hidden_channels, hidden_channels, heads=1)\n",
    "        self.layer_norm = LayerNorm(in_channels=hidden_channels)\n",
    "        \n",
    "        self.dense_3 = Linear(hidden_channels, embedding_space)\n",
    "        gain = torch.nn.init.calculate_gain(\"leaky_relu\", 0.2)\n",
    "        # Initialize dense_1 weights\n",
    "        init.xavier_uniform_(self.dense_1.weight, gain=gain)\n",
    "        init.xavier_uniform_(self.dense_2.weight, gain=gain)\n",
    "        # # Initialize gconv_1 weights\n",
    "        init.xavier_uniform_(self.gconv_1.lin.weight.data.T, gain=gain)\n",
    "        # # Initialize gconv_2 weights\n",
    "        init.xavier_uniform_(self.gconv_2.lin.weight.data.T, gain=gain)\n",
    "        #Initialize dense_3 weights\n",
    "        init.xavier_uniform_(self.dense_3.weight, gain=gain)\n",
    "    \n",
    "    def forward(self, x, edge_index, batch):\n",
    "        if not torch.all(torch.isfinite(x)):\n",
    "            print(\"INPUT CONTAINS INFINITE VALUE\")\n",
    "            #print(\"x = \", x)\n",
    "            \n",
    "\n",
    "\n",
    "        nan_mask = torch.isnan(x)\n",
    "        if nan_mask.any():\n",
    "            print(\"Some values of the input are nan: \", x[nan_mask])\n",
    "            # Replace NaNs with 0s\n",
    "            x[nan_mask] = -11\n",
    "            \n",
    "        \n",
    "        xd = self.dense_1(x)\n",
    "        xd = self.relu_1(xd)\n",
    "        \n",
    "        xd = self.dense_2(xd)\n",
    "        xd = self.relu_1(xd)\n",
    "        xc = xd\n",
    "        # xc = self.gconv_1(xd, edge_index)\n",
    "        # xc = self.relu_1(xc)\n",
    "        # xc = self.gconv_2(xc, edge_index)\n",
    "        # xc = self.relu_1(xc)\n",
    "        xt = self.trans1(xc, edge_index)\n",
    "        xt = self.layer_norm(xt)\n",
    "        xt = self.relu_1(xt) + xc\n",
    "        \n",
    "        xt2 = self.trans2(xt, edge_index)\n",
    "        xt2 = self.layer_norm(xt2)\n",
    "        xt2 = self.relu_1(xt2) + xt\n",
    "        \n",
    "        # xc = self.gconv_3(xc, edge_index)\n",
    "        # xc = self.relu_1(xc)\n",
    "        xp = global_mean_pool(xt, batch)\n",
    "        xp = F.dropout(xp, p=0.4,training=self.training)\n",
    "        xp = self.dense_3(xp)\n",
    "        xp = self.relu_1(xp)\n",
    "        # nan_mask = torch.isnan(x)\n",
    "        # if nan_mask.any():\n",
    "        #     print(\"Some values of the input are nan: \", x[nan_mask])\n",
    "            \n",
    "        return xp\n",
    "    "
   ]
  },
  {
   "cell_type": "code",
   "execution_count": 505,
   "metadata": {},
   "outputs": [],
   "source": [
    "class TripletFormulaNet(nn.Module):\n",
    "    def __init__(self, hidden_channels, embedding_space):\n",
    "        super(TripletFormulaNet, self).__init__()\n",
    "        self.formulanet = FormulaNet(hidden_channels, embedding_space)\n",
    "\n",
    "    def forward(self, anchor, positive, negative):\n",
    "        # Compute the embeddings for the anchor, positive, and negative inputs\n",
    "        embed_anchor = self.formulanet(anchor.x, anchor.edge_index, anchor.batch)\n",
    "        embed_positive = self.formulanet(positive.x, positive.edge_index, positive.batch)\n",
    "        embed_negative = self.formulanet(negative.x, negative.edge_index, negative.batch)\n",
    "        \n",
    "        return embed_anchor, embed_positive, embed_negative"
   ]
  },
  {
   "cell_type": "markdown",
   "metadata": {},
   "source": [
    "#### Training"
   ]
  },
  {
   "cell_type": "code",
   "execution_count": 506,
   "metadata": {},
   "outputs": [],
   "source": [
    "# ## CHECK DATASET:\n",
    "# with open(\"test\", \"w\") as f:\n",
    "#     for a, b,c in triplet_dataset:\n",
    "#         f.write(str(a.x) + \"\\n\" + str(b.x) + \"\\n\" + str(c.x) + \"\\n\")"
   ]
  },
  {
   "cell_type": "code",
   "execution_count": 557,
   "metadata": {},
   "outputs": [],
   "source": [
    "def triplet_loss(anchor, positive, negative, margin=1.0):\n",
    "    \"\"\"\n",
    "    Triplet loss function.\n",
    "    \n",
    "    Args:\n",
    "        anchor (torch.Tensor): Embedding of the anchor data point.\n",
    "        positive (torch.Tensor): Embedding of the positive data point (same class as anchor).\n",
    "        negative (torch.Tensor): Embedding of the negative data point (different class from anchor).\n",
    "        margin (float, optional): Margin value for triplet loss. Defaults to 1.0.\n",
    "        \n",
    "    Returns:\n",
    "        torch.Tensor: Triplet loss value.\n",
    "    \"\"\"\n",
    "    \n",
    "    # Calculate the Euclidean distances between the embeddings\n",
    "    distance_positive = DISTANCE_FUNC(anchor, positive)\n",
    "    distance_negative = DISTANCE_FUNC(anchor, negative)\n",
    "    \n",
    "    # Calculate the triplet loss\n",
    "    losses = F.relu(distance_positive - distance_negative + margin)\n",
    "    \n",
    "    return losses.mean()"
   ]
  },
  {
   "cell_type": "code",
   "execution_count": 508,
   "metadata": {},
   "outputs": [],
   "source": [
    "total_len = len(triplet_dataset)\n",
    "train_len = int(TRAIN_RATIO * total_len)\n",
    "val_len = int(VAL_RATIO * total_len)\n",
    "test_len = total_len - train_len - val_len\n",
    "\n",
    "train_dataset, val_dataset, test_dataset = random_split(triplet_dataset, [train_len, val_len, test_len])"
   ]
  },
  {
   "cell_type": "code",
   "execution_count": 509,
   "metadata": {},
   "outputs": [],
   "source": [
    "def collate(data_list):\n",
    "    batchA = Batch.from_data_list([data[0] for data in data_list])\n",
    "    batchB = Batch.from_data_list([data[1] for data in data_list])\n",
    "    batchC = Batch.from_data_list([data[2] for data in data_list])\n",
    "    return batchA, batchB, batchC"
   ]
  },
  {
   "cell_type": "code",
   "execution_count": 510,
   "metadata": {},
   "outputs": [],
   "source": [
    "train_loader = DataLoader(train_dataset, batch_size=BATCH_SIZE, shuffle=True, collate_fn=collate)\n",
    "validation_loader = DataLoader(val_dataset, batch_size=BATCH_SIZE, shuffle= False, collate_fn=collate)"
   ]
  },
  {
   "cell_type": "code",
   "execution_count": 511,
   "metadata": {},
   "outputs": [],
   "source": [
    "device = torch.device(\"cpu\") #torch.device(\"cuda\" if torch.cuda.is_available() else \"cpu\")"
   ]
  },
  {
   "cell_type": "code",
   "execution_count": 512,
   "metadata": {},
   "outputs": [],
   "source": [
    "model = TripletFormulaNet(32,32).to(device)"
   ]
  },
  {
   "cell_type": "code",
   "execution_count": 513,
   "metadata": {},
   "outputs": [],
   "source": [
    "optimizer = torch.optim.Adam(model.parameters(), lr=0.08)\n",
    "scheduler = lr_scheduler.LinearLR(optimizer, start_factor=1.0, end_factor=0.01, total_iters=20)"
   ]
  },
  {
   "cell_type": "code",
   "execution_count": 514,
   "metadata": {},
   "outputs": [],
   "source": [
    "from tqdm import tqdm"
   ]
  },
  {
   "cell_type": "code",
   "execution_count": 515,
   "metadata": {},
   "outputs": [],
   "source": [
    "training_loss = []  # Store training loss per epoch\n",
    "validation_loss = []  # Store validation loss per epoch"
   ]
  },
  {
   "cell_type": "code",
   "execution_count": 558,
   "metadata": {},
   "outputs": [],
   "source": [
    "def train(epoch):\n",
    "    model.train()\n",
    "    epoch_loss = 0\n",
    "    for batch_anchor, batch_positive, batch_negative in tqdm(train_loader, desc=f'Epoch {epoch}'):\n",
    "\n",
    "        batch_anchor, batch_positive, batch_negative = batch_anchor.to(device), batch_positive.to(device), batch_negative.to(device)\n",
    "        optimizer.zero_grad()\n",
    "        embed_anchor, embed_positive, embed_negative = model(batch_anchor, batch_positive, batch_negative)\n",
    "        loss = triplet_loss(embed_anchor, embed_positive, embed_negative, margin=margin)\n",
    "        loss.backward()\n",
    "        writer.add_scalar(\"Loss/train\", loss, epoch)\n",
    "        \n",
    "        # Log gradients\n",
    "        for name, param in model.formulanet.named_parameters():\n",
    "            if param.grad is not None and param.grad.numel() > 0:\n",
    "                writer.add_histogram(f'{name}.grad', param.grad, epoch)\n",
    "        torch.nn.utils.clip_grad_norm_(model.parameters(), max_norm=1.0)\n",
    "        optimizer.step()\n",
    "        epoch_loss += loss.item()\n",
    "    scheduler.step(epoch)\n",
    "    training_loss.append(epoch_loss / len(train_loader))  # Store epoch average loss\n",
    "    print(f'Epoch {epoch}, Loss: {epoch_loss / len(train_loader)}')"
   ]
  },
  {
   "cell_type": "code",
   "execution_count": 665,
   "metadata": {},
   "outputs": [],
   "source": [
    "def validate(model, validation_loader, device):\n",
    "    model.eval()\n",
    "    triplet_loss_tot = 0\n",
    "    correct_triplets = 0\n",
    "    total_triplets = 0\n",
    "    total_dist_pos = 0\n",
    "    total_dist_neg = 0\n",
    "    \n",
    "\n",
    "    with torch.no_grad():\n",
    "        for batch_anchor, batch_positive, batch_negative in validation_loader:\n",
    "            batch_anchor, batch_positive, batch_negative = batch_anchor.to(device), batch_positive.to(device), batch_negative.to(device)\n",
    "            embed_anchor, embed_positive, embed_negative = model(batch_anchor, batch_positive, batch_negative)\n",
    "\n",
    "            # Compute triplet loss\n",
    "            loss = triplet_loss(embed_anchor, embed_positive, embed_negative, margin=margin)\n",
    "            triplet_loss_tot += loss.item() * batch_anchor.size(0)\n",
    "\n",
    "            # Compute triplet accuracy\n",
    "            distance_positive = DISTANCE_FUNC(embed_anchor, embed_positive)\n",
    "            total_dist_pos += distance_positive.sum().item()\n",
    "            distance_negative = DISTANCE_FUNC(embed_anchor, embed_negative)\n",
    "            total_dist_neg += distance_negative.sum().item()\n",
    "            correct_triplets += (distance_positive < distance_negative).sum().item() ## WARNING: FLIP THIS FOR PAIRWISE DISTANCE\n",
    "            total_triplets += distance_positive.size(0)\n",
    "\n",
    "    triplet_loss_tot /= len(validation_loader.dataset)\n",
    "    triplet_accuracy = correct_triplets / total_triplets\n",
    "\n",
    "    print(f'Validation Triplet Loss: {triplet_loss_tot}, Total Positive: {total_dist_pos}, Total Negative: {total_dist_neg}, Triplet Accuracy: {triplet_accuracy}')\n",
    "\n",
    "    return triplet_loss_tot, triplet_accuracy"
   ]
  },
  {
   "cell_type": "code",
   "execution_count": 666,
   "metadata": {},
   "outputs": [],
   "source": [
    "import os\n",
    "os.environ['CUDA_LAUNCH_BLOCKING'] = \"1\""
   ]
  },
  {
   "cell_type": "code",
   "execution_count": 667,
   "metadata": {},
   "outputs": [
    {
     "name": "stderr",
     "output_type": "stream",
     "text": [
      "Epoch 0: 100%|██████████| 242/242 [00:21<00:00, 11.51it/s]\n",
      "C:\\Users\\Abderrahmane\\AppData\\Roaming\\Python\\Python311\\site-packages\\torch\\optim\\lr_scheduler.py:149: UserWarning: The epoch parameter in `scheduler.step()` was not necessary and is being deprecated where possible. Please use `scheduler.step()` to step the scheduler. During the deprecation, if epoch is different from None, the closed form is used instead of the new chainable form, where available. Please open an issue if you are unable to replicate your use case: https://github.com/pytorch/pytorch/issues/new/choose.\n",
      "  warnings.warn(EPOCH_DEPRECATION_WARNING, UserWarning)\n"
     ]
    },
    {
     "name": "stdout",
     "output_type": "stream",
     "text": [
      "Epoch 0, Loss: 30.063697422092613\n",
      "Validation Triplet Loss: 0.0, Total Positive: 7992883.0, Total Negative: 344426187.0, Triplet Accuracy: 1.0\n"
     ]
    },
    {
     "name": "stderr",
     "output_type": "stream",
     "text": [
      "Epoch 1: 100%|██████████| 242/242 [00:28<00:00,  8.59it/s]\n"
     ]
    },
    {
     "name": "stdout",
     "output_type": "stream",
     "text": [
      "Epoch 1, Loss: 481.9965731122277\n",
      "Validation Triplet Loss: 230.98377247522043, Total Positive: 27894855.46875, Total Negative: 276834152.0, Triplet Accuracy: 0.9988372093023256\n"
     ]
    },
    {
     "name": "stderr",
     "output_type": "stream",
     "text": [
      "Epoch 2: 100%|██████████| 242/242 [00:25<00:00,  9.56it/s]\n"
     ]
    },
    {
     "name": "stdout",
     "output_type": "stream",
     "text": [
      "Epoch 2, Loss: 161.93854469922948\n",
      "Validation Triplet Loss: 13.006577201152957, Total Positive: 31894754.03125, Total Negative: 488497330.0, Triplet Accuracy: 0.9995639534883721\n"
     ]
    },
    {
     "name": "stderr",
     "output_type": "stream",
     "text": [
      "Epoch 3: 100%|██████████| 242/242 [00:23<00:00, 10.49it/s]\n"
     ]
    },
    {
     "name": "stdout",
     "output_type": "stream",
     "text": [
      "Epoch 3, Loss: 71.02616464469797\n",
      "Validation Triplet Loss: 39.67728822952093, Total Positive: 24611526.40625, Total Negative: 383518867.0, Triplet Accuracy: 0.9995639534883721\n"
     ]
    },
    {
     "name": "stderr",
     "output_type": "stream",
     "text": [
      "Epoch 4: 100%|██████████| 242/242 [00:23<00:00, 10.51it/s]\n"
     ]
    },
    {
     "name": "stdout",
     "output_type": "stream",
     "text": [
      "Epoch 4, Loss: 52.593781448531246\n",
      "Validation Triplet Loss: 163.06359451427016, Total Positive: 27953039.25, Total Negative: 422779087.0, Triplet Accuracy: 0.9991279069767441\n"
     ]
    },
    {
     "name": "stderr",
     "output_type": "stream",
     "text": [
      "Epoch 5: 100%|██████████| 242/242 [00:21<00:00, 11.10it/s]\n"
     ]
    },
    {
     "name": "stdout",
     "output_type": "stream",
     "text": [
      "Epoch 5, Loss: 35.514980834624\n",
      "Validation Triplet Loss: 0.06969922392000985, Total Positive: 23358191.1875, Total Negative: 623367506.0, Triplet Accuracy: 0.9998546511627907\n"
     ]
    },
    {
     "name": "stderr",
     "output_type": "stream",
     "text": [
      "Epoch 6: 100%|██████████| 242/242 [00:22<00:00, 10.99it/s]\n"
     ]
    },
    {
     "name": "stdout",
     "output_type": "stream",
     "text": [
      "Epoch 6, Loss: 23.22179131985696\n",
      "Validation Triplet Loss: 0.0, Total Positive: 28204556.0, Total Negative: 512559648.0, Triplet Accuracy: 1.0\n"
     ]
    },
    {
     "name": "stderr",
     "output_type": "stream",
     "text": [
      "Epoch 7: 100%|██████████| 242/242 [00:21<00:00, 11.31it/s]\n"
     ]
    },
    {
     "name": "stdout",
     "output_type": "stream",
     "text": [
      "Epoch 7, Loss: 17.389588415314837\n",
      "Validation Triplet Loss: 0.0, Total Positive: 24106878.875, Total Negative: 508957399.0, Triplet Accuracy: 1.0\n"
     ]
    },
    {
     "name": "stderr",
     "output_type": "stream",
     "text": [
      "Epoch 8: 100%|██████████| 242/242 [00:21<00:00, 11.37it/s]\n"
     ]
    },
    {
     "name": "stdout",
     "output_type": "stream",
     "text": [
      "Epoch 8, Loss: 217.73738372030337\n",
      "Validation Triplet Loss: 0.0, Total Positive: 31487323.25, Total Negative: 600619147.0, Triplet Accuracy: 1.0\n"
     ]
    },
    {
     "name": "stderr",
     "output_type": "stream",
     "text": [
      "Epoch 9: 100%|██████████| 242/242 [00:21<00:00, 11.08it/s]\n"
     ]
    },
    {
     "name": "stdout",
     "output_type": "stream",
     "text": [
      "Epoch 9, Loss: 15.38154704142208\n",
      "Validation Triplet Loss: 2.1916814277338426, Total Positive: 22137353.1875, Total Negative: 475578692.0, Triplet Accuracy: 0.9997093023255814\n"
     ]
    },
    {
     "name": "stderr",
     "output_type": "stream",
     "text": [
      "Epoch 10: 100%|██████████| 242/242 [00:21<00:00, 11.08it/s]\n"
     ]
    },
    {
     "name": "stdout",
     "output_type": "stream",
     "text": [
      "Epoch 10, Loss: 12.777739079530575\n",
      "Validation Triplet Loss: 0.0, Total Positive: 29297259.1875, Total Negative: 538301194.0, Triplet Accuracy: 1.0\n"
     ]
    },
    {
     "name": "stderr",
     "output_type": "stream",
     "text": [
      "Epoch 11: 100%|██████████| 242/242 [00:20<00:00, 11.62it/s]\n"
     ]
    },
    {
     "name": "stdout",
     "output_type": "stream",
     "text": [
      "Epoch 11, Loss: 9.441539081660183\n",
      "Validation Triplet Loss: 0.0, Total Positive: 20829352.40625, Total Negative: 570778992.0, Triplet Accuracy: 1.0\n"
     ]
    },
    {
     "name": "stderr",
     "output_type": "stream",
     "text": [
      "Epoch 12: 100%|██████████| 242/242 [00:24<00:00, 10.06it/s]\n"
     ]
    },
    {
     "name": "stdout",
     "output_type": "stream",
     "text": [
      "Epoch 12, Loss: 15.538283782557022\n",
      "Validation Triplet Loss: 18.902538000151168, Total Positive: 24916791.5625, Total Negative: 493266826.0, Triplet Accuracy: 0.9997093023255814\n"
     ]
    },
    {
     "name": "stderr",
     "output_type": "stream",
     "text": [
      "Epoch 13: 100%|██████████| 242/242 [00:25<00:00,  9.42it/s]\n"
     ]
    },
    {
     "name": "stdout",
     "output_type": "stream",
     "text": [
      "Epoch 13, Loss: 6.530799108842188\n",
      "Validation Triplet Loss: 0.0, Total Positive: 20598192.53125, Total Negative: 555266644.0, Triplet Accuracy: 1.0\n"
     ]
    },
    {
     "name": "stderr",
     "output_type": "stream",
     "text": [
      "Epoch 14: 100%|██████████| 242/242 [00:25<00:00,  9.51it/s]\n"
     ]
    },
    {
     "name": "stdout",
     "output_type": "stream",
     "text": [
      "Epoch 14, Loss: 0.5559566112096644\n",
      "Validation Triplet Loss: 589.6643986435823, Total Positive: 17791293.375, Total Negative: 540516440.0, Triplet Accuracy: 0.9991279069767441\n"
     ]
    },
    {
     "name": "stderr",
     "output_type": "stream",
     "text": [
      "Epoch 15: 100%|██████████| 242/242 [00:24<00:00,  9.90it/s]\n"
     ]
    },
    {
     "name": "stdout",
     "output_type": "stream",
     "text": [
      "Epoch 15, Loss: 2.282290394641151\n",
      "Validation Triplet Loss: 0.0, Total Positive: 17950666.75, Total Negative: 580590590.0, Triplet Accuracy: 1.0\n"
     ]
    },
    {
     "name": "stderr",
     "output_type": "stream",
     "text": [
      "Epoch 16: 100%|██████████| 242/242 [00:25<00:00,  9.57it/s]\n"
     ]
    },
    {
     "name": "stdout",
     "output_type": "stream",
     "text": [
      "Epoch 16, Loss: 0.9761088911659461\n",
      "Validation Triplet Loss: 0.0, Total Positive: 15244991.5625, Total Negative: 527902710.0, Triplet Accuracy: 1.0\n"
     ]
    },
    {
     "name": "stderr",
     "output_type": "stream",
     "text": [
      "Epoch 17: 100%|██████████| 242/242 [00:24<00:00, 10.03it/s]\n"
     ]
    },
    {
     "name": "stdout",
     "output_type": "stream",
     "text": [
      "Epoch 17, Loss: 2.217487446779062\n",
      "Validation Triplet Loss: 0.0, Total Positive: 15809339.5, Total Negative: 633774654.0, Triplet Accuracy: 1.0\n"
     ]
    },
    {
     "name": "stderr",
     "output_type": "stream",
     "text": [
      "Epoch 18: 100%|██████████| 242/242 [00:25<00:00,  9.60it/s]\n"
     ]
    },
    {
     "name": "stdout",
     "output_type": "stream",
     "text": [
      "Epoch 18, Loss: 0.8506611033904651\n",
      "Validation Triplet Loss: 0.0, Total Positive: 14238225.46875, Total Negative: 575638500.0, Triplet Accuracy: 1.0\n"
     ]
    },
    {
     "name": "stderr",
     "output_type": "stream",
     "text": [
      "Epoch 19: 100%|██████████| 242/242 [00:25<00:00,  9.47it/s]\n"
     ]
    },
    {
     "name": "stdout",
     "output_type": "stream",
     "text": [
      "Epoch 19, Loss: 0.0963055338741334\n",
      "Validation Triplet Loss: 0.0, Total Positive: 13006113.09375, Total Negative: 511959101.0, Triplet Accuracy: 1.0\n"
     ]
    },
    {
     "name": "stderr",
     "output_type": "stream",
     "text": [
      "Epoch 20: 100%|██████████| 242/242 [00:24<00:00,  9.71it/s]\n"
     ]
    },
    {
     "name": "stdout",
     "output_type": "stream",
     "text": [
      "Epoch 20, Loss: 123.38641229739859\n",
      "Validation Triplet Loss: 0.0, Total Positive: 12836765.984375, Total Negative: 550946918.0, Triplet Accuracy: 1.0\n"
     ]
    },
    {
     "name": "stderr",
     "output_type": "stream",
     "text": [
      "Epoch 21: 100%|██████████| 242/242 [00:25<00:00,  9.50it/s]\n"
     ]
    },
    {
     "name": "stdout",
     "output_type": "stream",
     "text": [
      "Epoch 21, Loss: 0.305904793541509\n",
      "Validation Triplet Loss: 0.0, Total Positive: 12849269.046875, Total Negative: 563387512.0, Triplet Accuracy: 1.0\n"
     ]
    },
    {
     "name": "stderr",
     "output_type": "stream",
     "text": [
      "Epoch 22: 100%|██████████| 242/242 [00:25<00:00,  9.64it/s]\n"
     ]
    },
    {
     "name": "stdout",
     "output_type": "stream",
     "text": [
      "Epoch 22, Loss: 0.0\n",
      "Validation Triplet Loss: 0.0, Total Positive: 12867070.953125, Total Negative: 564021614.0, Triplet Accuracy: 1.0\n"
     ]
    },
    {
     "name": "stderr",
     "output_type": "stream",
     "text": [
      "Epoch 23: 100%|██████████| 242/242 [00:25<00:00,  9.45it/s]\n"
     ]
    },
    {
     "name": "stdout",
     "output_type": "stream",
     "text": [
      "Epoch 23, Loss: 0.21064087970197692\n",
      "Validation Triplet Loss: 0.0, Total Positive: 12985252.421875, Total Negative: 569424738.0, Triplet Accuracy: 1.0\n"
     ]
    },
    {
     "name": "stderr",
     "output_type": "stream",
     "text": [
      "Epoch 24: 100%|██████████| 242/242 [00:25<00:00,  9.64it/s]\n"
     ]
    },
    {
     "name": "stdout",
     "output_type": "stream",
     "text": [
      "Epoch 24, Loss: 0.17763658988574318\n",
      "Validation Triplet Loss: 0.0, Total Positive: 12982321.609375, Total Negative: 573304578.0, Triplet Accuracy: 1.0\n"
     ]
    },
    {
     "name": "stderr",
     "output_type": "stream",
     "text": [
      "Epoch 25: 100%|██████████| 242/242 [00:27<00:00,  8.73it/s]\n"
     ]
    },
    {
     "name": "stdout",
     "output_type": "stream",
     "text": [
      "Epoch 25, Loss: 0.11784408112202795\n",
      "Validation Triplet Loss: 0.0, Total Positive: 12887673.296875, Total Negative: 569723678.0, Triplet Accuracy: 1.0\n"
     ]
    },
    {
     "name": "stderr",
     "output_type": "stream",
     "text": [
      "Epoch 26: 100%|██████████| 242/242 [00:20<00:00, 11.90it/s]\n"
     ]
    },
    {
     "name": "stdout",
     "output_type": "stream",
     "text": [
      "Epoch 26, Loss: 0.12685945112843158\n",
      "Validation Triplet Loss: 0.0, Total Positive: 12622971.796875, Total Negative: 566891288.0, Triplet Accuracy: 1.0\n"
     ]
    },
    {
     "name": "stderr",
     "output_type": "stream",
     "text": [
      "Epoch 27: 100%|██████████| 242/242 [00:20<00:00, 11.83it/s]\n"
     ]
    },
    {
     "name": "stdout",
     "output_type": "stream",
     "text": [
      "Epoch 27, Loss: 0.12632038967668519\n",
      "Validation Triplet Loss: 0.0, Total Positive: 12650957.515625, Total Negative: 567275488.0, Triplet Accuracy: 1.0\n"
     ]
    },
    {
     "name": "stderr",
     "output_type": "stream",
     "text": [
      "Epoch 28: 100%|██████████| 242/242 [00:20<00:00, 11.97it/s]\n"
     ]
    },
    {
     "name": "stdout",
     "output_type": "stream",
     "text": [
      "Epoch 28, Loss: 0.07995320942776263\n",
      "Validation Triplet Loss: 0.0, Total Positive: 12713020.515625, Total Negative: 562902050.0, Triplet Accuracy: 1.0\n"
     ]
    },
    {
     "name": "stderr",
     "output_type": "stream",
     "text": [
      "Epoch 29: 100%|██████████| 242/242 [00:20<00:00, 11.87it/s]\n"
     ]
    },
    {
     "name": "stdout",
     "output_type": "stream",
     "text": [
      "Epoch 29, Loss: 10.302037392766023\n",
      "Validation Triplet Loss: 0.0, Total Positive: 12537609.390625, Total Negative: 567839508.0, Triplet Accuracy: 1.0\n"
     ]
    },
    {
     "name": "stderr",
     "output_type": "stream",
     "text": [
      "Epoch 30: 100%|██████████| 242/242 [00:20<00:00, 11.60it/s]\n"
     ]
    },
    {
     "name": "stdout",
     "output_type": "stream",
     "text": [
      "Epoch 30, Loss: 0.32270776240293647\n",
      "Validation Triplet Loss: 0.0, Total Positive: 12331730.5625, Total Negative: 561376348.0, Triplet Accuracy: 1.0\n"
     ]
    },
    {
     "name": "stderr",
     "output_type": "stream",
     "text": [
      "Epoch 31: 100%|██████████| 242/242 [00:21<00:00, 11.00it/s]\n"
     ]
    },
    {
     "name": "stdout",
     "output_type": "stream",
     "text": [
      "Epoch 31, Loss: 0.5612136608312938\n",
      "Validation Triplet Loss: 0.0, Total Positive: 11797181.890625, Total Negative: 544152732.0, Triplet Accuracy: 1.0\n"
     ]
    },
    {
     "name": "stderr",
     "output_type": "stream",
     "text": [
      "Epoch 32: 100%|██████████| 242/242 [00:21<00:00, 11.44it/s]\n"
     ]
    },
    {
     "name": "stdout",
     "output_type": "stream",
     "text": [
      "Epoch 32, Loss: 0.0\n",
      "Validation Triplet Loss: 0.0, Total Positive: 11811612.21875, Total Negative: 548568328.0, Triplet Accuracy: 1.0\n"
     ]
    },
    {
     "name": "stderr",
     "output_type": "stream",
     "text": [
      "Epoch 33: 100%|██████████| 242/242 [00:19<00:00, 12.18it/s]\n"
     ]
    },
    {
     "name": "stdout",
     "output_type": "stream",
     "text": [
      "Epoch 33, Loss: 0.11422355312946414\n",
      "Validation Triplet Loss: 0.0, Total Positive: 11800251.09375, Total Negative: 539813376.0, Triplet Accuracy: 1.0\n"
     ]
    },
    {
     "name": "stderr",
     "output_type": "stream",
     "text": [
      "Epoch 34: 100%|██████████| 242/242 [00:19<00:00, 12.22it/s]\n"
     ]
    },
    {
     "name": "stdout",
     "output_type": "stream",
     "text": [
      "Epoch 34, Loss: 0.6316942676039766\n",
      "Validation Triplet Loss: 0.0, Total Positive: 11134501.84375, Total Negative: 545601266.0, Triplet Accuracy: 1.0\n"
     ]
    },
    {
     "name": "stderr",
     "output_type": "stream",
     "text": [
      "Epoch 35: 100%|██████████| 242/242 [00:19<00:00, 12.25it/s]\n"
     ]
    },
    {
     "name": "stdout",
     "output_type": "stream",
     "text": [
      "Epoch 35, Loss: 98.1524522375962\n",
      "Validation Triplet Loss: 0.0, Total Positive: 10834984.125, Total Negative: 532480482.0, Triplet Accuracy: 1.0\n"
     ]
    },
    {
     "name": "stderr",
     "output_type": "stream",
     "text": [
      "Epoch 36: 100%|██████████| 242/242 [00:19<00:00, 12.35it/s]\n"
     ]
    },
    {
     "name": "stdout",
     "output_type": "stream",
     "text": [
      "Epoch 36, Loss: 0.05073478694789666\n",
      "Validation Triplet Loss: 0.0, Total Positive: 10903902.0, Total Negative: 533587226.0, Triplet Accuracy: 1.0\n"
     ]
    },
    {
     "name": "stderr",
     "output_type": "stream",
     "text": [
      "Epoch 37: 100%|██████████| 242/242 [00:19<00:00, 12.39it/s]\n"
     ]
    },
    {
     "name": "stdout",
     "output_type": "stream",
     "text": [
      "Epoch 37, Loss: 0.031490868773342166\n",
      "Validation Triplet Loss: 0.0, Total Positive: 10920936.0, Total Negative: 533448994.0, Triplet Accuracy: 1.0\n"
     ]
    },
    {
     "name": "stderr",
     "output_type": "stream",
     "text": [
      "Epoch 38: 100%|██████████| 242/242 [00:19<00:00, 12.36it/s]\n"
     ]
    },
    {
     "name": "stdout",
     "output_type": "stream",
     "text": [
      "Epoch 38, Loss: 0.09310223445419438\n",
      "Validation Triplet Loss: 0.0, Total Positive: 10815254.78125, Total Negative: 530088638.0, Triplet Accuracy: 1.0\n"
     ]
    },
    {
     "name": "stderr",
     "output_type": "stream",
     "text": [
      "Epoch 39: 100%|██████████| 242/242 [00:19<00:00, 12.46it/s]\n"
     ]
    },
    {
     "name": "stdout",
     "output_type": "stream",
     "text": [
      "Epoch 39, Loss: 0.14928761395541104\n",
      "Validation Triplet Loss: 0.0, Total Positive: 10762144.609375, Total Negative: 528344314.0, Triplet Accuracy: 1.0\n"
     ]
    },
    {
     "name": "stderr",
     "output_type": "stream",
     "text": [
      "Epoch 40: 100%|██████████| 242/242 [00:19<00:00, 12.44it/s]\n"
     ]
    },
    {
     "name": "stdout",
     "output_type": "stream",
     "text": [
      "Epoch 40, Loss: 0.017483013720551797\n",
      "Validation Triplet Loss: 0.0, Total Positive: 10718001.609375, Total Negative: 525901648.0, Triplet Accuracy: 1.0\n"
     ]
    },
    {
     "name": "stderr",
     "output_type": "stream",
     "text": [
      "Epoch 41: 100%|██████████| 242/242 [00:19<00:00, 12.32it/s]\n"
     ]
    },
    {
     "name": "stdout",
     "output_type": "stream",
     "text": [
      "Epoch 41, Loss: 0.16914404423768856\n",
      "Validation Triplet Loss: 0.0, Total Positive: 10562555.3125, Total Negative: 519711588.0, Triplet Accuracy: 1.0\n"
     ]
    },
    {
     "name": "stderr",
     "output_type": "stream",
     "text": [
      "Epoch 42: 100%|██████████| 242/242 [00:19<00:00, 12.25it/s]\n"
     ]
    },
    {
     "name": "stdout",
     "output_type": "stream",
     "text": [
      "Epoch 42, Loss: 188.15617702026998\n",
      "Validation Triplet Loss: 0.0, Total Positive: 10298843.125, Total Negative: 476628623.0, Triplet Accuracy: 1.0\n"
     ]
    },
    {
     "name": "stderr",
     "output_type": "stream",
     "text": [
      "Epoch 43: 100%|██████████| 242/242 [00:19<00:00, 12.12it/s]\n"
     ]
    },
    {
     "name": "stdout",
     "output_type": "stream",
     "text": [
      "Epoch 43, Loss: 0.1415820496141418\n",
      "Validation Triplet Loss: 0.0, Total Positive: 10383622.546875, Total Negative: 493107421.0, Triplet Accuracy: 1.0\n"
     ]
    },
    {
     "name": "stderr",
     "output_type": "stream",
     "text": [
      "Epoch 44: 100%|██████████| 242/242 [00:19<00:00, 12.28it/s]\n"
     ]
    },
    {
     "name": "stdout",
     "output_type": "stream",
     "text": [
      "Epoch 44, Loss: 0.05883367396583242\n",
      "Validation Triplet Loss: 0.0, Total Positive: 10553664.109375, Total Negative: 487029086.0, Triplet Accuracy: 1.0\n"
     ]
    },
    {
     "name": "stderr",
     "output_type": "stream",
     "text": [
      "Epoch 45: 100%|██████████| 242/242 [00:19<00:00, 12.28it/s]\n"
     ]
    },
    {
     "name": "stdout",
     "output_type": "stream",
     "text": [
      "Epoch 45, Loss: 0.10099674970650475\n",
      "Validation Triplet Loss: 0.0, Total Positive: 10401361.765625, Total Negative: 515963352.0, Triplet Accuracy: 1.0\n"
     ]
    },
    {
     "name": "stderr",
     "output_type": "stream",
     "text": [
      "Epoch 46: 100%|██████████| 242/242 [00:19<00:00, 12.42it/s]\n"
     ]
    },
    {
     "name": "stdout",
     "output_type": "stream",
     "text": [
      "Epoch 46, Loss: 0.02045152601131723\n",
      "Validation Triplet Loss: 0.0, Total Positive: 10588242.375, Total Negative: 521460280.0, Triplet Accuracy: 1.0\n"
     ]
    },
    {
     "name": "stderr",
     "output_type": "stream",
     "text": [
      "Epoch 47: 100%|██████████| 242/242 [00:19<00:00, 12.24it/s]\n"
     ]
    },
    {
     "name": "stdout",
     "output_type": "stream",
     "text": [
      "Epoch 47, Loss: 187.00983363069778\n",
      "Validation Triplet Loss: 0.0, Total Positive: 10074548.484375, Total Negative: 478343705.0, Triplet Accuracy: 1.0\n"
     ]
    },
    {
     "name": "stderr",
     "output_type": "stream",
     "text": [
      "Epoch 48: 100%|██████████| 242/242 [00:19<00:00, 12.14it/s]\n"
     ]
    },
    {
     "name": "stdout",
     "output_type": "stream",
     "text": [
      "Epoch 48, Loss: 0.17456277539907408\n",
      "Validation Triplet Loss: 0.0, Total Positive: 9761718.75, Total Negative: 478482020.0, Triplet Accuracy: 1.0\n"
     ]
    },
    {
     "name": "stderr",
     "output_type": "stream",
     "text": [
      "Epoch 49: 100%|██████████| 242/242 [00:19<00:00, 12.31it/s]\n"
     ]
    },
    {
     "name": "stdout",
     "output_type": "stream",
     "text": [
      "Epoch 49, Loss: 0.3299542360069338\n",
      "Validation Triplet Loss: 0.0, Total Positive: 9937380.1875, Total Negative: 489701593.0, Triplet Accuracy: 1.0\n"
     ]
    },
    {
     "name": "stderr",
     "output_type": "stream",
     "text": [
      "Epoch 50: 100%|██████████| 242/242 [00:19<00:00, 12.42it/s]\n"
     ]
    },
    {
     "name": "stdout",
     "output_type": "stream",
     "text": [
      "Epoch 50, Loss: 0.10998728649675353\n",
      "Validation Triplet Loss: 0.0, Total Positive: 9772401.296875, Total Negative: 477137252.0, Triplet Accuracy: 1.0\n"
     ]
    },
    {
     "name": "stderr",
     "output_type": "stream",
     "text": [
      "Epoch 51: 100%|██████████| 242/242 [00:19<00:00, 12.49it/s]\n"
     ]
    },
    {
     "name": "stdout",
     "output_type": "stream",
     "text": [
      "Epoch 51, Loss: 0.216432752688069\n",
      "Validation Triplet Loss: 0.0, Total Positive: 9656247.328125, Total Negative: 474152201.0, Triplet Accuracy: 1.0\n"
     ]
    },
    {
     "name": "stderr",
     "output_type": "stream",
     "text": [
      "Epoch 52: 100%|██████████| 242/242 [00:19<00:00, 12.29it/s]\n"
     ]
    },
    {
     "name": "stdout",
     "output_type": "stream",
     "text": [
      "Epoch 52, Loss: 68.07302901198057\n",
      "Validation Triplet Loss: 0.0, Total Positive: 9624980.28125, Total Negative: 475716550.0, Triplet Accuracy: 1.0\n"
     ]
    },
    {
     "name": "stderr",
     "output_type": "stream",
     "text": [
      "Epoch 53: 100%|██████████| 242/242 [00:19<00:00, 12.38it/s]\n"
     ]
    },
    {
     "name": "stdout",
     "output_type": "stream",
     "text": [
      "Epoch 53, Loss: 0.25906530022621155\n",
      "Validation Triplet Loss: 0.0, Total Positive: 9563944.53125, Total Negative: 468252311.0, Triplet Accuracy: 1.0\n"
     ]
    },
    {
     "name": "stderr",
     "output_type": "stream",
     "text": [
      "Epoch 54: 100%|██████████| 242/242 [00:19<00:00, 12.20it/s]\n"
     ]
    },
    {
     "name": "stdout",
     "output_type": "stream",
     "text": [
      "Epoch 54, Loss: 156.95252089362498\n",
      "Validation Triplet Loss: 0.0, Total Positive: 9200224.359375, Total Negative: 433865363.0, Triplet Accuracy: 1.0\n"
     ]
    },
    {
     "name": "stderr",
     "output_type": "stream",
     "text": [
      "Epoch 55: 100%|██████████| 242/242 [00:19<00:00, 12.10it/s]\n"
     ]
    },
    {
     "name": "stdout",
     "output_type": "stream",
     "text": [
      "Epoch 55, Loss: 312.1778996030161\n",
      "Validation Triplet Loss: 0.0, Total Positive: 8679486.515625, Total Negative: 393340036.0, Triplet Accuracy: 1.0\n"
     ]
    },
    {
     "name": "stderr",
     "output_type": "stream",
     "text": [
      "Epoch 56: 100%|██████████| 242/242 [00:19<00:00, 12.25it/s]\n"
     ]
    },
    {
     "name": "stdout",
     "output_type": "stream",
     "text": [
      "Epoch 56, Loss: 0.4492012991392908\n",
      "Validation Triplet Loss: 0.0, Total Positive: 9134153.171875, Total Negative: 428739728.0, Triplet Accuracy: 1.0\n"
     ]
    },
    {
     "name": "stderr",
     "output_type": "stream",
     "text": [
      "Epoch 57: 100%|██████████| 242/242 [00:19<00:00, 12.32it/s]\n"
     ]
    },
    {
     "name": "stdout",
     "output_type": "stream",
     "text": [
      "Epoch 57, Loss: 0.40769687762930373\n",
      "Validation Triplet Loss: 0.0, Total Positive: 9149413.65625, Total Negative: 442348357.0, Triplet Accuracy: 1.0\n"
     ]
    },
    {
     "name": "stderr",
     "output_type": "stream",
     "text": [
      "Epoch 58: 100%|██████████| 242/242 [00:19<00:00, 12.19it/s]\n"
     ]
    },
    {
     "name": "stdout",
     "output_type": "stream",
     "text": [
      "Epoch 58, Loss: 142.7561185576699\n",
      "Validation Triplet Loss: 0.0, Total Positive: 8663516.234375, Total Negative: 396174833.0, Triplet Accuracy: 1.0\n"
     ]
    },
    {
     "name": "stderr",
     "output_type": "stream",
     "text": [
      "Epoch 59: 100%|██████████| 242/242 [00:19<00:00, 12.34it/s]\n"
     ]
    },
    {
     "name": "stdout",
     "output_type": "stream",
     "text": [
      "Epoch 59, Loss: 0.344208105782832\n",
      "Validation Triplet Loss: 0.0, Total Positive: 8778934.15625, Total Negative: 404579783.0, Triplet Accuracy: 1.0\n"
     ]
    },
    {
     "name": "stderr",
     "output_type": "stream",
     "text": [
      "Epoch 60: 100%|██████████| 242/242 [00:19<00:00, 12.23it/s]\n"
     ]
    },
    {
     "name": "stdout",
     "output_type": "stream",
     "text": [
      "Epoch 60, Loss: 3.353623401034962\n",
      "Validation Triplet Loss: 0.0, Total Positive: 8920316.359375, Total Negative: 421101874.0, Triplet Accuracy: 1.0\n"
     ]
    },
    {
     "name": "stderr",
     "output_type": "stream",
     "text": [
      "Epoch 61: 100%|██████████| 242/242 [00:19<00:00, 12.15it/s]\n"
     ]
    },
    {
     "name": "stdout",
     "output_type": "stream",
     "text": [
      "Epoch 61, Loss: 0.43152371024297287\n",
      "Validation Triplet Loss: 0.0, Total Positive: 8838177.640625, Total Negative: 434052991.0, Triplet Accuracy: 1.0\n"
     ]
    },
    {
     "name": "stderr",
     "output_type": "stream",
     "text": [
      "Epoch 62: 100%|██████████| 242/242 [00:20<00:00, 12.00it/s]\n"
     ]
    },
    {
     "name": "stdout",
     "output_type": "stream",
     "text": [
      "Epoch 62, Loss: 0.2218354359145992\n",
      "Validation Triplet Loss: 0.0, Total Positive: 8589375.109375, Total Negative: 412919661.0, Triplet Accuracy: 1.0\n"
     ]
    },
    {
     "name": "stderr",
     "output_type": "stream",
     "text": [
      "Epoch 63: 100%|██████████| 242/242 [00:19<00:00, 12.23it/s]\n"
     ]
    },
    {
     "name": "stdout",
     "output_type": "stream",
     "text": [
      "Epoch 63, Loss: 0.08682393165659313\n",
      "Validation Triplet Loss: 0.0, Total Positive: 8642870.34375, Total Negative: 408148964.0, Triplet Accuracy: 1.0\n"
     ]
    },
    {
     "name": "stderr",
     "output_type": "stream",
     "text": [
      "Epoch 64: 100%|██████████| 242/242 [00:19<00:00, 12.33it/s]\n"
     ]
    },
    {
     "name": "stdout",
     "output_type": "stream",
     "text": [
      "Epoch 64, Loss: 0.1237217611517788\n",
      "Validation Triplet Loss: 0.0, Total Positive: 8716623.859375, Total Negative: 428853808.0, Triplet Accuracy: 1.0\n"
     ]
    },
    {
     "name": "stderr",
     "output_type": "stream",
     "text": [
      "Epoch 65: 100%|██████████| 242/242 [00:19<00:00, 12.27it/s]\n"
     ]
    },
    {
     "name": "stdout",
     "output_type": "stream",
     "text": [
      "Epoch 65, Loss: 0.10503851185160235\n",
      "Validation Triplet Loss: 0.0, Total Positive: 8740213.828125, Total Negative: 424552369.0, Triplet Accuracy: 1.0\n"
     ]
    },
    {
     "name": "stderr",
     "output_type": "stream",
     "text": [
      "Epoch 66: 100%|██████████| 242/242 [00:19<00:00, 12.14it/s]\n"
     ]
    },
    {
     "name": "stdout",
     "output_type": "stream",
     "text": [
      "Epoch 66, Loss: 0.4574916737138732\n",
      "Validation Triplet Loss: 0.0, Total Positive: 8490254.734375, Total Negative: 393150539.0, Triplet Accuracy: 1.0\n"
     ]
    },
    {
     "name": "stderr",
     "output_type": "stream",
     "text": [
      "Epoch 67: 100%|██████████| 242/242 [00:19<00:00, 12.21it/s]\n"
     ]
    },
    {
     "name": "stdout",
     "output_type": "stream",
     "text": [
      "Epoch 67, Loss: 66.69498234346878\n",
      "Validation Triplet Loss: 0.0, Total Positive: 8351273.0, Total Negative: 374761691.0, Triplet Accuracy: 1.0\n"
     ]
    },
    {
     "name": "stderr",
     "output_type": "stream",
     "text": [
      "Epoch 68: 100%|██████████| 242/242 [00:20<00:00, 12.02it/s]\n"
     ]
    },
    {
     "name": "stdout",
     "output_type": "stream",
     "text": [
      "Epoch 68, Loss: 49.00338014319909\n",
      "Validation Triplet Loss: 0.0, Total Positive: 8398996.65625, Total Negative: 373999564.0, Triplet Accuracy: 1.0\n"
     ]
    },
    {
     "name": "stderr",
     "output_type": "stream",
     "text": [
      "Epoch 69: 100%|██████████| 242/242 [00:19<00:00, 12.13it/s]\n"
     ]
    },
    {
     "name": "stdout",
     "output_type": "stream",
     "text": [
      "Epoch 69, Loss: 132.1957866960813\n",
      "Validation Triplet Loss: 0.0, Total Positive: 8413490.40625, Total Negative: 381585419.0, Triplet Accuracy: 1.0\n"
     ]
    },
    {
     "name": "stderr",
     "output_type": "stream",
     "text": [
      "Epoch 70: 100%|██████████| 242/242 [00:19<00:00, 12.25it/s]\n"
     ]
    },
    {
     "name": "stdout",
     "output_type": "stream",
     "text": [
      "Epoch 70, Loss: 0.13913355977082056\n",
      "Validation Triplet Loss: 0.0, Total Positive: 8627046.65625, Total Negative: 421870422.0, Triplet Accuracy: 1.0\n"
     ]
    },
    {
     "name": "stderr",
     "output_type": "stream",
     "text": [
      "Epoch 71: 100%|██████████| 242/242 [00:19<00:00, 12.13it/s]\n"
     ]
    },
    {
     "name": "stdout",
     "output_type": "stream",
     "text": [
      "Epoch 71, Loss: 0.09367724415684535\n",
      "Validation Triplet Loss: 0.0, Total Positive: 8465894.578125, Total Negative: 407259129.0, Triplet Accuracy: 1.0\n"
     ]
    },
    {
     "name": "stderr",
     "output_type": "stream",
     "text": [
      "Epoch 72: 100%|██████████| 242/242 [00:19<00:00, 12.12it/s]\n"
     ]
    },
    {
     "name": "stdout",
     "output_type": "stream",
     "text": [
      "Epoch 72, Loss: 138.0785608439406\n",
      "Validation Triplet Loss: 0.0, Total Positive: 8174941.953125, Total Negative: 380511242.0, Triplet Accuracy: 1.0\n"
     ]
    },
    {
     "name": "stderr",
     "output_type": "stream",
     "text": [
      "Epoch 73: 100%|██████████| 242/242 [00:20<00:00, 12.06it/s]\n"
     ]
    },
    {
     "name": "stdout",
     "output_type": "stream",
     "text": [
      "Epoch 73, Loss: 0.07059924292170312\n",
      "Validation Triplet Loss: 0.0, Total Positive: 8381549.921875, Total Negative: 409905260.0, Triplet Accuracy: 1.0\n"
     ]
    },
    {
     "name": "stderr",
     "output_type": "stream",
     "text": [
      "Epoch 74: 100%|██████████| 242/242 [00:19<00:00, 12.12it/s]\n"
     ]
    },
    {
     "name": "stdout",
     "output_type": "stream",
     "text": [
      "Epoch 74, Loss: 0.23156096915568203\n",
      "Validation Triplet Loss: 0.0, Total Positive: 8824801.671875, Total Negative: 443636502.0, Triplet Accuracy: 1.0\n"
     ]
    },
    {
     "name": "stderr",
     "output_type": "stream",
     "text": [
      "Epoch 75: 100%|██████████| 242/242 [00:19<00:00, 12.19it/s]\n"
     ]
    },
    {
     "name": "stdout",
     "output_type": "stream",
     "text": [
      "Epoch 75, Loss: 0.03624686327847568\n",
      "Validation Triplet Loss: 0.0, Total Positive: 8741415.96875, Total Negative: 437128636.0, Triplet Accuracy: 1.0\n"
     ]
    },
    {
     "name": "stderr",
     "output_type": "stream",
     "text": [
      "Epoch 76: 100%|██████████| 242/242 [00:19<00:00, 12.15it/s]\n"
     ]
    },
    {
     "name": "stdout",
     "output_type": "stream",
     "text": [
      "Epoch 76, Loss: 139.5673304894739\n",
      "Validation Triplet Loss: 0.0, Total Positive: 8429485.984375, Total Negative: 415422393.0, Triplet Accuracy: 1.0\n"
     ]
    },
    {
     "name": "stderr",
     "output_type": "stream",
     "text": [
      "Epoch 77: 100%|██████████| 242/242 [00:19<00:00, 12.11it/s]\n"
     ]
    },
    {
     "name": "stdout",
     "output_type": "stream",
     "text": [
      "Epoch 77, Loss: 2.009577277524412\n",
      "Validation Triplet Loss: 0.0, Total Positive: 8488319.21875, Total Negative: 430906506.0, Triplet Accuracy: 1.0\n"
     ]
    },
    {
     "name": "stderr",
     "output_type": "stream",
     "text": [
      "Epoch 78: 100%|██████████| 242/242 [00:19<00:00, 12.24it/s]\n"
     ]
    },
    {
     "name": "stdout",
     "output_type": "stream",
     "text": [
      "Epoch 78, Loss: 0.06778237051215054\n",
      "Validation Triplet Loss: 0.0, Total Positive: 8451754.09375, Total Negative: 428132044.0, Triplet Accuracy: 1.0\n"
     ]
    },
    {
     "name": "stderr",
     "output_type": "stream",
     "text": [
      "Epoch 79: 100%|██████████| 242/242 [00:19<00:00, 12.37it/s]\n"
     ]
    },
    {
     "name": "stdout",
     "output_type": "stream",
     "text": [
      "Epoch 79, Loss: 49.94875620514893\n",
      "Validation Triplet Loss: 0.0, Total Positive: 8468994.09375, Total Negative: 428748382.0, Triplet Accuracy: 1.0\n"
     ]
    },
    {
     "name": "stderr",
     "output_type": "stream",
     "text": [
      "Epoch 80: 100%|██████████| 242/242 [00:19<00:00, 12.25it/s]\n"
     ]
    },
    {
     "name": "stdout",
     "output_type": "stream",
     "text": [
      "Epoch 80, Loss: 150.65626709741994\n",
      "Validation Triplet Loss: 0.0, Total Positive: 8357694.765625, Total Negative: 409525848.0, Triplet Accuracy: 1.0\n"
     ]
    },
    {
     "name": "stderr",
     "output_type": "stream",
     "text": [
      "Epoch 81: 100%|██████████| 242/242 [00:19<00:00, 12.24it/s]\n"
     ]
    },
    {
     "name": "stdout",
     "output_type": "stream",
     "text": [
      "Epoch 81, Loss: 0.19784007092152744\n",
      "Validation Triplet Loss: 0.0, Total Positive: 8492979.3125, Total Negative: 407923597.0, Triplet Accuracy: 1.0\n"
     ]
    },
    {
     "name": "stderr",
     "output_type": "stream",
     "text": [
      "Epoch 82: 100%|██████████| 242/242 [00:19<00:00, 12.35it/s]\n"
     ]
    },
    {
     "name": "stdout",
     "output_type": "stream",
     "text": [
      "Epoch 82, Loss: 0.0\n",
      "Validation Triplet Loss: 0.0, Total Positive: 8492981.96875, Total Negative: 407923704.0, Triplet Accuracy: 1.0\n"
     ]
    },
    {
     "name": "stderr",
     "output_type": "stream",
     "text": [
      "Epoch 83: 100%|██████████| 242/242 [00:19<00:00, 12.21it/s]\n"
     ]
    },
    {
     "name": "stdout",
     "output_type": "stream",
     "text": [
      "Epoch 83, Loss: 0.07972901714734795\n",
      "Validation Triplet Loss: 0.0, Total Positive: 8271916.578125, Total Negative: 389935737.0, Triplet Accuracy: 1.0\n"
     ]
    },
    {
     "name": "stderr",
     "output_type": "stream",
     "text": [
      "Epoch 84: 100%|██████████| 242/242 [00:19<00:00, 12.42it/s]\n"
     ]
    },
    {
     "name": "stdout",
     "output_type": "stream",
     "text": [
      "Epoch 84, Loss: 0.0\n",
      "Validation Triplet Loss: 0.0, Total Positive: 8271882.171875, Total Negative: 389931166.0, Triplet Accuracy: 1.0\n"
     ]
    },
    {
     "name": "stderr",
     "output_type": "stream",
     "text": [
      "Epoch 85: 100%|██████████| 242/242 [00:20<00:00, 11.67it/s]\n"
     ]
    },
    {
     "name": "stdout",
     "output_type": "stream",
     "text": [
      "Epoch 85, Loss: 0.022066949812833928\n",
      "Validation Triplet Loss: 0.0, Total Positive: 8105545.3125, Total Negative: 376466510.0, Triplet Accuracy: 1.0\n"
     ]
    },
    {
     "name": "stderr",
     "output_type": "stream",
     "text": [
      "Epoch 86: 100%|██████████| 242/242 [00:21<00:00, 11.13it/s]\n"
     ]
    },
    {
     "name": "stdout",
     "output_type": "stream",
     "text": [
      "Epoch 86, Loss: 0.19091516880949666\n",
      "Validation Triplet Loss: 0.0, Total Positive: 7867671.953125, Total Negative: 356695558.0, Triplet Accuracy: 1.0\n"
     ]
    },
    {
     "name": "stderr",
     "output_type": "stream",
     "text": [
      "Epoch 87: 100%|██████████| 242/242 [00:19<00:00, 12.32it/s]\n"
     ]
    },
    {
     "name": "stdout",
     "output_type": "stream",
     "text": [
      "Epoch 87, Loss: 0.12207499811471986\n",
      "Validation Triplet Loss: 0.0, Total Positive: 8186802.1875, Total Negative: 390463867.0, Triplet Accuracy: 1.0\n"
     ]
    },
    {
     "name": "stderr",
     "output_type": "stream",
     "text": [
      "Epoch 88: 100%|██████████| 242/242 [00:19<00:00, 12.33it/s]\n"
     ]
    },
    {
     "name": "stdout",
     "output_type": "stream",
     "text": [
      "Epoch 88, Loss: 97.81510685692149\n",
      "Validation Triplet Loss: 0.0, Total Positive: 7773039.5625, Total Negative: 355209714.0, Triplet Accuracy: 1.0\n"
     ]
    },
    {
     "name": "stderr",
     "output_type": "stream",
     "text": [
      "Epoch 89: 100%|██████████| 242/242 [00:19<00:00, 12.11it/s]\n"
     ]
    },
    {
     "name": "stdout",
     "output_type": "stream",
     "text": [
      "Epoch 89, Loss: 85.94098244028643\n",
      "Validation Triplet Loss: 0.0, Total Positive: 7959421.671875, Total Negative: 390880818.0, Triplet Accuracy: 1.0\n"
     ]
    },
    {
     "name": "stderr",
     "output_type": "stream",
     "text": [
      "Epoch 90: 100%|██████████| 242/242 [00:19<00:00, 12.15it/s]\n"
     ]
    },
    {
     "name": "stdout",
     "output_type": "stream",
     "text": [
      "Epoch 90, Loss: 0.10013107819990678\n",
      "Validation Triplet Loss: 0.0, Total Positive: 7726174.0, Total Negative: 370251448.0, Triplet Accuracy: 1.0\n"
     ]
    },
    {
     "name": "stderr",
     "output_type": "stream",
     "text": [
      "Epoch 91: 100%|██████████| 242/242 [00:20<00:00, 12.01it/s]\n"
     ]
    },
    {
     "name": "stdout",
     "output_type": "stream",
     "text": [
      "Epoch 91, Loss: 102.81228122139765\n",
      "Validation Triplet Loss: 0.0, Total Positive: 7605325.09375, Total Negative: 363379844.0, Triplet Accuracy: 1.0\n"
     ]
    },
    {
     "name": "stderr",
     "output_type": "stream",
     "text": [
      "Epoch 92: 100%|██████████| 242/242 [00:20<00:00, 12.05it/s]\n"
     ]
    },
    {
     "name": "stdout",
     "output_type": "stream",
     "text": [
      "Epoch 92, Loss: 95.45267589624262\n",
      "Validation Triplet Loss: 0.0, Total Positive: 7328344.65625, Total Negative: 329236458.0, Triplet Accuracy: 1.0\n"
     ]
    },
    {
     "name": "stderr",
     "output_type": "stream",
     "text": [
      "Epoch 93: 100%|██████████| 242/242 [00:19<00:00, 12.10it/s]\n"
     ]
    },
    {
     "name": "stdout",
     "output_type": "stream",
     "text": [
      "Epoch 93, Loss: 0.4402388592889486\n",
      "Validation Triplet Loss: 0.0, Total Positive: 7769259.140625, Total Negative: 362695988.0, Triplet Accuracy: 1.0\n"
     ]
    },
    {
     "name": "stderr",
     "output_type": "stream",
     "text": [
      "Epoch 94: 100%|██████████| 242/242 [00:19<00:00, 12.21it/s]\n"
     ]
    },
    {
     "name": "stdout",
     "output_type": "stream",
     "text": [
      "Epoch 94, Loss: 0.06873913343287696\n",
      "Validation Triplet Loss: 0.0, Total Positive: 7904603.75, Total Negative: 380053861.0, Triplet Accuracy: 1.0\n"
     ]
    },
    {
     "name": "stderr",
     "output_type": "stream",
     "text": [
      "Epoch 95: 100%|██████████| 242/242 [00:19<00:00, 12.17it/s]\n"
     ]
    },
    {
     "name": "stdout",
     "output_type": "stream",
     "text": [
      "Epoch 95, Loss: 41.577652278271586\n",
      "Validation Triplet Loss: 0.0, Total Positive: 7729533.578125, Total Negative: 356714454.0, Triplet Accuracy: 1.0\n"
     ]
    },
    {
     "name": "stderr",
     "output_type": "stream",
     "text": [
      "Epoch 96: 100%|██████████| 242/242 [00:19<00:00, 12.22it/s]\n"
     ]
    },
    {
     "name": "stdout",
     "output_type": "stream",
     "text": [
      "Epoch 96, Loss: 0.20242705448599888\n",
      "Validation Triplet Loss: 0.0, Total Positive: 7851305.203125, Total Negative: 363697983.0, Triplet Accuracy: 1.0\n"
     ]
    },
    {
     "name": "stderr",
     "output_type": "stream",
     "text": [
      "Epoch 97: 100%|██████████| 242/242 [00:20<00:00, 12.06it/s]\n"
     ]
    },
    {
     "name": "stdout",
     "output_type": "stream",
     "text": [
      "Epoch 97, Loss: 96.83655119558011\n",
      "Validation Triplet Loss: 0.0, Total Positive: 7916944.203125, Total Negative: 376870741.0, Triplet Accuracy: 1.0\n"
     ]
    },
    {
     "name": "stderr",
     "output_type": "stream",
     "text": [
      "Epoch 98: 100%|██████████| 242/242 [00:19<00:00, 12.28it/s]\n"
     ]
    },
    {
     "name": "stdout",
     "output_type": "stream",
     "text": [
      "Epoch 98, Loss: 0.07282782290592667\n",
      "Validation Triplet Loss: 0.0, Total Positive: 7949535.984375, Total Negative: 373671093.0, Triplet Accuracy: 1.0\n"
     ]
    },
    {
     "name": "stderr",
     "output_type": "stream",
     "text": [
      "Epoch 99: 100%|██████████| 242/242 [00:19<00:00, 12.17it/s]\n"
     ]
    },
    {
     "name": "stdout",
     "output_type": "stream",
     "text": [
      "Epoch 99, Loss: 0.36831243373145744\n",
      "Validation Triplet Loss: 0.0, Total Positive: 8182136.5625, Total Negative: 392595738.0, Triplet Accuracy: 1.0\n"
     ]
    },
    {
     "name": "stderr",
     "output_type": "stream",
     "text": [
      "Epoch 100: 100%|██████████| 242/242 [00:20<00:00, 12.03it/s]\n"
     ]
    },
    {
     "name": "stdout",
     "output_type": "stream",
     "text": [
      "Epoch 100, Loss: 0.04842498775356072\n",
      "Validation Triplet Loss: 0.0, Total Positive: 8269331.515625, Total Negative: 392311106.0, Triplet Accuracy: 1.0\n"
     ]
    },
    {
     "name": "stderr",
     "output_type": "stream",
     "text": [
      "Epoch 101: 100%|██████████| 242/242 [00:19<00:00, 12.24it/s]\n"
     ]
    },
    {
     "name": "stdout",
     "output_type": "stream",
     "text": [
      "Epoch 101, Loss: 0.0833943257154512\n",
      "Validation Triplet Loss: 0.0, Total Positive: 8177993.40625, Total Negative: 359335258.0, Triplet Accuracy: 1.0\n"
     ]
    },
    {
     "name": "stderr",
     "output_type": "stream",
     "text": [
      "Epoch 102: 100%|██████████| 242/242 [00:19<00:00, 12.27it/s]\n"
     ]
    },
    {
     "name": "stdout",
     "output_type": "stream",
     "text": [
      "Epoch 102, Loss: 0.07339866890394983\n",
      "Validation Triplet Loss: 0.0, Total Positive: 8191884.703125, Total Negative: 367224848.0, Triplet Accuracy: 1.0\n"
     ]
    },
    {
     "name": "stderr",
     "output_type": "stream",
     "text": [
      "Epoch 103: 100%|██████████| 242/242 [00:20<00:00, 12.10it/s]\n"
     ]
    },
    {
     "name": "stdout",
     "output_type": "stream",
     "text": [
      "Epoch 103, Loss: 0.0026998945996781027\n",
      "Validation Triplet Loss: 0.0, Total Positive: 8177294.21875, Total Negative: 364286348.0, Triplet Accuracy: 1.0\n"
     ]
    },
    {
     "name": "stderr",
     "output_type": "stream",
     "text": [
      "Epoch 104: 100%|██████████| 242/242 [00:19<00:00, 12.19it/s]\n"
     ]
    },
    {
     "name": "stdout",
     "output_type": "stream",
     "text": [
      "Epoch 104, Loss: 86.32136634404748\n",
      "Validation Triplet Loss: 0.0, Total Positive: 7869520.59375, Total Negative: 368078166.0, Triplet Accuracy: 1.0\n"
     ]
    },
    {
     "name": "stderr",
     "output_type": "stream",
     "text": [
      "Epoch 105: 100%|██████████| 242/242 [00:20<00:00, 12.10it/s]\n"
     ]
    },
    {
     "name": "stdout",
     "output_type": "stream",
     "text": [
      "Epoch 105, Loss: 10.55268792795741\n",
      "Validation Triplet Loss: 0.0, Total Positive: 7818492.75, Total Negative: 363143839.0, Triplet Accuracy: 1.0\n"
     ]
    },
    {
     "name": "stderr",
     "output_type": "stream",
     "text": [
      "Epoch 106: 100%|██████████| 242/242 [00:19<00:00, 12.12it/s]\n"
     ]
    },
    {
     "name": "stdout",
     "output_type": "stream",
     "text": [
      "Epoch 106, Loss: 12.464728800718449\n",
      "Validation Triplet Loss: 0.0, Total Positive: 7833424.46875, Total Negative: 374235213.0, Triplet Accuracy: 1.0\n"
     ]
    },
    {
     "name": "stderr",
     "output_type": "stream",
     "text": [
      "Epoch 107: 100%|██████████| 242/242 [00:20<00:00, 12.06it/s]\n"
     ]
    },
    {
     "name": "stdout",
     "output_type": "stream",
     "text": [
      "Epoch 107, Loss: 0.1732208060854969\n",
      "Validation Triplet Loss: 0.0, Total Positive: 7986013.75, Total Negative: 390774801.0, Triplet Accuracy: 1.0\n"
     ]
    },
    {
     "name": "stderr",
     "output_type": "stream",
     "text": [
      "Epoch 108: 100%|██████████| 242/242 [00:20<00:00, 11.95it/s]\n"
     ]
    },
    {
     "name": "stdout",
     "output_type": "stream",
     "text": [
      "Epoch 108, Loss: 81.09481133606808\n",
      "Validation Triplet Loss: 0.0, Total Positive: 7699870.4375, Total Negative: 366361806.0, Triplet Accuracy: 1.0\n"
     ]
    },
    {
     "name": "stderr",
     "output_type": "stream",
     "text": [
      "Epoch 109: 100%|██████████| 242/242 [00:22<00:00, 10.99it/s]\n"
     ]
    },
    {
     "name": "stdout",
     "output_type": "stream",
     "text": [
      "Epoch 109, Loss: 0.06863889024277364\n",
      "Validation Triplet Loss: 0.0, Total Positive: 7765618.546875, Total Negative: 383455684.0, Triplet Accuracy: 1.0\n"
     ]
    },
    {
     "name": "stderr",
     "output_type": "stream",
     "text": [
      "Epoch 110: 100%|██████████| 242/242 [00:23<00:00, 10.42it/s]\n"
     ]
    },
    {
     "name": "stdout",
     "output_type": "stream",
     "text": [
      "Epoch 110, Loss: 0.002158798708403406\n",
      "Validation Triplet Loss: 0.0, Total Positive: 7787292.21875, Total Negative: 382881189.0, Triplet Accuracy: 1.0\n"
     ]
    },
    {
     "name": "stderr",
     "output_type": "stream",
     "text": [
      "Epoch 111:  59%|█████▊    | 142/242 [00:16<00:11,  8.58it/s]\n"
     ]
    },
    {
     "ename": "KeyboardInterrupt",
     "evalue": "",
     "output_type": "error",
     "traceback": [
      "\u001b[1;31m---------------------------------------------------------------------------\u001b[0m",
      "\u001b[1;31mKeyboardInterrupt\u001b[0m                         Traceback (most recent call last)",
      "Cell \u001b[1;32mIn[667], line 4\u001b[0m\n\u001b[0;32m      1\u001b[0m num_epochs \u001b[38;5;241m=\u001b[39m \u001b[38;5;241m180\u001b[39m\n\u001b[0;32m      3\u001b[0m \u001b[38;5;28;01mfor\u001b[39;00m epoch \u001b[38;5;129;01min\u001b[39;00m \u001b[38;5;28mrange\u001b[39m(num_epochs):\n\u001b[1;32m----> 4\u001b[0m     \u001b[43mtrain\u001b[49m\u001b[43m(\u001b[49m\u001b[43mepoch\u001b[49m\u001b[43m)\u001b[49m\n\u001b[0;32m      5\u001b[0m     validate(model, validation_loader, device)\n",
      "Cell \u001b[1;32mIn[558], line 4\u001b[0m, in \u001b[0;36mtrain\u001b[1;34m(epoch)\u001b[0m\n\u001b[0;32m      2\u001b[0m model\u001b[38;5;241m.\u001b[39mtrain()\n\u001b[0;32m      3\u001b[0m epoch_loss \u001b[38;5;241m=\u001b[39m \u001b[38;5;241m0\u001b[39m\n\u001b[1;32m----> 4\u001b[0m \u001b[38;5;28;01mfor\u001b[39;00m batch_anchor, batch_positive, batch_negative \u001b[38;5;129;01min\u001b[39;00m tqdm(train_loader, desc\u001b[38;5;241m=\u001b[39m\u001b[38;5;124mf\u001b[39m\u001b[38;5;124m'\u001b[39m\u001b[38;5;124mEpoch \u001b[39m\u001b[38;5;132;01m{\u001b[39;00mepoch\u001b[38;5;132;01m}\u001b[39;00m\u001b[38;5;124m'\u001b[39m):\n\u001b[0;32m      6\u001b[0m     batch_anchor, batch_positive, batch_negative \u001b[38;5;241m=\u001b[39m batch_anchor\u001b[38;5;241m.\u001b[39mto(device), batch_positive\u001b[38;5;241m.\u001b[39mto(device), batch_negative\u001b[38;5;241m.\u001b[39mto(device)\n\u001b[0;32m      7\u001b[0m     optimizer\u001b[38;5;241m.\u001b[39mzero_grad()\n",
      "File \u001b[1;32mc:\\Users\\Abderrahmane\\ProjectsC\\ReconnaissanceAlgebrique\\.conda\\Lib\\site-packages\\tqdm\\std.py:1181\u001b[0m, in \u001b[0;36mtqdm.__iter__\u001b[1;34m(self)\u001b[0m\n\u001b[0;32m   1178\u001b[0m time \u001b[38;5;241m=\u001b[39m \u001b[38;5;28mself\u001b[39m\u001b[38;5;241m.\u001b[39m_time\n\u001b[0;32m   1180\u001b[0m \u001b[38;5;28;01mtry\u001b[39;00m:\n\u001b[1;32m-> 1181\u001b[0m     \u001b[38;5;28;01mfor\u001b[39;00m obj \u001b[38;5;129;01min\u001b[39;00m iterable:\n\u001b[0;32m   1182\u001b[0m         \u001b[38;5;28;01myield\u001b[39;00m obj\n\u001b[0;32m   1183\u001b[0m         \u001b[38;5;66;03m# Update and possibly print the progressbar.\u001b[39;00m\n\u001b[0;32m   1184\u001b[0m         \u001b[38;5;66;03m# Note: does not call self.update(1) for speed optimisation.\u001b[39;00m\n",
      "File \u001b[1;32m~\\AppData\\Roaming\\Python\\Python311\\site-packages\\torch\\utils\\data\\dataloader.py:630\u001b[0m, in \u001b[0;36m_BaseDataLoaderIter.__next__\u001b[1;34m(self)\u001b[0m\n\u001b[0;32m    627\u001b[0m \u001b[38;5;28;01mif\u001b[39;00m \u001b[38;5;28mself\u001b[39m\u001b[38;5;241m.\u001b[39m_sampler_iter \u001b[38;5;129;01mis\u001b[39;00m \u001b[38;5;28;01mNone\u001b[39;00m:\n\u001b[0;32m    628\u001b[0m     \u001b[38;5;66;03m# TODO(https://github.com/pytorch/pytorch/issues/76750)\u001b[39;00m\n\u001b[0;32m    629\u001b[0m     \u001b[38;5;28mself\u001b[39m\u001b[38;5;241m.\u001b[39m_reset()  \u001b[38;5;66;03m# type: ignore[call-arg]\u001b[39;00m\n\u001b[1;32m--> 630\u001b[0m data \u001b[38;5;241m=\u001b[39m \u001b[38;5;28;43mself\u001b[39;49m\u001b[38;5;241;43m.\u001b[39;49m\u001b[43m_next_data\u001b[49m\u001b[43m(\u001b[49m\u001b[43m)\u001b[49m\n\u001b[0;32m    631\u001b[0m \u001b[38;5;28mself\u001b[39m\u001b[38;5;241m.\u001b[39m_num_yielded \u001b[38;5;241m+\u001b[39m\u001b[38;5;241m=\u001b[39m \u001b[38;5;241m1\u001b[39m\n\u001b[0;32m    632\u001b[0m \u001b[38;5;28;01mif\u001b[39;00m \u001b[38;5;28mself\u001b[39m\u001b[38;5;241m.\u001b[39m_dataset_kind \u001b[38;5;241m==\u001b[39m _DatasetKind\u001b[38;5;241m.\u001b[39mIterable \u001b[38;5;129;01mand\u001b[39;00m \\\n\u001b[0;32m    633\u001b[0m         \u001b[38;5;28mself\u001b[39m\u001b[38;5;241m.\u001b[39m_IterableDataset_len_called \u001b[38;5;129;01mis\u001b[39;00m \u001b[38;5;129;01mnot\u001b[39;00m \u001b[38;5;28;01mNone\u001b[39;00m \u001b[38;5;129;01mand\u001b[39;00m \\\n\u001b[0;32m    634\u001b[0m         \u001b[38;5;28mself\u001b[39m\u001b[38;5;241m.\u001b[39m_num_yielded \u001b[38;5;241m>\u001b[39m \u001b[38;5;28mself\u001b[39m\u001b[38;5;241m.\u001b[39m_IterableDataset_len_called:\n",
      "File \u001b[1;32m~\\AppData\\Roaming\\Python\\Python311\\site-packages\\torch\\utils\\data\\dataloader.py:674\u001b[0m, in \u001b[0;36m_SingleProcessDataLoaderIter._next_data\u001b[1;34m(self)\u001b[0m\n\u001b[0;32m    672\u001b[0m \u001b[38;5;28;01mdef\u001b[39;00m \u001b[38;5;21m_next_data\u001b[39m(\u001b[38;5;28mself\u001b[39m):\n\u001b[0;32m    673\u001b[0m     index \u001b[38;5;241m=\u001b[39m \u001b[38;5;28mself\u001b[39m\u001b[38;5;241m.\u001b[39m_next_index()  \u001b[38;5;66;03m# may raise StopIteration\u001b[39;00m\n\u001b[1;32m--> 674\u001b[0m     data \u001b[38;5;241m=\u001b[39m \u001b[38;5;28;43mself\u001b[39;49m\u001b[38;5;241;43m.\u001b[39;49m\u001b[43m_dataset_fetcher\u001b[49m\u001b[38;5;241;43m.\u001b[39;49m\u001b[43mfetch\u001b[49m\u001b[43m(\u001b[49m\u001b[43mindex\u001b[49m\u001b[43m)\u001b[49m  \u001b[38;5;66;03m# may raise StopIteration\u001b[39;00m\n\u001b[0;32m    675\u001b[0m     \u001b[38;5;28;01mif\u001b[39;00m \u001b[38;5;28mself\u001b[39m\u001b[38;5;241m.\u001b[39m_pin_memory:\n\u001b[0;32m    676\u001b[0m         data \u001b[38;5;241m=\u001b[39m _utils\u001b[38;5;241m.\u001b[39mpin_memory\u001b[38;5;241m.\u001b[39mpin_memory(data, \u001b[38;5;28mself\u001b[39m\u001b[38;5;241m.\u001b[39m_pin_memory_device)\n",
      "File \u001b[1;32m~\\AppData\\Roaming\\Python\\Python311\\site-packages\\torch\\utils\\data\\_utils\\fetch.py:54\u001b[0m, in \u001b[0;36m_MapDatasetFetcher.fetch\u001b[1;34m(self, possibly_batched_index)\u001b[0m\n\u001b[0;32m     52\u001b[0m \u001b[38;5;28;01melse\u001b[39;00m:\n\u001b[0;32m     53\u001b[0m     data \u001b[38;5;241m=\u001b[39m \u001b[38;5;28mself\u001b[39m\u001b[38;5;241m.\u001b[39mdataset[possibly_batched_index]\n\u001b[1;32m---> 54\u001b[0m \u001b[38;5;28;01mreturn\u001b[39;00m \u001b[38;5;28;43mself\u001b[39;49m\u001b[38;5;241;43m.\u001b[39;49m\u001b[43mcollate_fn\u001b[49m\u001b[43m(\u001b[49m\u001b[43mdata\u001b[49m\u001b[43m)\u001b[49m\n",
      "Cell \u001b[1;32mIn[509], line 4\u001b[0m, in \u001b[0;36mcollate\u001b[1;34m(data_list)\u001b[0m\n\u001b[0;32m      2\u001b[0m batchA \u001b[38;5;241m=\u001b[39m Batch\u001b[38;5;241m.\u001b[39mfrom_data_list([data[\u001b[38;5;241m0\u001b[39m] \u001b[38;5;28;01mfor\u001b[39;00m data \u001b[38;5;129;01min\u001b[39;00m data_list])\n\u001b[0;32m      3\u001b[0m batchB \u001b[38;5;241m=\u001b[39m Batch\u001b[38;5;241m.\u001b[39mfrom_data_list([data[\u001b[38;5;241m1\u001b[39m] \u001b[38;5;28;01mfor\u001b[39;00m data \u001b[38;5;129;01min\u001b[39;00m data_list])\n\u001b[1;32m----> 4\u001b[0m batchC \u001b[38;5;241m=\u001b[39m \u001b[43mBatch\u001b[49m\u001b[38;5;241;43m.\u001b[39;49m\u001b[43mfrom_data_list\u001b[49m\u001b[43m(\u001b[49m\u001b[43m[\u001b[49m\u001b[43mdata\u001b[49m\u001b[43m[\u001b[49m\u001b[38;5;241;43m2\u001b[39;49m\u001b[43m]\u001b[49m\u001b[43m \u001b[49m\u001b[38;5;28;43;01mfor\u001b[39;49;00m\u001b[43m \u001b[49m\u001b[43mdata\u001b[49m\u001b[43m \u001b[49m\u001b[38;5;129;43;01min\u001b[39;49;00m\u001b[43m \u001b[49m\u001b[43mdata_list\u001b[49m\u001b[43m]\u001b[49m\u001b[43m)\u001b[49m\n\u001b[0;32m      5\u001b[0m \u001b[38;5;28;01mreturn\u001b[39;00m batchA, batchB, batchC\n",
      "File \u001b[1;32mc:\\Users\\Abderrahmane\\ProjectsC\\ReconnaissanceAlgebrique\\.conda\\Lib\\site-packages\\torch_geometric\\data\\batch.py:97\u001b[0m, in \u001b[0;36mBatch.from_data_list\u001b[1;34m(cls, data_list, follow_batch, exclude_keys)\u001b[0m\n\u001b[0;32m     82\u001b[0m \u001b[38;5;129m@classmethod\u001b[39m\n\u001b[0;32m     83\u001b[0m \u001b[38;5;28;01mdef\u001b[39;00m \u001b[38;5;21mfrom_data_list\u001b[39m(\n\u001b[0;32m     84\u001b[0m     \u001b[38;5;28mcls\u001b[39m,\n\u001b[1;32m   (...)\u001b[0m\n\u001b[0;32m     87\u001b[0m     exclude_keys: Optional[List[\u001b[38;5;28mstr\u001b[39m]] \u001b[38;5;241m=\u001b[39m \u001b[38;5;28;01mNone\u001b[39;00m,\n\u001b[0;32m     88\u001b[0m ) \u001b[38;5;241m-\u001b[39m\u001b[38;5;241m>\u001b[39m Self:\n\u001b[0;32m     89\u001b[0m \u001b[38;5;250m    \u001b[39m\u001b[38;5;124mr\u001b[39m\u001b[38;5;124;03m\"\"\"Constructs a :class:`~torch_geometric.data.Batch` object from a\u001b[39;00m\n\u001b[0;32m     90\u001b[0m \u001b[38;5;124;03m    list of :class:`~torch_geometric.data.Data` or\u001b[39;00m\n\u001b[0;32m     91\u001b[0m \u001b[38;5;124;03m    :class:`~torch_geometric.data.HeteroData` objects.\u001b[39;00m\n\u001b[1;32m   (...)\u001b[0m\n\u001b[0;32m     95\u001b[0m \u001b[38;5;124;03m    Will exclude any keys given in :obj:`exclude_keys`.\u001b[39;00m\n\u001b[0;32m     96\u001b[0m \u001b[38;5;124;03m    \"\"\"\u001b[39;00m\n\u001b[1;32m---> 97\u001b[0m     batch, slice_dict, inc_dict \u001b[38;5;241m=\u001b[39m \u001b[43mcollate\u001b[49m\u001b[43m(\u001b[49m\n\u001b[0;32m     98\u001b[0m \u001b[43m        \u001b[49m\u001b[38;5;28;43mcls\u001b[39;49m\u001b[43m,\u001b[49m\n\u001b[0;32m     99\u001b[0m \u001b[43m        \u001b[49m\u001b[43mdata_list\u001b[49m\u001b[38;5;241;43m=\u001b[39;49m\u001b[43mdata_list\u001b[49m\u001b[43m,\u001b[49m\n\u001b[0;32m    100\u001b[0m \u001b[43m        \u001b[49m\u001b[43mincrement\u001b[49m\u001b[38;5;241;43m=\u001b[39;49m\u001b[38;5;28;43;01mTrue\u001b[39;49;00m\u001b[43m,\u001b[49m\n\u001b[0;32m    101\u001b[0m \u001b[43m        \u001b[49m\u001b[43madd_batch\u001b[49m\u001b[38;5;241;43m=\u001b[39;49m\u001b[38;5;129;43;01mnot\u001b[39;49;00m\u001b[43m \u001b[49m\u001b[38;5;28;43misinstance\u001b[39;49m\u001b[43m(\u001b[49m\u001b[43mdata_list\u001b[49m\u001b[43m[\u001b[49m\u001b[38;5;241;43m0\u001b[39;49m\u001b[43m]\u001b[49m\u001b[43m,\u001b[49m\u001b[43m \u001b[49m\u001b[43mBatch\u001b[49m\u001b[43m)\u001b[49m\u001b[43m,\u001b[49m\n\u001b[0;32m    102\u001b[0m \u001b[43m        \u001b[49m\u001b[43mfollow_batch\u001b[49m\u001b[38;5;241;43m=\u001b[39;49m\u001b[43mfollow_batch\u001b[49m\u001b[43m,\u001b[49m\n\u001b[0;32m    103\u001b[0m \u001b[43m        \u001b[49m\u001b[43mexclude_keys\u001b[49m\u001b[38;5;241;43m=\u001b[39;49m\u001b[43mexclude_keys\u001b[49m\u001b[43m,\u001b[49m\n\u001b[0;32m    104\u001b[0m \u001b[43m    \u001b[49m\u001b[43m)\u001b[49m\n\u001b[0;32m    106\u001b[0m     batch\u001b[38;5;241m.\u001b[39m_num_graphs \u001b[38;5;241m=\u001b[39m \u001b[38;5;28mlen\u001b[39m(data_list)  \u001b[38;5;66;03m# type: ignore\u001b[39;00m\n\u001b[0;32m    107\u001b[0m     batch\u001b[38;5;241m.\u001b[39m_slice_dict \u001b[38;5;241m=\u001b[39m slice_dict  \u001b[38;5;66;03m# type: ignore\u001b[39;00m\n",
      "File \u001b[1;32mc:\\Users\\Abderrahmane\\ProjectsC\\ReconnaissanceAlgebrique\\.conda\\Lib\\site-packages\\torch_geometric\\data\\collate.py:109\u001b[0m, in \u001b[0;36mcollate\u001b[1;34m(cls, data_list, increment, add_batch, follow_batch, exclude_keys)\u001b[0m\n\u001b[0;32m    106\u001b[0m     \u001b[38;5;28;01mcontinue\u001b[39;00m\n\u001b[0;32m    108\u001b[0m \u001b[38;5;66;03m# Collate attributes into a unified representation:\u001b[39;00m\n\u001b[1;32m--> 109\u001b[0m value, slices, incs \u001b[38;5;241m=\u001b[39m \u001b[43m_collate\u001b[49m\u001b[43m(\u001b[49m\u001b[43mattr\u001b[49m\u001b[43m,\u001b[49m\u001b[43m \u001b[49m\u001b[43mvalues\u001b[49m\u001b[43m,\u001b[49m\u001b[43m \u001b[49m\u001b[43mdata_list\u001b[49m\u001b[43m,\u001b[49m\u001b[43m \u001b[49m\u001b[43mstores\u001b[49m\u001b[43m,\u001b[49m\n\u001b[0;32m    110\u001b[0m \u001b[43m                               \u001b[49m\u001b[43mincrement\u001b[49m\u001b[43m)\u001b[49m\n\u001b[0;32m    112\u001b[0m \u001b[38;5;66;03m# If parts of the data are already on GPU, make sure that auxiliary\u001b[39;00m\n\u001b[0;32m    113\u001b[0m \u001b[38;5;66;03m# data like `batch` or `ptr` are also created on GPU:\u001b[39;00m\n\u001b[0;32m    114\u001b[0m \u001b[38;5;28;01mif\u001b[39;00m \u001b[38;5;28misinstance\u001b[39m(value, Tensor) \u001b[38;5;129;01mand\u001b[39;00m value\u001b[38;5;241m.\u001b[39mis_cuda:\n",
      "File \u001b[1;32mc:\\Users\\Abderrahmane\\ProjectsC\\ReconnaissanceAlgebrique\\.conda\\Lib\\site-packages\\torch_geometric\\data\\collate.py:169\u001b[0m, in \u001b[0;36m_collate\u001b[1;34m(key, values, data_list, stores, increment)\u001b[0m\n\u001b[0;32m    167\u001b[0m slices \u001b[38;5;241m=\u001b[39m cumsum(sizes)\n\u001b[0;32m    168\u001b[0m \u001b[38;5;28;01mif\u001b[39;00m increment:\n\u001b[1;32m--> 169\u001b[0m     incs \u001b[38;5;241m=\u001b[39m \u001b[43mget_incs\u001b[49m\u001b[43m(\u001b[49m\u001b[43mkey\u001b[49m\u001b[43m,\u001b[49m\u001b[43m \u001b[49m\u001b[43mvalues\u001b[49m\u001b[43m,\u001b[49m\u001b[43m \u001b[49m\u001b[43mdata_list\u001b[49m\u001b[43m,\u001b[49m\u001b[43m \u001b[49m\u001b[43mstores\u001b[49m\u001b[43m)\u001b[49m\n\u001b[0;32m    170\u001b[0m     \u001b[38;5;28;01mif\u001b[39;00m incs\u001b[38;5;241m.\u001b[39mdim() \u001b[38;5;241m>\u001b[39m \u001b[38;5;241m1\u001b[39m \u001b[38;5;129;01mor\u001b[39;00m \u001b[38;5;28mint\u001b[39m(incs[\u001b[38;5;241m-\u001b[39m\u001b[38;5;241m1\u001b[39m]) \u001b[38;5;241m!=\u001b[39m \u001b[38;5;241m0\u001b[39m:\n\u001b[0;32m    171\u001b[0m         values \u001b[38;5;241m=\u001b[39m [\n\u001b[0;32m    172\u001b[0m             value \u001b[38;5;241m+\u001b[39m inc\u001b[38;5;241m.\u001b[39mto(value\u001b[38;5;241m.\u001b[39mdevice)\n\u001b[0;32m    173\u001b[0m             \u001b[38;5;28;01mfor\u001b[39;00m value, inc \u001b[38;5;129;01min\u001b[39;00m \u001b[38;5;28mzip\u001b[39m(values, incs)\n\u001b[0;32m    174\u001b[0m         ]\n",
      "File \u001b[1;32mc:\\Users\\Abderrahmane\\ProjectsC\\ReconnaissanceAlgebrique\\.conda\\Lib\\site-packages\\torch_geometric\\data\\collate.py:329\u001b[0m, in \u001b[0;36mget_incs\u001b[1;34m(key, values, data_list, stores)\u001b[0m\n\u001b[0;32m    327\u001b[0m \u001b[38;5;28;01melse\u001b[39;00m:\n\u001b[0;32m    328\u001b[0m     repeats \u001b[38;5;241m=\u001b[39m torch\u001b[38;5;241m.\u001b[39mtensor(repeats)\n\u001b[1;32m--> 329\u001b[0m \u001b[38;5;28;01mreturn\u001b[39;00m \u001b[43mcumsum\u001b[49m\u001b[43m(\u001b[49m\u001b[43mrepeats\u001b[49m\u001b[43m[\u001b[49m\u001b[43m:\u001b[49m\u001b[38;5;241;43m-\u001b[39;49m\u001b[38;5;241;43m1\u001b[39;49m\u001b[43m]\u001b[49m\u001b[43m)\u001b[49m\n",
      "File \u001b[1;32mc:\\Users\\Abderrahmane\\ProjectsC\\ReconnaissanceAlgebrique\\.conda\\Lib\\site-packages\\torch_geometric\\utils\\functions.py:23\u001b[0m, in \u001b[0;36mcumsum\u001b[1;34m(x, dim)\u001b[0m\n\u001b[0;32m     20\u001b[0m size \u001b[38;5;241m=\u001b[39m x\u001b[38;5;241m.\u001b[39msize()[:dim] \u001b[38;5;241m+\u001b[39m (x\u001b[38;5;241m.\u001b[39msize(dim) \u001b[38;5;241m+\u001b[39m \u001b[38;5;241m1\u001b[39m, ) \u001b[38;5;241m+\u001b[39m x\u001b[38;5;241m.\u001b[39msize()[dim \u001b[38;5;241m+\u001b[39m \u001b[38;5;241m1\u001b[39m:]\n\u001b[0;32m     21\u001b[0m out \u001b[38;5;241m=\u001b[39m x\u001b[38;5;241m.\u001b[39mnew_empty(size)\n\u001b[1;32m---> 23\u001b[0m \u001b[43mout\u001b[49m\u001b[38;5;241;43m.\u001b[39;49m\u001b[43mnarrow\u001b[49m\u001b[43m(\u001b[49m\u001b[43mdim\u001b[49m\u001b[43m,\u001b[49m\u001b[43m \u001b[49m\u001b[38;5;241;43m0\u001b[39;49m\u001b[43m,\u001b[49m\u001b[43m \u001b[49m\u001b[38;5;241;43m1\u001b[39;49m\u001b[43m)\u001b[49m\u001b[38;5;241;43m.\u001b[39;49m\u001b[43mzero_\u001b[49m\u001b[43m(\u001b[49m\u001b[43m)\u001b[49m\n\u001b[0;32m     24\u001b[0m torch\u001b[38;5;241m.\u001b[39mcumsum(x, dim\u001b[38;5;241m=\u001b[39mdim, out\u001b[38;5;241m=\u001b[39mout\u001b[38;5;241m.\u001b[39mnarrow(dim, \u001b[38;5;241m1\u001b[39m, x\u001b[38;5;241m.\u001b[39msize(dim)))\n\u001b[0;32m     26\u001b[0m \u001b[38;5;28;01mreturn\u001b[39;00m out\n",
      "\u001b[1;31mKeyboardInterrupt\u001b[0m: "
     ]
    }
   ],
   "source": [
    "num_epochs = 180\n",
    "\n",
    "for epoch in range(num_epochs):\n",
    "    train(epoch)\n",
    "    validate(model, validation_loader, device)"
   ]
  },
  {
   "cell_type": "code",
   "execution_count": 668,
   "metadata": {},
   "outputs": [],
   "source": [
    "torch.save(model.state_dict(), \"./full_model_state_v6\")"
   ]
  },
  {
   "cell_type": "code",
   "execution_count": 669,
   "metadata": {},
   "outputs": [],
   "source": [
    "torch.save(model, \"./full_model_v6\")"
   ]
  },
  {
   "cell_type": "markdown",
   "metadata": {},
   "source": [
    "## Testing"
   ]
  },
  {
   "cell_type": "code",
   "execution_count": 775,
   "metadata": {},
   "outputs": [],
   "source": [
    "from generate_dataset import node_to_dict, sympy_to_node\n",
    "import sympy as sp\n",
    "from latex2sympy2 import latex2sympy"
   ]
  },
  {
   "cell_type": "code",
   "execution_count": 776,
   "metadata": {},
   "outputs": [],
   "source": [
    "def latex_to_graph(tex):\n",
    "    return node_to_dict(sympy_to_node(latex2sympy(tex)))"
   ]
  },
  {
   "cell_type": "code",
   "execution_count": 851,
   "metadata": {},
   "outputs": [],
   "source": [
    "expr_l = latex_to_graph(r\"x + y\")\n",
    "expr_r = latex_to_graph(r\"x + y \")"
   ]
  },
  {
   "cell_type": "code",
   "execution_count": 852,
   "metadata": {},
   "outputs": [
    {
     "data": {
      "text/plain": [
       "{'type': 'OPERATION',\n",
       " 'value': None,\n",
       " 'subtype': 'ADD',\n",
       " 'children': [{'type': 'VARIABLE',\n",
       "   'value': 'x',\n",
       "   'subtype': None,\n",
       "   'children': []},\n",
       "  {'type': 'VARIABLE', 'value': 'y', 'subtype': None, 'children': []}]}"
      ]
     },
     "execution_count": 852,
     "metadata": {},
     "output_type": "execute_result"
    }
   ],
   "source": [
    "expr_l"
   ]
  },
  {
   "cell_type": "code",
   "execution_count": 853,
   "metadata": {},
   "outputs": [
    {
     "data": {
      "text/plain": [
       "{'type': 'OPERATION',\n",
       " 'value': None,\n",
       " 'subtype': 'ADD',\n",
       " 'children': [{'type': 'VARIABLE',\n",
       "   'value': 'x',\n",
       "   'subtype': None,\n",
       "   'children': []},\n",
       "  {'type': 'VARIABLE', 'value': 'y', 'subtype': None, 'children': []}]}"
      ]
     },
     "execution_count": 853,
     "metadata": {},
     "output_type": "execute_result"
    }
   ],
   "source": [
    "expr_l"
   ]
  },
  {
   "cell_type": "code",
   "execution_count": 854,
   "metadata": {},
   "outputs": [],
   "source": [
    "expr_l_obj = dict_to_geometric_representation(expr_l, node_attr_encoder)\n",
    "expr_r_obj = dict_to_geometric_representation(expr_r, node_attr_encoder)"
   ]
  },
  {
   "cell_type": "code",
   "execution_count": 858,
   "metadata": {},
   "outputs": [
    {
     "data": {
      "text/plain": [
       "tensor([[11., 11., 11., 11., 11., 11., 11., 11., 11., 11., 11., 11., 11., 11.,\n",
       "         11., 11.,  0.,  0.,  0.,  0.,  0.,  0.,  0.,  0.,  0.,  0.,  0.,  0.,\n",
       "          0.,  0.,  0.,  0., -1., -1., -1., -1., -1., -1., -1., -1., -1., -1.,\n",
       "         -1., -1., -1., -1., -1., -1.],\n",
       "        [18., 18., 18., 18., 18., 18., 18., 18., 18., 18., 18., 18., 18., 18.,\n",
       "         18., 18., -1., -1., -1., -1., -1., -1., -1., -1., -1., -1., -1., -1.,\n",
       "         -1., -1., -1., -1.,  0., 41.,  0., 41.,  0., 41.,  0., 41.,  0., 41.,\n",
       "          0., 41.,  0., 41.,  0., 41.],\n",
       "        [18., 18., 18., 18., 18., 18., 18., 18., 18., 18., 18., 18., 18., 18.,\n",
       "         18., 18., -1., -1., -1., -1., -1., -1., -1., -1., -1., -1., -1., -1.,\n",
       "         -1., -1., -1., -1.,  0., 42.,  0., 42.,  0., 42.,  0., 42.,  0., 42.,\n",
       "          0., 42.,  0., 42.,  0., 42.]])"
      ]
     },
     "execution_count": 858,
     "metadata": {},
     "output_type": "execute_result"
    }
   ],
   "source": [
    "expr_l_obj.x"
   ]
  },
  {
   "cell_type": "code",
   "execution_count": 856,
   "metadata": {},
   "outputs": [],
   "source": [
    "emb_l, emb_r, emb_r_c = model(expr_l_obj, expr_r_obj, expr_r_obj)"
   ]
  },
  {
   "cell_type": "code",
   "execution_count": 850,
   "metadata": {},
   "outputs": [
    {
     "name": "stdout",
     "output_type": "stream",
     "text": [
      "tensor([96952.6172], grad_fn=<NormBackward1>)\n"
     ]
    }
   ],
   "source": [
    "print(F.pairwise_distance(emb_l, emb_r))"
   ]
  },
  {
   "cell_type": "code",
   "execution_count": 767,
   "metadata": {},
   "outputs": [],
   "source": [
    "expr_left = {\n",
    "      \"type\": \"POW\",\n",
    "      \"value\": None,\n",
    "      \"subtype\": None,\n",
    "      \"children\": [\n",
    "        {\n",
    "          \"type\": \"POW\",\n",
    "          \"value\": None,\n",
    "          \"subtype\": None,\n",
    "          \"children\": [\n",
    "            {\n",
    "              \"type\": \"LITERAL\",\n",
    "              \"value\": -3.5,\n",
    "              \"subtype\": None,\n",
    "              \"children\": []\n",
    "            },\n",
    "            {\n",
    "              \"type\": \"LITERAL\",\n",
    "              \"value\": 3.0,\n",
    "              \"subtype\": None,\n",
    "              \"children\": []\n",
    "            }\n",
    "          ]\n",
    "        },\n",
    "        {\n",
    "          \"type\": \"LITERAL\",\n",
    "          \"value\": 4.5,\n",
    "          \"subtype\": None,\n",
    "          \"children\": []\n",
    "        }\n",
    "      ]\n",
    "    }\n",
    "expr_right = {\n",
    "      \"type\": \"POW\",\n",
    "      \"value\": None,\n",
    "      \"subtype\": None,\n",
    "      \"children\": [\n",
    "        {\n",
    "          \"type\": \"OPERATION\",\n",
    "          \"value\": None,\n",
    "          \"subtype\": \"ADD\",\n",
    "          \"children\": [\n",
    "            {\n",
    "              \"type\": \"LITERAL\",\n",
    "              \"value\": -5.5,\n",
    "              \"subtype\": None,\n",
    "              \"children\": []\n",
    "            },\n",
    "            {\n",
    "              \"type\": \"LITERAL\",\n",
    "              \"value\": -10.0,\n",
    "              \"subtype\": None,\n",
    "              \"children\": []\n",
    "            }\n",
    "          ]\n",
    "        },\n",
    "        {\n",
    "          \"type\": \"LITERAL\",\n",
    "          \"value\": 4.0,\n",
    "          \"subtype\": None,\n",
    "          \"children\": []\n",
    "        }\n",
    "      ]\n",
    "    }\n",
    "\n",
    "expr_right_constant_error ={\n",
    "      \"type\": \"POW\",\n",
    "      \"value\": None,\n",
    "      \"subtype\": None,\n",
    "      \"children\": [\n",
    "        {\n",
    "          \"type\": \"OPERATION\",\n",
    "          \"value\": None,\n",
    "          \"subtype\": \"ADD\",\n",
    "          \"children\": [\n",
    "            {\n",
    "              \"type\": \"LITERAL\",\n",
    "              \"value\": -5.5,\n",
    "              \"subtype\": None,\n",
    "              \"children\": []\n",
    "            },\n",
    "            {\n",
    "              \"type\": \"LITERAL\",\n",
    "              \"value\": -10.0,\n",
    "              \"subtype\": None,\n",
    "              \"children\": []\n",
    "            }\n",
    "          ]\n",
    "        },\n",
    "        {\n",
    "          \"type\": \"LITERAL\",\n",
    "          \"value\": 4.0,\n",
    "          \"subtype\": None,\n",
    "          \"children\": []\n",
    "        }\n",
    "      ]\n",
    "    }"
   ]
  },
  {
   "cell_type": "code",
   "execution_count": 302,
   "metadata": {},
   "outputs": [],
   "source": [
    "expr_l_obj = dict_to_geometric_representation(expr_left, node_attr_encoder)\n",
    "expr_r_obj = dict_to_geometric_representation(expr_right, node_attr_encoder)\n",
    "expr_r_c_obj = dict_to_geometric_representation(expr_right_constant_error, node_attr_encoder)"
   ]
  },
  {
   "cell_type": "code",
   "execution_count": 303,
   "metadata": {},
   "outputs": [],
   "source": [
    "emb_l, emb_r, emb_r_c = model(expr_l_obj, expr_r_obj, expr_r_c_obj)"
   ]
  },
  {
   "cell_type": "code",
   "execution_count": 304,
   "metadata": {},
   "outputs": [
    {
     "name": "stdout",
     "output_type": "stream",
     "text": [
      "tensor([1.0000], grad_fn=<SumBackward1>)\n",
      "tensor([1.0000], grad_fn=<SumBackward1>)\n",
      "tensor([1.0000], grad_fn=<SumBackward1>)\n",
      "tensor([1.0000], grad_fn=<SumBackward1>)\n"
     ]
    }
   ],
   "source": [
    "print(DISTANCE_FUNC(emb_l, emb_r))\n",
    "print(DISTANCE_FUNC(emb_l, emb_r_c))\n",
    "print(DISTANCE_FUNC(emb_r, emb_r_c))\n",
    "print(DISTANCE_FUNC(emb_r, emb_r))\n",
    "\n"
   ]
  },
  {
   "cell_type": "code",
   "execution_count": 774,
   "metadata": {},
   "outputs": [
    {
     "ename": "AttributeError",
     "evalue": "'TripletFormulaNet' object has no attribute 'info'",
     "output_type": "error",
     "traceback": [
      "\u001b[1;31m---------------------------------------------------------------------------\u001b[0m",
      "\u001b[1;31mAttributeError\u001b[0m                            Traceback (most recent call last)",
      "Cell \u001b[1;32mIn[774], line 1\u001b[0m\n\u001b[1;32m----> 1\u001b[0m \u001b[43mmodel\u001b[49m\u001b[38;5;241;43m.\u001b[39;49m\u001b[43minfo\u001b[49m()\n",
      "File \u001b[1;32m~\\AppData\\Roaming\\Python\\Python311\\site-packages\\torch\\nn\\modules\\module.py:1695\u001b[0m, in \u001b[0;36mModule.__getattr__\u001b[1;34m(self, name)\u001b[0m\n\u001b[0;32m   1693\u001b[0m     \u001b[38;5;28;01mif\u001b[39;00m name \u001b[38;5;129;01min\u001b[39;00m modules:\n\u001b[0;32m   1694\u001b[0m         \u001b[38;5;28;01mreturn\u001b[39;00m modules[name]\n\u001b[1;32m-> 1695\u001b[0m \u001b[38;5;28;01mraise\u001b[39;00m \u001b[38;5;167;01mAttributeError\u001b[39;00m(\u001b[38;5;124mf\u001b[39m\u001b[38;5;124m\"\u001b[39m\u001b[38;5;124m'\u001b[39m\u001b[38;5;132;01m{\u001b[39;00m\u001b[38;5;28mtype\u001b[39m(\u001b[38;5;28mself\u001b[39m)\u001b[38;5;241m.\u001b[39m\u001b[38;5;18m__name__\u001b[39m\u001b[38;5;132;01m}\u001b[39;00m\u001b[38;5;124m'\u001b[39m\u001b[38;5;124m object has no attribute \u001b[39m\u001b[38;5;124m'\u001b[39m\u001b[38;5;132;01m{\u001b[39;00mname\u001b[38;5;132;01m}\u001b[39;00m\u001b[38;5;124m'\u001b[39m\u001b[38;5;124m\"\u001b[39m)\n",
      "\u001b[1;31mAttributeError\u001b[0m: 'TripletFormulaNet' object has no attribute 'info'"
     ]
    }
   ],
   "source": [
    "model.info()"
   ]
  },
  {
   "cell_type": "code",
   "execution_count": null,
   "metadata": {},
   "outputs": [],
   "source": [
    "    {\n",
    "        \"expr_anchor\": {\"type\": \"OPERATION\", \"value\": null, \"subtype\": \"ADD\", \"children\": [{\"type\": \"FUNC\", \"value\": null, \"subtype\": \"COS\", \"children\": [{\"type\": \"POW\", \"value\": null, \"subtype\": null, \"children\": [{\"type\": \"VARIABLE\", \"value\": \"x\", \"subtype\": null, \"children\": []}, {\"type\": \"LITERAL\", \"value\": 2.0, \"subtype\": null, \"children\": []}]}]}, {\"type\": \"FUNC\", \"value\": null, \"subtype\": \"SIN\", \"children\": [{\"type\": \"POW\", \"value\": null, \"subtype\": null, \"children\": [{\"type\": \"VARIABLE\", \"value\": \"x\", \"subtype\": null, \"children\": []}, {\"type\": \"LITERAL\", \"value\": 2.0, \"subtype\": null, \"children\": []}]}]}]},\n",
    "\n",
    "        \"expr_true\": {\"type\": \"LITERAL\", \"value\": 1.0, \"subtype\": null, \"children\": []},\n",
    "        \"expr_false\": {\"type\": \"FUNC\", \"value\": null, \"subtype\": \"COS\", \"children\": [{\"type\": \"VARIABLE\", \"value\": \"x\", \"subtype\": null, \"children\": []}]}\n",
    "\n",
    "    }"
   ]
  }
 ],
 "metadata": {
  "kernelspec": {
   "display_name": "Python 3",
   "language": "python",
   "name": "python3"
  },
  "language_info": {
   "codemirror_mode": {
    "name": "ipython",
    "version": 3
   },
   "file_extension": ".py",
   "mimetype": "text/x-python",
   "name": "python",
   "nbconvert_exporter": "python",
   "pygments_lexer": "ipython3",
   "version": "3.11.9"
  }
 },
 "nbformat": 4,
 "nbformat_minor": 2
}
