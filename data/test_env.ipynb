{
 "cells": [
  {
   "cell_type": "code",
   "execution_count": 240,
   "metadata": {},
   "outputs": [],
   "source": [
    "import sympy as sp"
   ]
  },
  {
   "cell_type": "code",
   "execution_count": 247,
   "metadata": {},
   "outputs": [
    {
     "ename": "AttributeError",
     "evalue": "type object 'Pow' has no attribute 'nargs'",
     "output_type": "error",
     "traceback": [
      "\u001b[1;31m---------------------------------------------------------------------------\u001b[0m",
      "\u001b[1;31mAttributeError\u001b[0m                            Traceback (most recent call last)",
      "Cell \u001b[1;32mIn[247], line 2\u001b[0m\n\u001b[0;32m      1\u001b[0m \u001b[38;5;28;01mfor\u001b[39;00m operation \u001b[38;5;129;01min\u001b[39;00m [ sp\u001b[38;5;241m.\u001b[39mPow, sp\u001b[38;5;241m.\u001b[39msin, sp\u001b[38;5;241m.\u001b[39mcos, sp\u001b[38;5;241m.\u001b[39mtan, sp\u001b[38;5;241m.\u001b[39mexp, sp\u001b[38;5;241m.\u001b[39mlog]:\n\u001b[1;32m----> 2\u001b[0m     \u001b[38;5;28mprint\u001b[39m(operation, \u001b[43moperation\u001b[49m\u001b[38;5;241;43m.\u001b[39;49m\u001b[43mnargs\u001b[49m)\n",
      "\u001b[1;31mAttributeError\u001b[0m: type object 'Pow' has no attribute 'nargs'"
     ]
    }
   ],
   "source": [
    "for operation in [ sp.Add,sp.Pow, sp.sin, sp.cos, sp.tan, sp.exp, sp.log]:\n",
    "    print(operation, operation.nargs)"
   ]
  },
  {
   "cell_type": "code",
   "execution_count": 248,
   "metadata": {},
   "outputs": [],
   "source": [
    "x,y = sp.symbols(\"x, y\")\n",
    "expr = x + y"
   ]
  },
  {
   "cell_type": "code",
   "execution_count": 249,
   "metadata": {},
   "outputs": [
    {
     "data": {
      "text/plain": [
       "sympy.core.add.Add"
      ]
     },
     "execution_count": 249,
     "metadata": {},
     "output_type": "execute_result"
    }
   ],
   "source": [
    "expr.func"
   ]
  },
  {
   "cell_type": "code",
   "execution_count": null,
   "metadata": {},
   "outputs": [],
   "source": []
  }
 ],
 "metadata": {
  "language_info": {
   "name": "python"
  }
 },
 "nbformat": 4,
 "nbformat_minor": 2
}
