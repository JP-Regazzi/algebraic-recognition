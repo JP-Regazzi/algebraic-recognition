{
 "cells": [
  {
   "cell_type": "code",
   "execution_count": 43,
   "metadata": {},
   "outputs": [],
   "source": [
    "from typing import Tuple"
   ]
  },
  {
   "cell_type": "code",
   "execution_count": 441,
   "metadata": {},
   "outputs": [],
   "source": [
    "import torch\n",
    "from torch_geometric.data import InMemoryDataset, Data, Batch\n",
    "from torch.utils.data import DataLoader, Subset\n",
    "from sklearn.calibration import LabelEncoder\n",
    "from generate_dataset import generate_dataset\n",
    "import json "
   ]
  },
  {
   "cell_type": "markdown",
   "metadata": {},
   "source": [
    "Constants"
   ]
  },
  {
   "cell_type": "code",
   "execution_count": 442,
   "metadata": {},
   "outputs": [],
   "source": [
    "GENERATED_DATASET_SIZE = 300\n",
    "BATCH_SIZE = 32\n",
    "TRAIN_RATIO = 0.6\n",
    "VAL_RATIO = 0.2"
   ]
  },
  {
   "cell_type": "code",
   "execution_count": 443,
   "metadata": {},
   "outputs": [],
   "source": [
    "\n",
    "def dict_to_geometric_representation(in_graph_dict: dict, encoder) -> Data:\n",
    "    node_list = []\n",
    "    edge_mappings = []\n",
    "    def traverse_graph(graph = in_graph_dict):\n",
    "        nonlocal node_list\n",
    "        nonlocal edge_mappings\n",
    "        curr_node_index = len(node_list)\n",
    "        encoded_data = encoder({\"type\": graph[\"type\"], \"subtype\": graph[\"subtype\"], \"value\": graph[\"value\"]})\n",
    "        # print(\"Encoded data: \", encoded_data)\n",
    "        node_list.append(encoded_data)\n",
    "        if \"children\" in graph.keys():\n",
    "            for child in graph[\"children\"]:\n",
    "                edge_mappings.append((curr_node_index, traverse_graph(child)) ) #I'm retarded.\n",
    "        return curr_node_index\n",
    "    traverse_graph()\n",
    "    nodes = torch.tensor(node_list,dtype=torch.float32)\n",
    "    edges = torch.tensor([[x[0] for x in edge_mappings], [x[1] for x in edge_mappings]], dtype=torch.long) # Probably slow and mentally degenerated\n",
    "    geom_data = Data(x=nodes, edge_index=edges)\n",
    "    return geom_data"
   ]
  },
  {
   "cell_type": "code",
   "execution_count": 467,
   "metadata": {},
   "outputs": [],
   "source": [
    "TYPES = [\"FUNC\", \"OPERATION\", \"POW\", \"LITERAL\", \"VARIABLE\", \"CONSTANT_LITERAL\"]\n",
    "OPERATIONS = [\"ADD\", \"MUL\", \"FUNC\", \"POW\"]\n",
    "FUNCTIONS = [\"SIN\", \"COS\", \"TAN\", \"EXP\", \"LOG\", \"SINH\", \"COSH\"]\n",
    "VARIABLE_ALPHABET = [chr(x) for x in range(ord('a'), ord('z')+1) if chr(x) not in [\"e\", \"i\"]]\n",
    "CLASSIC_CONSTANTS = [\"PI\", \"I\", \"g\",\"e\", \"zoo\"]\n"
   ]
  },
  {
   "cell_type": "code",
   "execution_count": 468,
   "metadata": {},
   "outputs": [],
   "source": [
    "\n",
    "from math import nan\n",
    "\n",
    "\n",
    "def make_node_attribute_encoder(label_encoder:LabelEncoder, rep = 4):\n",
    "    def node_attr_encoder(attr):\n",
    "        type_encoding = label_encoder.transform([attr[\"type\"]]) if attr[\"type\"] else [-1]\n",
    "        subtype_encoding = label_encoder.transform([attr[\"subtype\"]]) if attr[\"subtype\"] else [-1]\n",
    "        value_encoding_vec = None\n",
    "        if attr[\"value\"]:\n",
    "            if isinstance(attr[\"value\"], str):\n",
    "                value_encoding = label_encoder.transform([attr[\"value\"]])\n",
    "                value_encoding_vec = [(0 if i % 2 == 0 else value_encoding[0]) for i in range(rep)]\n",
    "            else: \n",
    "                # big num correction: \n",
    "                val = float(attr[\"value\"])\n",
    "                if val > 100000:\n",
    "                    val = -41\n",
    "                elif val == nan:\n",
    "                    val = -51\n",
    "                value_encoding_vec = [(0 if i % 2 == 1 else val) for i in range(rep)]\n",
    "                \n",
    "        else:\n",
    "            value_encoding = [-1]\n",
    "            value_encoding_vec = value_encoding*rep \n",
    "        \n",
    "        type_encoding_vec = [type_encoding[0]] * rep\n",
    "        subtype_encoding_vec = [subtype_encoding[0]] * rep       \n",
    "        \n",
    "        return type_encoding_vec + subtype_encoding_vec + value_encoding_vec\n",
    "        # if isinstance(attr, str) and attr in OPERATIONS+FUNCTIONS+CLASSIC_CONSTANTS+VARIABLE_ALPHABET:\n",
    "        #     res = label_encoder.transform([attr])\n",
    "        #     return [res[0]]*(rep + 1)\n",
    "        # else:\n",
    "        #     return [0] + [float(attr)]*rep\n",
    "        \n",
    "            \n",
    "    return node_attr_encoder"
   ]
  },
  {
   "cell_type": "code",
   "execution_count": 469,
   "metadata": {},
   "outputs": [],
   "source": [
    "def create_dataset_class(expression):\n",
    "    # Will it be the same for both datasets ? \n",
    "    le = LabelEncoder()\n",
    "    le.fit(OPERATIONS+FUNCTIONS+CLASSIC_CONSTANTS+VARIABLE_ALPHABET+TYPES)\n",
    "    class MathExpressionDataset(InMemoryDataset):\n",
    "        def __init__(self, root, transform=None, pre_transform=None, pre_filter=None):\n",
    "            super().__init__(root, transform, pre_transform, pre_filter, force_reload=True)\n",
    "            self.load(self.processed_paths[0])\n",
    "            \n",
    "        @property\n",
    "        def raw_file_names(self):\n",
    "            return ['math_datagen.json']\n",
    "\n",
    "        @property\n",
    "        def processed_file_names(self):\n",
    "            return ['data.pt']\n",
    "        \n",
    "\n",
    "        def process(self):\n",
    "            # Read data into huge `Data` list.\n",
    "            data_list = []\n",
    "            for file in self.raw_file_names:\n",
    "                with open(file) as file_handle:\n",
    "                    object_data = json.load(file_handle)\n",
    "                    for comparison in object_data:\n",
    "                        # print(\"Comparison before : \",comparison)\n",
    "                        # LEGACY : Remove first case once fixed bug in datagen\n",
    "                        if isinstance(comparison,list):\n",
    "                            expr = comparison[0 if expression == \"expr_l\" else 1]\n",
    "                            score = comparison[2]\n",
    "                            geometric_expr = dict_to_geometric_representation(expr, make_node_attribute_encoder(le))\n",
    "                            geometric_expr.y = score #torch.tensor([score],dtype=torch.float32)\n",
    "                            data_list.append(geometric_expr)\n",
    "                        else:\n",
    "                            expr = comparison[expression]\n",
    "                            score = comparison[\"score\"]\n",
    "                            geometric_expr = dict_to_geometric_representation(expr, make_node_attribute_encoder(le))\n",
    "                            geometric_expr.y = score #torch.tensor([score],dtype=torch.float32)\n",
    "                            data_list.append(geometric_expr)\n",
    "                        \n",
    "            if self.pre_filter is not None:\n",
    "                data_list = [data for data in data_list if self.pre_filter(data)]\n",
    "\n",
    "            if self.pre_transform is not None:\n",
    "                data_list = [self.pre_transform(data) for data in data_list]\n",
    "            self.save(data_list, self.processed_paths[0])\n",
    "    return MathExpressionDataset\n",
    "    "
   ]
  },
  {
   "cell_type": "code",
   "execution_count": 470,
   "metadata": {},
   "outputs": [],
   "source": [
    "class ExpressionPairDataset(torch.utils.data.Dataset):\n",
    "    def __init__(self, root, transform=None, pre_transform=None, pre_filter=None):\n",
    "        super().__init__()\n",
    "        self.dataset_l = create_dataset_class(\"expr_l\")(root+\"_l\",transform=None, pre_transform=None, pre_filter=None)\n",
    "        self.dataset_r = create_dataset_class(\"expr_r\")(root+\"_r\",transform=None, pre_transform=None, pre_filter=None)\n",
    "        \n",
    "    @property \n",
    "    def num_features(self):\n",
    "        return self.dataset_l.num_features\n",
    "    \n",
    "    def __len__(self):\n",
    "        return len(self.dataset_l)\n",
    "        \n",
    "    \n",
    "    \n",
    "    def __getitem__(self, idx):\n",
    "        return self.dataset_l[idx], self.dataset_r[idx]"
   ]
  },
  {
   "cell_type": "code",
   "execution_count": 471,
   "metadata": {},
   "outputs": [
    {
     "name": "stderr",
     "output_type": "stream",
     "text": [
      "Processing...\n",
      "Done!\n",
      "Processing...\n",
      "Done!\n"
     ]
    }
   ],
   "source": [
    "#generate_dataset(GENERATED_DATASET_SIZE,\"math_datagen.json\") #TODO: Switch to orjson, loading this file will take ages as I generate more data\n",
    "dataset = ExpressionPairDataset(root=\"/dataset\")"
   ]
  },
  {
   "cell_type": "code",
   "execution_count": 472,
   "metadata": {},
   "outputs": [
    {
     "name": "stdout",
     "output_type": "stream",
     "text": [
      "8000\n"
     ]
    }
   ],
   "source": [
    "print(len(dataset))"
   ]
  },
  {
   "cell_type": "code",
   "execution_count": 473,
   "metadata": {},
   "outputs": [],
   "source": [
    "from torch import nn\n",
    "from torch.nn import Linear, ReLU, LeakyReLU\n",
    "import torch.nn.functional as F\n",
    "from torch_geometric.nn import GCNConv, global_mean_pool\n",
    "import numpy as np"
   ]
  },
  {
   "cell_type": "code",
   "execution_count": 474,
   "metadata": {},
   "outputs": [],
   "source": [
    "class FormulaNet(nn.Module):\n",
    "    def __init__(self, hidden_channels: int, embedding_space: int):\n",
    "        super(FormulaNet, self).__init__()\n",
    "        self.dense_1 = Linear(dataset.num_features, dataset.num_features) \n",
    "        self.relu_1 = LeakyReLU()\n",
    "        self.gconv_1 = GCNConv(dataset.num_features, hidden_channels)\n",
    "        self.gconv_2 = GCNConv(hidden_channels, hidden_channels)\n",
    "        self.dense_3 = Linear(hidden_channels, embedding_space)\n",
    "    \n",
    "    def forward(self, x, edge_index, batch):\n",
    "        \n",
    "        if torch.isnan(x).any():\n",
    "            with np.printoptions(threshold=99999):\n",
    "                print(\"Some values of the input are nan: \", x)\n",
    "        \n",
    "        x = torch.nan_to_num(x, -51)\n",
    "        \n",
    "        # print(\"X = \", str(x))\n",
    "        x = self.dense_1(x)\n",
    "        # print(\"d1 X = \", str(x))\n",
    "        x = self.relu_1(x)\n",
    "        # print(\"rd1 X = \", str(x))\n",
    "        x = self.gconv_1(x, edge_index)\n",
    "        # print(\"gcn1 X = \", str(x))\n",
    "        x = self.relu_1(x)\n",
    "        # print(\"rgcn1 X = \", str(x))\n",
    "        x = self.gconv_2(x, edge_index)\n",
    "        # print(\"gcn2 X = \", str(x))\n",
    "        x = self.relu_1(x)\n",
    "        # print(\"rgcn2 X = \", str(x))\n",
    "        x = global_mean_pool(x, batch)\n",
    "        x = F.dropout(x, p=0.3,training=self.training)\n",
    "        x = self.dense_3(x)\n",
    "        x = self.relu_1(x)\n",
    "        return x\n",
    "    "
   ]
  },
  {
   "cell_type": "code",
   "execution_count": 475,
   "metadata": {},
   "outputs": [],
   "source": [
    "class SiameseFormulaNet(nn.Module):\n",
    "    def __init__(self, hidden_channels, embedding_space):\n",
    "        super(SiameseFormulaNet, self).__init__()\n",
    "        self.formulanet = FormulaNet(hidden_channels, embedding_space)\n",
    "        # self.fc = nn.Sequential(\n",
    "        #     Linear(embedding_space*2, embedding_space),\n",
    "        #     ReLU(inplace=True),\n",
    "        #     Linear(embedding_space, 1)\n",
    "        # )\n",
    "        # self.sigmoid = nn.Sigmoid() # TODO: Only used it for testing purposes, everything is subject to change Okay\n",
    "    \n",
    "\n",
    "    def forward(self, expr_l, expr_r):\n",
    "        # print(expr_l)\n",
    "        # print(\"X = \", expr_l.x)\n",
    "        # print(\"X shape = \", expr_l.x.shape)\n",
    "        # print(\"Batch = \",expr_l.batch)\n",
    "        # print(\"Batch shape = \",expr_l.batch.shape)\n",
    "        # print(\"Y =\", expr_l.y)\n",
    "        # print(\"Edge index = \",expr_l.edge_index)\n",
    "        # print(\"Edge index shape = \",expr_l.edge_index.shape)\n",
    "        \n",
    "        embed_l = self.formulanet(expr_l.x,expr_l.edge_index, expr_l.batch)\n",
    "        # print(\"Embed Left : \", embed_l)\n",
    "        # print(\"Embed Left Shape: \", embed_l.shape)\n",
    "        embed_l = embed_l.view(embed_l.size()[0], -1)\n",
    "        embed_r = self.formulanet(expr_r.x,expr_r.edge_index, expr_r.batch)\n",
    "        # print(\"Embed Right : \", embed_r)\n",
    "        # print(\"Embed Right Shape: \", embed_r.shape)\n",
    "        embed_r = embed_r.view(embed_r.size()[0], -1)\n",
    "        \n",
    "        # output = torch.cat((embed_l, embed_r), 1)\n",
    "        \n",
    "        # output = self.fc(output)\n",
    "        # output = self.sigmoid(output)\n",
    "        # return output\n",
    "        return embed_l, embed_r\n",
    "        \n",
    "        \n",
    "        "
   ]
  },
  {
   "cell_type": "code",
   "execution_count": null,
   "metadata": {},
   "outputs": [],
   "source": []
  },
  {
   "cell_type": "code",
   "execution_count": 476,
   "metadata": {},
   "outputs": [],
   "source": [
    "from torch.utils.data import random_split"
   ]
  },
  {
   "cell_type": "code",
   "execution_count": 477,
   "metadata": {},
   "outputs": [],
   "source": [
    "total_len = len(dataset.dataset_l)\n",
    "train_len = int(TRAIN_RATIO * total_len)\n",
    "val_len = int(VAL_RATIO * total_len)\n",
    "test_len = total_len - train_len - val_len\n",
    "train_dataset, val_dataset, test_dataset = random_split(dataset, [train_len, val_len, test_len])"
   ]
  },
  {
   "cell_type": "code",
   "execution_count": 478,
   "metadata": {},
   "outputs": [],
   "source": [
    "\n",
    "def collate(data_list):\n",
    "    batchA = Batch.from_data_list([data[0] for data in data_list])\n",
    "    batchB = Batch.from_data_list([data[1] for data in data_list])\n",
    "    return batchA, batchB\n",
    "# NOTE: Type ignore only for collate_fn_t ... make sure it doesn't get in the way of correct typing for the dataset\n",
    "train_loader = DataLoader(train_dataset, batch_size=BATCH_SIZE, shuffle=True, collate_fn=collate) # type: ignore\n",
    "validation_laoder = DataLoader(val_dataset, batch_size=BATCH_SIZE, shuffle= False, collate_fn = collate)\n",
    "test_loader = DataLoader(test_dataset, batch_size=BATCH_SIZE, shuffle=False, collate_fn=collate) # type: ignore\n"
   ]
  },
  {
   "cell_type": "code",
   "execution_count": 479,
   "metadata": {},
   "outputs": [],
   "source": [
    "device = torch.device(\"cpu\") #torch.device(\"cuda\" if torch.cuda.is_available() else \"cpu\")"
   ]
  },
  {
   "cell_type": "code",
   "execution_count": 480,
   "metadata": {},
   "outputs": [],
   "source": [
    "model = SiameseFormulaNet(32,64).to(device)"
   ]
  },
  {
   "cell_type": "code",
   "execution_count": 481,
   "metadata": {},
   "outputs": [],
   "source": [
    "optimizer = torch.optim.Adam(model.parameters(), lr=0.000001)"
   ]
  },
  {
   "cell_type": "code",
   "execution_count": 482,
   "metadata": {},
   "outputs": [],
   "source": [
    "from tqdm import tqdm"
   ]
  },
  {
   "cell_type": "code",
   "execution_count": 483,
   "metadata": {},
   "outputs": [],
   "source": [
    "def contrastive_loss(embed_l, embed_r, labels, margin=1.0, threshold=0.5):\n",
    "    # print(\"Embed Left : \", embed_l)\n",
    "    # print(\"Embed Left shape: \", embed_l.shape)\n",
    "    # print(\"Embed Right : \", embed_r)\n",
    "    # print(\"Embed Right shape: \", embed_r.shape)\n",
    "    euclidean_distance = F.pairwise_distance(embed_l, embed_r)\n",
    "    # print(\"Euclidean distance : \", euclidean_distance)\n",
    "    #labels = (labels > threshold).float()  # Convert labels to 0 or 1\n",
    "    # print(\"Labels : \", labels)\n",
    "    # print(\"Labels Shape: \", labels.shape)\n",
    "    loss_contrastive = torch.mean((1 - labels) * torch.pow(euclidean_distance, 2) +\n",
    "                                  labels * torch.pow(torch.clamp(margin - euclidean_distance, min=0.0), 2))\n",
    "    # print(\"Constrastive Loss : \", loss_contrastive)\n",
    "    return loss_contrastive"
   ]
  },
  {
   "cell_type": "code",
   "execution_count": 484,
   "metadata": {},
   "outputs": [],
   "source": [
    "def train(epoch):\n",
    "    model.train()\n",
    "    epoch_loss = 0\n",
    "    for batch_l, batch_r in tqdm(train_loader, desc=f'Epoch {epoch}'):\n",
    "        # print(batch_l)\n",
    "        # print(\"x : \",batch_l.x)\n",
    "        # print(\"y : \", batch_l.y)\n",
    "        # print(\"edge_index : \", batch_l.edge_index)\n",
    "        \n",
    "        # break\n",
    "        batch_l, batch_r = batch_l.to(device), batch_r.to(device)\n",
    "        optimizer.zero_grad()\n",
    "        embed_l, embed_r = model(batch_l, batch_r)\n",
    "        loss = contrastive_loss(embed_l, embed_r, batch_l.y)\n",
    "        loss.backward()\n",
    "        optimizer.step()\n",
    "        epoch_loss += loss.item()\n",
    "    print(f'Epoch {epoch}, Loss: {epoch_loss / len(train_loader)}')"
   ]
  },
  {
   "cell_type": "code",
   "execution_count": 485,
   "metadata": {},
   "outputs": [],
   "source": [
    "def validate():\n",
    "    model.eval()\n",
    "    test_loss = 0\n",
    "    correct = 0\n",
    "    with torch.no_grad():\n",
    "        for batch_l, batch_r in validation_laoder:\n",
    "            batch_l, batch_r = batch_l.to(device), batch_r.to(device)\n",
    "            embed_l, embed_r = model(batch_l, batch_r)\n",
    "            euclidean_distance = F.pairwise_distance(embed_l, embed_r)\n",
    "            pred = (euclidean_distance < 0.5).float()  # Adjust the threshold as needed\n",
    "            correct += (pred == batch_l.y).sum().item()\n",
    "            test_loss += contrastive_loss(embed_l, embed_r, batch_l.y).item()\n",
    "    test_loss /= len(test_loader)\n",
    "    acc = correct / len(test_dataset)\n",
    "    print(f'Test Loss: {test_loss}, Accuracy: {acc}')"
   ]
  },
  {
   "cell_type": "code",
   "execution_count": 486,
   "metadata": {},
   "outputs": [],
   "source": [
    "import os\n",
    "os.environ['CUDA_LAUNCH_BLOCKING'] = \"1\""
   ]
  },
  {
   "cell_type": "code",
   "execution_count": 487,
   "metadata": {},
   "outputs": [
    {
     "name": "stderr",
     "output_type": "stream",
     "text": [
      "Epoch 0:   0%|          | 0/150 [00:00<?, ?it/s]"
     ]
    },
    {
     "name": "stderr",
     "output_type": "stream",
     "text": [
      "Epoch 0:  11%|█▏        | 17/150 [00:00<00:03, 39.00it/s]"
     ]
    },
    {
     "name": "stdout",
     "output_type": "stream",
     "text": [
      "Some values of the input are nan:  tensor([[ 5.0000,  5.0000,  5.0000,  ..., -1.0000, -1.0000, -1.0000],\n",
      "        [10.0000, 10.0000, 10.0000,  ..., -1.0000, -1.0000, -1.0000],\n",
      "        [16.0000, 16.0000, 16.0000,  ..., 27.0000,  0.0000, 27.0000],\n",
      "        ...,\n",
      "        [16.0000, 16.0000, 16.0000,  ..., 28.0000,  0.0000, 28.0000],\n",
      "        [ 7.0000,  7.0000,  7.0000,  ...,  0.0000,  0.5000,  0.0000],\n",
      "        [ 7.0000,  7.0000,  7.0000,  ...,  0.0000, -3.5000,  0.0000]])\n",
      "Some values of the input are nan:  tensor([[ 5.0000,  5.0000,  5.0000,  ..., -1.0000, -1.0000, -1.0000],\n",
      "        [10.0000, 10.0000, 10.0000,  ..., -1.0000, -1.0000, -1.0000],\n",
      "        [16.0000, 16.0000, 16.0000,  ..., 27.0000,  0.0000, 27.0000],\n",
      "        ...,\n",
      "        [ 5.0000,  5.0000,  5.0000,  ..., -1.0000, -1.0000, -1.0000],\n",
      "        [16.0000, 16.0000, 16.0000,  ..., 33.0000,  0.0000, 33.0000],\n",
      "        [ 7.0000,  7.0000,  7.0000,  ...,  0.0000, -3.5000,  0.0000]])\n",
      "Some values of the input are nan:  tensor([[ 5.,  5.,  5.,  ..., -1., -1., -1.],\n",
      "        [ 5.,  5.,  5.,  ..., -1., -1., -1.],\n",
      "        [16., 16., 16.,  ..., 27.,  0., 27.],\n",
      "        ...,\n",
      "        [ 7.,  7.,  7.,  ...,  0., -1.,  0.],\n",
      "        [ 7.,  7.,  7.,  ...,  0., -5.,  0.],\n",
      "        [ 7.,  7.,  7.,  ...,  0., -3.,  0.]])\n"
     ]
    },
    {
     "name": "stderr",
     "output_type": "stream",
     "text": [
      "Epoch 0:  55%|█████▌    | 83/150 [00:02<00:01, 41.21it/s]"
     ]
    },
    {
     "name": "stdout",
     "output_type": "stream",
     "text": [
      "Some values of the input are nan:  tensor([[10.0000, 10.0000, 10.0000,  ..., -1.0000, -1.0000, -1.0000],\n",
      "        [ 7.0000,  7.0000,  7.0000,  ...,  0.0000,  1.2528,  0.0000],\n",
      "        [10.0000, 10.0000, 10.0000,  ..., -1.0000, -1.0000, -1.0000],\n",
      "        ...,\n",
      "        [10.0000, 10.0000, 10.0000,  ..., -1.0000, -1.0000, -1.0000],\n",
      "        [ 7.0000,  7.0000,  7.0000,  ...,  0.0000,  1.5708,  0.0000],\n",
      "        [ 1.0000,  1.0000,  1.0000,  ...,  6.0000,  0.0000,  6.0000]])\n"
     ]
    },
    {
     "name": "stderr",
     "output_type": "stream",
     "text": [
      "Epoch 0:  82%|████████▏ | 123/150 [00:03<00:00, 40.57it/s]"
     ]
    },
    {
     "name": "stdout",
     "output_type": "stream",
     "text": [
      "Some values of the input are nan:  tensor([[ 5.0000,  5.0000,  5.0000,  ..., -1.0000, -1.0000, -1.0000],\n",
      "        [10.0000, 10.0000, 10.0000,  ..., -1.0000, -1.0000, -1.0000],\n",
      "        [12.0000, 12.0000, 12.0000,  ..., -1.0000, -1.0000, -1.0000],\n",
      "        ...,\n",
      "        [16.0000, 16.0000, 16.0000,  ..., 40.0000,  0.0000, 40.0000],\n",
      "        [ 7.0000,  7.0000,  7.0000,  ...,  0.0000, -9.5000,  0.0000],\n",
      "        [ 7.0000,  7.0000,  7.0000,  ...,  0.0000,  6.0000,  0.0000]])\n"
     ]
    },
    {
     "name": "stderr",
     "output_type": "stream",
     "text": [
      "Epoch 0: 100%|██████████| 150/150 [00:03<00:00, 40.18it/s]"
     ]
    },
    {
     "name": "stdout",
     "output_type": "stream",
     "text": [
      "Some values of the input are nan:  tensor([[10.0000, 10.0000, 10.0000,  ..., -1.0000, -1.0000, -1.0000],\n",
      "        [16.0000, 16.0000, 16.0000,  ..., 36.0000,  0.0000, 36.0000],\n",
      "        [16.0000, 16.0000, 16.0000,  ..., 40.0000,  0.0000, 40.0000],\n",
      "        ...,\n",
      "        [16.0000, 16.0000, 16.0000,  ..., 20.0000,  0.0000, 20.0000],\n",
      "        [16.0000, 16.0000, 16.0000,  ..., 36.0000,  0.0000, 36.0000],\n",
      "        [ 7.0000,  7.0000,  7.0000,  ...,  0.0000,  1.5000,  0.0000]])\n"
     ]
    },
    {
     "name": "stderr",
     "output_type": "stream",
     "text": [
      "\n"
     ]
    },
    {
     "name": "stdout",
     "output_type": "stream",
     "text": [
      "Epoch 0, Loss: nan\n",
      "Some values of the input are nan:  tensor([[10.0000, 10.0000, 10.0000,  ..., -1.0000, -1.0000, -1.0000],\n",
      "        [ 7.0000,  7.0000,  7.0000,  ...,  0.0000, -5.5000,  0.0000],\n",
      "        [ 7.0000,  7.0000,  7.0000,  ...,  0.0000,  2.5000,  0.0000],\n",
      "        ...,\n",
      "        [10.0000, 10.0000, 10.0000,  ..., -1.0000, -1.0000, -1.0000],\n",
      "        [ 7.0000,  7.0000,  7.0000,  ...,  0.0000,  9.0000,  0.0000],\n",
      "        [ 7.0000,  7.0000,  7.0000,  ...,  0.0000,  3.0000,  0.0000]])\n",
      "Some values of the input are nan:  tensor([[10.0000, 10.0000, 10.0000,  ..., -1.0000, -1.0000, -1.0000],\n",
      "        [ 7.0000,  7.0000,  7.0000,  ...,  0.0000, -5.5000,  0.0000],\n",
      "        [ 7.0000,  7.0000,  7.0000,  ...,  0.0000,  2.5000,  0.0000],\n",
      "        ...,\n",
      "        [10.0000, 10.0000, 10.0000,  ..., -1.0000, -1.0000, -1.0000],\n",
      "        [ 7.0000,  7.0000,  7.0000,  ...,  0.0000,  9.0000,  0.0000],\n",
      "        [ 7.0000,  7.0000,  7.0000,  ...,  0.0000,  3.0000,  0.0000]])\n",
      "Test Loss: nan, Accuracy: 0.498125\n"
     ]
    },
    {
     "name": "stderr",
     "output_type": "stream",
     "text": [
      "Epoch 1:  21%|██        | 31/150 [00:00<00:01, 71.80it/s]"
     ]
    },
    {
     "name": "stdout",
     "output_type": "stream",
     "text": [
      "Some values of the input are nan:  tensor([[ 5.,  5.,  5.,  ..., -1., -1., -1.],\n",
      "        [ 5.,  5.,  5.,  ..., -1., -1., -1.],\n",
      "        [12., 12., 12.,  ..., -1., -1., -1.],\n",
      "        ...,\n",
      "        [16., 16., 16.,  ..., 28.,  0., 28.],\n",
      "        [ 7.,  7.,  7.,  ...,  0., -7.,  0.],\n",
      "        [ 7.,  7.,  7.,  ...,  0.,  8.,  0.]])\n",
      "Some values of the input are nan:  tensor([[ 5.0000,  5.0000,  5.0000,  ..., -1.0000, -1.0000, -1.0000],\n",
      "        [ 5.0000,  5.0000,  5.0000,  ..., -1.0000, -1.0000, -1.0000],\n",
      "        [10.0000, 10.0000, 10.0000,  ..., -1.0000, -1.0000, -1.0000],\n",
      "        ...,\n",
      "        [ 7.0000,  7.0000,  7.0000,  ...,  0.0000, -6.0000,  0.0000],\n",
      "        [ 7.0000,  7.0000,  7.0000,  ...,  0.0000, -7.5000,  0.0000],\n",
      "        [ 7.0000,  7.0000,  7.0000,  ...,  0.0000,  5.0000,  0.0000]])\n"
     ]
    },
    {
     "name": "stderr",
     "output_type": "stream",
     "text": [
      "Epoch 1:  37%|███▋      | 56/150 [00:00<00:01, 73.20it/s]"
     ]
    },
    {
     "name": "stdout",
     "output_type": "stream",
     "text": [
      "Some values of the input are nan:  tensor([[12., 12., 12.,  ..., -1., -1., -1.],\n",
      "        [10., 10., 10.,  ..., -1., -1., -1.],\n",
      "        [ 7.,  7.,  7.,  ...,  0.,  5.,  0.],\n",
      "        ...,\n",
      "        [10., 10., 10.,  ..., -1., -1., -1.],\n",
      "        [16., 16., 16.,  ..., 22.,  0., 22.],\n",
      "        [16., 16., 16.,  ..., 39.,  0., 39.]])\n",
      "Some values of the input are nan:  tensor([[10.0000, 10.0000, 10.0000,  ..., -1.0000, -1.0000, -1.0000],\n",
      "        [ 7.0000,  7.0000,  7.0000,  ...,  0.0000,  3.8902,  0.0000],\n",
      "        [10.0000, 10.0000, 10.0000,  ..., -1.0000, -1.0000, -1.0000],\n",
      "        ...,\n",
      "        [ 5.0000,  5.0000,  5.0000,  ..., -1.0000, -1.0000, -1.0000],\n",
      "        [16.0000, 16.0000, 16.0000,  ..., 41.0000,  0.0000, 41.0000],\n",
      "        [ 7.0000,  7.0000,  7.0000,  ...,  0.0000, -8.0000,  0.0000]])\n"
     ]
    },
    {
     "name": "stderr",
     "output_type": "stream",
     "text": [
      "Epoch 1: 100%|██████████| 150/150 [00:02<00:00, 71.43it/s]"
     ]
    },
    {
     "name": "stdout",
     "output_type": "stream",
     "text": [
      "Some values of the input are nan:  tensor([[ 5.,  5.,  5.,  ..., -1., -1., -1.],\n",
      "        [10., 10., 10.,  ..., -1., -1., -1.],\n",
      "        [10., 10., 10.,  ..., -1., -1., -1.],\n",
      "        ...,\n",
      "        [16., 16., 16.,  ..., 34.,  0., 34.],\n",
      "        [ 7.,  7.,  7.,  ...,  0., -9.,  0.],\n",
      "        [ 7.,  7.,  7.,  ...,  0., -6.,  0.]])\n",
      "Some values of the input are nan:  tensor([[ 5.,  5.,  5.,  ..., -1., -1., -1.],\n",
      "        [10., 10., 10.,  ..., -1., -1., -1.],\n",
      "        [10., 10., 10.,  ..., -1., -1., -1.],\n",
      "        ...,\n",
      "        [16., 16., 16.,  ..., 34.,  0., 34.],\n",
      "        [ 7.,  7.,  7.,  ...,  0., -9.,  0.],\n",
      "        [ 7.,  7.,  7.,  ...,  0., -6.,  0.]])\n"
     ]
    },
    {
     "name": "stderr",
     "output_type": "stream",
     "text": [
      "\n"
     ]
    },
    {
     "name": "stdout",
     "output_type": "stream",
     "text": [
      "Epoch 1, Loss: nan\n",
      "Some values of the input are nan:  tensor([[10.0000, 10.0000, 10.0000,  ..., -1.0000, -1.0000, -1.0000],\n",
      "        [ 7.0000,  7.0000,  7.0000,  ...,  0.0000, -5.5000,  0.0000],\n",
      "        [ 7.0000,  7.0000,  7.0000,  ...,  0.0000,  2.5000,  0.0000],\n",
      "        ...,\n",
      "        [10.0000, 10.0000, 10.0000,  ..., -1.0000, -1.0000, -1.0000],\n",
      "        [ 7.0000,  7.0000,  7.0000,  ...,  0.0000,  9.0000,  0.0000],\n",
      "        [ 7.0000,  7.0000,  7.0000,  ...,  0.0000,  3.0000,  0.0000]])\n",
      "Some values of the input are nan:  tensor([[10.0000, 10.0000, 10.0000,  ..., -1.0000, -1.0000, -1.0000],\n",
      "        [ 7.0000,  7.0000,  7.0000,  ...,  0.0000, -5.5000,  0.0000],\n",
      "        [ 7.0000,  7.0000,  7.0000,  ...,  0.0000,  2.5000,  0.0000],\n",
      "        ...,\n",
      "        [10.0000, 10.0000, 10.0000,  ..., -1.0000, -1.0000, -1.0000],\n",
      "        [ 7.0000,  7.0000,  7.0000,  ...,  0.0000,  9.0000,  0.0000],\n",
      "        [ 7.0000,  7.0000,  7.0000,  ...,  0.0000,  3.0000,  0.0000]])\n",
      "Test Loss: nan, Accuracy: 0.498125\n"
     ]
    },
    {
     "name": "stderr",
     "output_type": "stream",
     "text": [
      "Epoch 2:  53%|█████▎    | 80/150 [00:01<00:00, 71.90it/s]"
     ]
    },
    {
     "name": "stdout",
     "output_type": "stream",
     "text": [
      "Some values of the input are nan:  tensor([[ 5.0000,  5.0000,  5.0000,  ..., -1.0000, -1.0000, -1.0000],\n",
      "        [12.0000, 12.0000, 12.0000,  ..., -1.0000, -1.0000, -1.0000],\n",
      "        [10.0000, 10.0000, 10.0000,  ..., -1.0000, -1.0000, -1.0000],\n",
      "        ...,\n",
      "        [10.0000, 10.0000, 10.0000,  ..., -1.0000, -1.0000, -1.0000],\n",
      "        [16.0000, 16.0000, 16.0000,  ..., 23.0000,  0.0000, 23.0000],\n",
      "        [ 7.0000,  7.0000,  7.0000,  ...,  0.0000, -8.5000,  0.0000]])\n",
      "Some values of the input are nan:  tensor([[10.0000, 10.0000, 10.0000,  ..., -1.0000, -1.0000, -1.0000],\n",
      "        [12.0000, 12.0000, 12.0000,  ..., -1.0000, -1.0000, -1.0000],\n",
      "        [10.0000, 10.0000, 10.0000,  ..., -1.0000, -1.0000, -1.0000],\n",
      "        ...,\n",
      "        [ 5.0000,  5.0000,  5.0000,  ..., -1.0000, -1.0000, -1.0000],\n",
      "        [ 7.0000,  7.0000,  7.0000,  ...,  0.0000,  3.0000,  0.0000],\n",
      "        [ 7.0000,  7.0000,  7.0000,  ...,  0.0000,  6.5000,  0.0000]])\n"
     ]
    },
    {
     "name": "stderr",
     "output_type": "stream",
     "text": [
      "Epoch 2:  63%|██████▎   | 95/150 [00:01<00:00, 67.63it/s]"
     ]
    },
    {
     "name": "stdout",
     "output_type": "stream",
     "text": [
      "Some values of the input are nan:  tensor([[ 7.0000,  7.0000,  7.0000,  ...,  0.0000,  0.8415,  0.0000],\n",
      "        [ 5.0000,  5.0000,  5.0000,  ..., -1.0000, -1.0000, -1.0000],\n",
      "        [ 7.0000,  7.0000,  7.0000,  ...,  0.0000, -3.0000,  0.0000],\n",
      "        ...,\n",
      "        [16.0000, 16.0000, 16.0000,  ..., 27.0000,  0.0000, 27.0000],\n",
      "        [ 7.0000,  7.0000,  7.0000,  ...,  0.0000,  3.0000,  0.0000],\n",
      "        [ 7.0000,  7.0000,  7.0000,  ...,  0.0000, -8.0000,  0.0000]])\n"
     ]
    },
    {
     "name": "stderr",
     "output_type": "stream",
     "text": [
      "Epoch 2:  89%|████████▉ | 134/150 [00:01<00:00, 67.32it/s]"
     ]
    },
    {
     "name": "stdout",
     "output_type": "stream",
     "text": [
      "Some values of the input are nan:  tensor([[10.0000, 10.0000, 10.0000,  ..., -1.0000, -1.0000, -1.0000],\n",
      "        [ 7.0000,  7.0000,  7.0000,  ...,  0.0000, 24.7815,  0.0000],\n",
      "        [12.0000, 12.0000, 12.0000,  ..., -1.0000, -1.0000, -1.0000],\n",
      "        ...,\n",
      "        [12.0000, 12.0000, 12.0000,  ..., -1.0000, -1.0000, -1.0000],\n",
      "        [16.0000, 16.0000, 16.0000,  ..., 17.0000,  0.0000, 17.0000],\n",
      "        [ 7.0000,  7.0000,  7.0000,  ...,  0.0000,  4.5000,  0.0000]])\n",
      "Some values of the input are nan:  tensor([[ 5.0000,  5.0000,  5.0000,  ..., -1.0000, -1.0000, -1.0000],\n",
      "        [12.0000, 12.0000, 12.0000,  ..., -1.0000, -1.0000, -1.0000],\n",
      "        [ 5.0000,  5.0000,  5.0000,  ..., -1.0000, -1.0000, -1.0000],\n",
      "        ...,\n",
      "        [ 7.0000,  7.0000,  7.0000,  ..., -1.0000, -1.0000, -1.0000],\n",
      "        [ 7.0000,  7.0000,  7.0000,  ...,  0.0000,  4.5000,  0.0000],\n",
      "        [ 7.0000,  7.0000,  7.0000,  ...,  0.0000,  7.0000,  0.0000]])\n",
      "Some values of the input are nan:  tensor([[ 5.0000,  5.0000,  5.0000,  ..., -1.0000, -1.0000, -1.0000],\n",
      "        [12.0000, 12.0000, 12.0000,  ..., -1.0000, -1.0000, -1.0000],\n",
      "        [ 5.0000,  5.0000,  5.0000,  ..., -1.0000, -1.0000, -1.0000],\n",
      "        ...,\n",
      "        [ 7.0000,  7.0000,  7.0000,  ..., -1.0000, -1.0000, -1.0000],\n",
      "        [ 7.0000,  7.0000,  7.0000,  ...,  0.0000,  4.5000,  0.0000],\n",
      "        [ 7.0000,  7.0000,  7.0000,  ...,  0.0000,  7.0000,  0.0000]])\n"
     ]
    },
    {
     "name": "stderr",
     "output_type": "stream",
     "text": [
      "Epoch 2: 100%|██████████| 150/150 [00:02<00:00, 69.28it/s]\n"
     ]
    },
    {
     "name": "stdout",
     "output_type": "stream",
     "text": [
      "Epoch 2, Loss: nan\n",
      "Some values of the input are nan:  tensor([[10.0000, 10.0000, 10.0000,  ..., -1.0000, -1.0000, -1.0000],\n",
      "        [ 7.0000,  7.0000,  7.0000,  ...,  0.0000, -5.5000,  0.0000],\n",
      "        [ 7.0000,  7.0000,  7.0000,  ...,  0.0000,  2.5000,  0.0000],\n",
      "        ...,\n",
      "        [10.0000, 10.0000, 10.0000,  ..., -1.0000, -1.0000, -1.0000],\n",
      "        [ 7.0000,  7.0000,  7.0000,  ...,  0.0000,  9.0000,  0.0000],\n",
      "        [ 7.0000,  7.0000,  7.0000,  ...,  0.0000,  3.0000,  0.0000]])\n",
      "Some values of the input are nan:  tensor([[10.0000, 10.0000, 10.0000,  ..., -1.0000, -1.0000, -1.0000],\n",
      "        [ 7.0000,  7.0000,  7.0000,  ...,  0.0000, -5.5000,  0.0000],\n",
      "        [ 7.0000,  7.0000,  7.0000,  ...,  0.0000,  2.5000,  0.0000],\n",
      "        ...,\n",
      "        [10.0000, 10.0000, 10.0000,  ..., -1.0000, -1.0000, -1.0000],\n",
      "        [ 7.0000,  7.0000,  7.0000,  ...,  0.0000,  9.0000,  0.0000],\n",
      "        [ 7.0000,  7.0000,  7.0000,  ...,  0.0000,  3.0000,  0.0000]])\n",
      "Test Loss: nan, Accuracy: 0.498125\n"
     ]
    },
    {
     "name": "stderr",
     "output_type": "stream",
     "text": [
      "Epoch 3:   5%|▍         | 7/150 [00:00<00:02, 64.74it/s]"
     ]
    },
    {
     "name": "stdout",
     "output_type": "stream",
     "text": [
      "Some values of the input are nan:  tensor([[12., 12., 12.,  ..., -1., -1., -1.],\n",
      "        [12., 12., 12.,  ..., -1., -1., -1.],\n",
      "        [12., 12., 12.,  ..., -1., -1., -1.],\n",
      "        ...,\n",
      "        [ 7.,  7.,  7.,  ...,  0., -1.,  0.],\n",
      "        [16., 16., 16.,  ..., 37.,  0., 37.],\n",
      "        [ 7.,  7.,  7.,  ...,  0.,  8.,  0.]])\n",
      "Some values of the input are nan:  tensor([[10., 10., 10.,  ..., -1., -1., -1.],\n",
      "        [ 5.,  5.,  5.,  ..., -1., -1., -1.],\n",
      "        [12., 12., 12.,  ..., -1., -1., -1.],\n",
      "        ...,\n",
      "        [ 7.,  7.,  7.,  ...,  0., -1.,  0.],\n",
      "        [16., 16., 16.,  ..., 37.,  0., 37.],\n",
      "        [ 7.,  7.,  7.,  ...,  0.,  8.,  0.]])\n"
     ]
    },
    {
     "name": "stderr",
     "output_type": "stream",
     "text": [
      "Epoch 3:  24%|██▍       | 36/150 [00:00<00:02, 54.79it/s]"
     ]
    },
    {
     "name": "stdout",
     "output_type": "stream",
     "text": [
      "Some values of the input are nan:  tensor([[10.0000, 10.0000, 10.0000,  ..., -1.0000, -1.0000, -1.0000],\n",
      "        [10.0000, 10.0000, 10.0000,  ..., -1.0000, -1.0000, -1.0000],\n",
      "        [16.0000, 16.0000, 16.0000,  ..., 27.0000,  0.0000, 27.0000],\n",
      "        ...,\n",
      "        [10.0000, 10.0000, 10.0000,  ..., -1.0000, -1.0000, -1.0000],\n",
      "        [16.0000, 16.0000, 16.0000,  ..., 24.0000,  0.0000, 24.0000],\n",
      "        [ 7.0000,  7.0000,  7.0000,  ...,  0.0000,  9.5000,  0.0000]])\n"
     ]
    },
    {
     "name": "stderr",
     "output_type": "stream",
     "text": [
      "Epoch 3:  44%|████▍     | 66/150 [00:01<00:01, 67.31it/s]"
     ]
    },
    {
     "name": "stdout",
     "output_type": "stream",
     "text": [
      "Some values of the input are nan:  tensor([[ 1.0000e+01,  1.0000e+01,  1.0000e+01,  ..., -1.0000e+00,\n",
      "         -1.0000e+00, -1.0000e+00],\n",
      "        [ 7.0000e+00,  7.0000e+00,  7.0000e+00,  ...,  0.0000e+00,\n",
      "         -9.7656e+01,  0.0000e+00],\n",
      "        [ 1.2000e+01,  1.2000e+01,  1.2000e+01,  ..., -1.0000e+00,\n",
      "         -1.0000e+00, -1.0000e+00],\n",
      "        ...,\n",
      "        [ 7.0000e+00,  7.0000e+00,  7.0000e+00,  ...,  0.0000e+00,\n",
      "          1.5000e+00,  0.0000e+00],\n",
      "        [ 7.0000e+00,  7.0000e+00,  7.0000e+00,  ...,  0.0000e+00,\n",
      "          4.0000e+00,  0.0000e+00],\n",
      "        [ 7.0000e+00,  7.0000e+00,  7.0000e+00,  ...,  0.0000e+00,\n",
      "          9.5367e-07,  0.0000e+00]])\n"
     ]
    },
    {
     "name": "stderr",
     "output_type": "stream",
     "text": [
      "Epoch 3:  64%|██████▍   | 96/150 [00:01<00:00, 69.08it/s]"
     ]
    },
    {
     "name": "stdout",
     "output_type": "stream",
     "text": [
      "Some values of the input are nan:  tensor([[ 5.,  5.,  5.,  ..., -1., -1., -1.],\n",
      "        [10., 10., 10.,  ..., -1., -1., -1.],\n",
      "        [ 5.,  5.,  5.,  ..., -1., -1., -1.],\n",
      "        ...,\n",
      "        [ 7.,  7.,  7.,  ...,  0., -4.,  0.],\n",
      "        [16., 16., 16.,  ..., 41.,  0., 41.],\n",
      "        [ 7.,  7.,  7.,  ...,  0.,  2.,  0.]])\n"
     ]
    },
    {
     "name": "stderr",
     "output_type": "stream",
     "text": [
      "Epoch 3:  95%|█████████▌| 143/150 [00:02<00:00, 74.68it/s]"
     ]
    },
    {
     "name": "stdout",
     "output_type": "stream",
     "text": [
      "Some values of the input are nan:  tensor([[ 7.0000,  7.0000,  7.0000,  ...,  0.0000,  2.0000,  0.0000],\n",
      "        [12.0000, 12.0000, 12.0000,  ..., -1.0000, -1.0000, -1.0000],\n",
      "        [ 5.0000,  5.0000,  5.0000,  ..., -1.0000, -1.0000, -1.0000],\n",
      "        ...,\n",
      "        [ 7.0000,  7.0000,  7.0000,  ...,  0.0000,  4.0000,  0.0000],\n",
      "        [ 7.0000,  7.0000,  7.0000,  ...,  0.0000, -7.5000,  0.0000],\n",
      "        [ 7.0000,  7.0000,  7.0000,  ...,  0.0000,     nan,  0.0000]])\n"
     ]
    },
    {
     "name": "stderr",
     "output_type": "stream",
     "text": [
      "Epoch 3: 100%|██████████| 150/150 [00:02<00:00, 65.47it/s]\n"
     ]
    },
    {
     "name": "stdout",
     "output_type": "stream",
     "text": [
      "Epoch 3, Loss: nan\n",
      "Some values of the input are nan:  tensor([[10.0000, 10.0000, 10.0000,  ..., -1.0000, -1.0000, -1.0000],\n",
      "        [ 7.0000,  7.0000,  7.0000,  ...,  0.0000, -5.5000,  0.0000],\n",
      "        [ 7.0000,  7.0000,  7.0000,  ...,  0.0000,  2.5000,  0.0000],\n",
      "        ...,\n",
      "        [10.0000, 10.0000, 10.0000,  ..., -1.0000, -1.0000, -1.0000],\n",
      "        [ 7.0000,  7.0000,  7.0000,  ...,  0.0000,  9.0000,  0.0000],\n",
      "        [ 7.0000,  7.0000,  7.0000,  ...,  0.0000,  3.0000,  0.0000]])\n",
      "Some values of the input are nan:  tensor([[10.0000, 10.0000, 10.0000,  ..., -1.0000, -1.0000, -1.0000],\n",
      "        [ 7.0000,  7.0000,  7.0000,  ...,  0.0000, -5.5000,  0.0000],\n",
      "        [ 7.0000,  7.0000,  7.0000,  ...,  0.0000,  2.5000,  0.0000],\n",
      "        ...,\n",
      "        [10.0000, 10.0000, 10.0000,  ..., -1.0000, -1.0000, -1.0000],\n",
      "        [ 7.0000,  7.0000,  7.0000,  ...,  0.0000,  9.0000,  0.0000],\n",
      "        [ 7.0000,  7.0000,  7.0000,  ...,  0.0000,  3.0000,  0.0000]])\n",
      "Test Loss: nan, Accuracy: 0.498125\n"
     ]
    },
    {
     "name": "stderr",
     "output_type": "stream",
     "text": [
      "Epoch 4:  43%|████▎     | 65/150 [00:00<00:01, 77.67it/s]"
     ]
    },
    {
     "name": "stdout",
     "output_type": "stream",
     "text": [
      "Some values of the input are nan:  tensor([[10., 10., 10.,  ..., -1., -1., -1.],\n",
      "        [ 5.,  5.,  5.,  ..., -1., -1., -1.],\n",
      "        [12., 12., 12.,  ..., -1., -1., -1.],\n",
      "        ...,\n",
      "        [12., 12., 12.,  ..., -1., -1., -1.],\n",
      "        [16., 16., 16.,  ..., 32.,  0., 32.],\n",
      "        [ 7.,  7.,  7.,  ...,  0., -8.,  0.]])\n"
     ]
    },
    {
     "name": "stderr",
     "output_type": "stream",
     "text": [
      "Epoch 4:  91%|█████████▏| 137/150 [00:01<00:00, 73.94it/s]"
     ]
    },
    {
     "name": "stdout",
     "output_type": "stream",
     "text": [
      "Some values of the input are nan:  tensor([[ 5.0000,  5.0000,  5.0000,  ..., -1.0000, -1.0000, -1.0000],\n",
      "        [ 5.0000,  5.0000,  5.0000,  ..., -1.0000, -1.0000, -1.0000],\n",
      "        [10.0000, 10.0000, 10.0000,  ..., -1.0000, -1.0000, -1.0000],\n",
      "        ...,\n",
      "        [ 7.0000,  7.0000,  7.0000,  ...,  0.0000, -7.5000,  0.0000],\n",
      "        [ 5.0000,  5.0000,  5.0000,  ..., -1.0000, -1.0000, -1.0000],\n",
      "        [16.0000, 16.0000, 16.0000,  ..., 17.0000,  0.0000, 17.0000]])\n",
      "Some values of the input are nan:  tensor([[10., 10., 10.,  ..., -1., -1., -1.],\n",
      "        [16., 16., 16.,  ..., 39.,  0., 39.],\n",
      "        [ 7.,  7.,  7.,  ...,  0.,  5.,  0.],\n",
      "        ...,\n",
      "        [12., 12., 12.,  ..., -1., -1., -1.],\n",
      "        [ 7.,  7.,  7.,  ...,  0., -9.,  0.],\n",
      "        [ 7.,  7.,  7.,  ...,  0., -6.,  0.]])\n",
      "Some values of the input are nan:  tensor([[10.0000, 10.0000, 10.0000,  ..., -1.0000, -1.0000, -1.0000],\n",
      "        [10.0000, 10.0000, 10.0000,  ..., -1.0000, -1.0000, -1.0000],\n",
      "        [ 7.0000,  7.0000,  7.0000,  ...,  0.0000, 21.2500,  0.0000],\n",
      "        ...,\n",
      "        [ 5.0000,  5.0000,  5.0000,  ..., -1.0000, -1.0000, -1.0000],\n",
      "        [16.0000, 16.0000, 16.0000,  ..., 23.0000,  0.0000, 23.0000],\n",
      "        [ 7.0000,  7.0000,  7.0000,  ...,  0.0000,  5.5000,  0.0000]])\n",
      "Some values of the input are nan:  tensor([[ 5.0000,  5.0000,  5.0000,  ..., -1.0000, -1.0000, -1.0000],\n",
      "        [12.0000, 12.0000, 12.0000,  ..., -1.0000, -1.0000, -1.0000],\n",
      "        [10.0000, 10.0000, 10.0000,  ..., -1.0000, -1.0000, -1.0000],\n",
      "        ...,\n",
      "        [ 5.0000,  5.0000,  5.0000,  ..., -1.0000, -1.0000, -1.0000],\n",
      "        [ 5.0000,  5.0000,  5.0000,  ..., -1.0000, -1.0000, -1.0000],\n",
      "        [ 7.0000,  7.0000,  7.0000,  ...,  0.0000, -1.5000,  0.0000]])\n",
      "Some values of the input are nan:  tensor([[ 5.0000,  5.0000,  5.0000,  ..., -1.0000, -1.0000, -1.0000],\n",
      "        [12.0000, 12.0000, 12.0000,  ..., -1.0000, -1.0000, -1.0000],\n",
      "        [10.0000, 10.0000, 10.0000,  ..., -1.0000, -1.0000, -1.0000],\n",
      "        ...,\n",
      "        [ 5.0000,  5.0000,  5.0000,  ..., -1.0000, -1.0000, -1.0000],\n",
      "        [ 5.0000,  5.0000,  5.0000,  ..., -1.0000, -1.0000, -1.0000],\n",
      "        [ 7.0000,  7.0000,  7.0000,  ...,  0.0000, -1.5000,  0.0000]])\n"
     ]
    },
    {
     "name": "stderr",
     "output_type": "stream",
     "text": [
      "Epoch 4: 100%|██████████| 150/150 [00:02<00:00, 74.77it/s]\n"
     ]
    },
    {
     "name": "stdout",
     "output_type": "stream",
     "text": [
      "Epoch 4, Loss: nan\n",
      "Some values of the input are nan:  tensor([[10.0000, 10.0000, 10.0000,  ..., -1.0000, -1.0000, -1.0000],\n",
      "        [ 7.0000,  7.0000,  7.0000,  ...,  0.0000, -5.5000,  0.0000],\n",
      "        [ 7.0000,  7.0000,  7.0000,  ...,  0.0000,  2.5000,  0.0000],\n",
      "        ...,\n",
      "        [10.0000, 10.0000, 10.0000,  ..., -1.0000, -1.0000, -1.0000],\n",
      "        [ 7.0000,  7.0000,  7.0000,  ...,  0.0000,  9.0000,  0.0000],\n",
      "        [ 7.0000,  7.0000,  7.0000,  ...,  0.0000,  3.0000,  0.0000]])\n",
      "Some values of the input are nan:  tensor([[10.0000, 10.0000, 10.0000,  ..., -1.0000, -1.0000, -1.0000],\n",
      "        [ 7.0000,  7.0000,  7.0000,  ...,  0.0000, -5.5000,  0.0000],\n",
      "        [ 7.0000,  7.0000,  7.0000,  ...,  0.0000,  2.5000,  0.0000],\n",
      "        ...,\n",
      "        [10.0000, 10.0000, 10.0000,  ..., -1.0000, -1.0000, -1.0000],\n",
      "        [ 7.0000,  7.0000,  7.0000,  ...,  0.0000,  9.0000,  0.0000],\n",
      "        [ 7.0000,  7.0000,  7.0000,  ...,  0.0000,  3.0000,  0.0000]])\n",
      "Test Loss: nan, Accuracy: 0.498125\n"
     ]
    },
    {
     "name": "stderr",
     "output_type": "stream",
     "text": [
      "Epoch 5:   5%|▌         | 8/150 [00:00<00:01, 78.20it/s]"
     ]
    },
    {
     "name": "stdout",
     "output_type": "stream",
     "text": [
      "Some values of the input are nan:  tensor([[ 7.,  7.,  7.,  ...,  0., 13.,  0.],\n",
      "        [10., 10., 10.,  ..., -1., -1., -1.],\n",
      "        [10., 10., 10.,  ..., -1., -1., -1.],\n",
      "        ...,\n",
      "        [12., 12., 12.,  ..., -1., -1., -1.],\n",
      "        [16., 16., 16.,  ..., 33.,  0., 33.],\n",
      "        [ 7.,  7.,  7.,  ...,  0.,  9.,  0.]])\n"
     ]
    },
    {
     "name": "stderr",
     "output_type": "stream",
     "text": [
      "Epoch 5:  32%|███▏      | 48/150 [00:00<00:01, 75.53it/s]"
     ]
    },
    {
     "name": "stdout",
     "output_type": "stream",
     "text": [
      "Some values of the input are nan:  tensor([[ 5.0000,  5.0000,  5.0000,  ..., -1.0000, -1.0000, -1.0000],\n",
      "        [12.0000, 12.0000, 12.0000,  ..., -1.0000, -1.0000, -1.0000],\n",
      "        [ 5.0000,  5.0000,  5.0000,  ..., -1.0000, -1.0000, -1.0000],\n",
      "        ...,\n",
      "        [12.0000, 12.0000, 12.0000,  ..., -1.0000, -1.0000, -1.0000],\n",
      "        [16.0000, 16.0000, 16.0000,  ..., 18.0000,  0.0000, 18.0000],\n",
      "        [ 7.0000,  7.0000,  7.0000,  ...,  0.0000, -9.5000,  0.0000]])\n"
     ]
    },
    {
     "name": "stderr",
     "output_type": "stream",
     "text": [
      "Epoch 5:  85%|████████▌ | 128/150 [00:01<00:00, 72.18it/s]"
     ]
    },
    {
     "name": "stdout",
     "output_type": "stream",
     "text": [
      "Some values of the input are nan:  tensor([[10., 10., 10.,  ..., -1., -1., -1.],\n",
      "        [10., 10., 10.,  ..., -1., -1., -1.],\n",
      "        [12., 12., 12.,  ..., -1., -1., -1.],\n",
      "        ...,\n",
      "        [16., 16., 16.,  ..., 23.,  0., 23.],\n",
      "        [16., 16., 16.,  ..., 20.,  0., 20.],\n",
      "        [ 7.,  7.,  7.,  ...,  0., -3.,  0.]])\n",
      "Some values of the input are nan:  tensor([[ 5.,  5.,  5.,  ..., -1., -1., -1.],\n",
      "        [10., 10., 10.,  ..., -1., -1., -1.],\n",
      "        [10., 10., 10.,  ..., -1., -1., -1.],\n",
      "        ...,\n",
      "        [16., 16., 16.,  ..., 23.,  0., 23.],\n",
      "        [16., 16., 16.,  ..., 20.,  0., 20.],\n",
      "        [ 7.,  7.,  7.,  ...,  0., -3.,  0.]])\n"
     ]
    },
    {
     "name": "stderr",
     "output_type": "stream",
     "text": [
      "Epoch 5: 100%|██████████| 150/150 [00:02<00:00, 74.40it/s]"
     ]
    },
    {
     "name": "stdout",
     "output_type": "stream",
     "text": [
      "Some values of the input are nan:  tensor([[12.0000, 12.0000, 12.0000,  ..., -1.0000, -1.0000, -1.0000],\n",
      "        [16.0000, 16.0000, 16.0000,  ..., 20.0000,  0.0000, 20.0000],\n",
      "        [ 7.0000,  7.0000,  7.0000,  ...,  0.0000,  3.5000,  0.0000],\n",
      "        ...,\n",
      "        [16.0000, 16.0000, 16.0000,  ..., 35.0000,  0.0000, 35.0000],\n",
      "        [ 7.0000,  7.0000,  7.0000,  ...,  0.0000,  5.5000,  0.0000],\n",
      "        [ 7.0000,  7.0000,  7.0000,  ...,  0.0000,     nan,  0.0000]])\n",
      "Some values of the input are nan:  tensor([[10.0000, 10.0000, 10.0000,  ..., -1.0000, -1.0000, -1.0000],\n",
      "        [16.0000, 16.0000, 16.0000,  ..., 23.0000,  0.0000, 23.0000],\n",
      "        [16.0000, 16.0000, 16.0000,  ..., 39.0000,  0.0000, 39.0000],\n",
      "        ...,\n",
      "        [ 7.0000,  7.0000,  7.0000,  ...,  0.0000, -2.5000,  0.0000],\n",
      "        [ 7.0000,  7.0000,  7.0000,  ...,  0.0000, -6.5000,  0.0000],\n",
      "        [ 7.0000,  7.0000,  7.0000,  ...,  0.0000,  9.0000,  0.0000]])\n",
      "Epoch 5, Loss: nan\n"
     ]
    },
    {
     "name": "stderr",
     "output_type": "stream",
     "text": [
      "\n"
     ]
    },
    {
     "name": "stdout",
     "output_type": "stream",
     "text": [
      "Some values of the input are nan:  tensor([[10.0000, 10.0000, 10.0000,  ..., -1.0000, -1.0000, -1.0000],\n",
      "        [ 7.0000,  7.0000,  7.0000,  ...,  0.0000, -5.5000,  0.0000],\n",
      "        [ 7.0000,  7.0000,  7.0000,  ...,  0.0000,  2.5000,  0.0000],\n",
      "        ...,\n",
      "        [10.0000, 10.0000, 10.0000,  ..., -1.0000, -1.0000, -1.0000],\n",
      "        [ 7.0000,  7.0000,  7.0000,  ...,  0.0000,  9.0000,  0.0000],\n",
      "        [ 7.0000,  7.0000,  7.0000,  ...,  0.0000,  3.0000,  0.0000]])\n",
      "Some values of the input are nan:  tensor([[10.0000, 10.0000, 10.0000,  ..., -1.0000, -1.0000, -1.0000],\n",
      "        [ 7.0000,  7.0000,  7.0000,  ...,  0.0000, -5.5000,  0.0000],\n",
      "        [ 7.0000,  7.0000,  7.0000,  ...,  0.0000,  2.5000,  0.0000],\n",
      "        ...,\n",
      "        [10.0000, 10.0000, 10.0000,  ..., -1.0000, -1.0000, -1.0000],\n",
      "        [ 7.0000,  7.0000,  7.0000,  ...,  0.0000,  9.0000,  0.0000],\n",
      "        [ 7.0000,  7.0000,  7.0000,  ...,  0.0000,  3.0000,  0.0000]])\n",
      "Test Loss: nan, Accuracy: 0.498125\n"
     ]
    },
    {
     "name": "stderr",
     "output_type": "stream",
     "text": [
      "Epoch 6:  11%|█         | 16/150 [00:00<00:01, 75.45it/s]"
     ]
    },
    {
     "name": "stdout",
     "output_type": "stream",
     "text": [
      "Some values of the input are nan:  tensor([[12., 12., 12.,  ..., -1., -1., -1.],\n",
      "        [10., 10., 10.,  ..., -1., -1., -1.],\n",
      "        [16., 16., 16.,  ..., 29.,  0., 29.],\n",
      "        ...,\n",
      "        [10., 10., 10.,  ..., -1., -1., -1.],\n",
      "        [16., 16., 16.,  ..., 39.,  0., 39.],\n",
      "        [ 7.,  7.,  7.,  ...,  0., -2.,  0.]])\n",
      "Some values of the input are nan:  tensor([[12., 12., 12.,  ..., -1., -1., -1.],\n",
      "        [10., 10., 10.,  ..., -1., -1., -1.],\n",
      "        [16., 16., 16.,  ..., 29.,  0., 29.],\n",
      "        ...,\n",
      "        [10., 10., 10.,  ..., -1., -1., -1.],\n",
      "        [ 7.,  7.,  7.,  ...,  0.,  2.,  0.],\n",
      "        [16., 16., 16.,  ..., 39.,  0., 39.]])\n"
     ]
    },
    {
     "name": "stderr",
     "output_type": "stream",
     "text": [
      "Epoch 6:  59%|█████▉    | 89/150 [00:01<00:00, 75.58it/s]"
     ]
    },
    {
     "name": "stdout",
     "output_type": "stream",
     "text": [
      "Some values of the input are nan:  tensor([[10., 10., 10.,  ..., -1., -1., -1.],\n",
      "        [10., 10., 10.,  ..., -1., -1., -1.],\n",
      "        [ 5.,  5.,  5.,  ..., -1., -1., -1.],\n",
      "        ...,\n",
      "        [16., 16., 16.,  ..., 32.,  0., 32.],\n",
      "        [ 7.,  7.,  7.,  ...,  0.,  4.,  0.],\n",
      "        [ 7.,  7.,  7.,  ...,  0.,  3.,  0.]])\n"
     ]
    },
    {
     "name": "stderr",
     "output_type": "stream",
     "text": [
      "Epoch 6:  75%|███████▌  | 113/150 [00:01<00:00, 72.80it/s]"
     ]
    },
    {
     "name": "stdout",
     "output_type": "stream",
     "text": [
      "Some values of the input are nan:  tensor([[12., 12., 12.,  ..., -1., -1., -1.],\n",
      "        [10., 10., 10.,  ..., -1., -1., -1.],\n",
      "        [ 5.,  5.,  5.,  ..., -1., -1., -1.],\n",
      "        ...,\n",
      "        [10., 10., 10.,  ..., -1., -1., -1.],\n",
      "        [ 7.,  7.,  7.,  ...,  0.,  1.,  0.],\n",
      "        [16., 16., 16.,  ..., 17.,  0., 17.]])\n",
      "Some values of the input are nan:  tensor([[ 7.0000e+00,  7.0000e+00,  7.0000e+00,  ...,  0.0000e+00,\n",
      "                 nan,  0.0000e+00],\n",
      "        [ 5.0000e+00,  5.0000e+00,  5.0000e+00,  ..., -1.0000e+00,\n",
      "         -1.0000e+00, -1.0000e+00],\n",
      "        [ 1.6000e+01,  1.6000e+01,  1.6000e+01,  ...,  3.8000e+01,\n",
      "          0.0000e+00,  3.8000e+01],\n",
      "        ...,\n",
      "        [ 7.0000e+00,  7.0000e+00,  7.0000e+00,  ...,  0.0000e+00,\n",
      "         -8.0000e+00,  0.0000e+00],\n",
      "        [ 7.0000e+00,  7.0000e+00,  7.0000e+00,  ...,  0.0000e+00,\n",
      "          3.0000e+00,  0.0000e+00],\n",
      "        [ 7.0000e+00,  7.0000e+00,  7.0000e+00,  ...,  0.0000e+00,\n",
      "          1.6538e-08,  0.0000e+00]])\n",
      "Some values of the input are nan:  tensor([[10.0000, 10.0000, 10.0000,  ..., -1.0000, -1.0000, -1.0000],\n",
      "        [12.0000, 12.0000, 12.0000,  ..., -1.0000, -1.0000, -1.0000],\n",
      "        [16.0000, 16.0000, 16.0000,  ..., 22.0000,  0.0000, 22.0000],\n",
      "        ...,\n",
      "        [12.0000, 12.0000, 12.0000,  ..., -1.0000, -1.0000, -1.0000],\n",
      "        [16.0000, 16.0000, 16.0000,  ..., 39.0000,  0.0000, 39.0000],\n",
      "        [ 7.0000,  7.0000,  7.0000,  ...,  0.0000,  5.5000,  0.0000]])\n"
     ]
    },
    {
     "name": "stderr",
     "output_type": "stream",
     "text": [
      "Epoch 6: 100%|██████████| 150/150 [00:02<00:00, 73.98it/s]\n"
     ]
    },
    {
     "name": "stdout",
     "output_type": "stream",
     "text": [
      "Epoch 6, Loss: nan\n",
      "Some values of the input are nan:  tensor([[10.0000, 10.0000, 10.0000,  ..., -1.0000, -1.0000, -1.0000],\n",
      "        [ 7.0000,  7.0000,  7.0000,  ...,  0.0000, -5.5000,  0.0000],\n",
      "        [ 7.0000,  7.0000,  7.0000,  ...,  0.0000,  2.5000,  0.0000],\n",
      "        ...,\n",
      "        [10.0000, 10.0000, 10.0000,  ..., -1.0000, -1.0000, -1.0000],\n",
      "        [ 7.0000,  7.0000,  7.0000,  ...,  0.0000,  9.0000,  0.0000],\n",
      "        [ 7.0000,  7.0000,  7.0000,  ...,  0.0000,  3.0000,  0.0000]])\n",
      "Some values of the input are nan:  tensor([[10.0000, 10.0000, 10.0000,  ..., -1.0000, -1.0000, -1.0000],\n",
      "        [ 7.0000,  7.0000,  7.0000,  ...,  0.0000, -5.5000,  0.0000],\n",
      "        [ 7.0000,  7.0000,  7.0000,  ...,  0.0000,  2.5000,  0.0000],\n",
      "        ...,\n",
      "        [10.0000, 10.0000, 10.0000,  ..., -1.0000, -1.0000, -1.0000],\n",
      "        [ 7.0000,  7.0000,  7.0000,  ...,  0.0000,  9.0000,  0.0000],\n",
      "        [ 7.0000,  7.0000,  7.0000,  ...,  0.0000,  3.0000,  0.0000]])\n",
      "Test Loss: nan, Accuracy: 0.498125\n"
     ]
    },
    {
     "name": "stderr",
     "output_type": "stream",
     "text": [
      "Epoch 7:  15%|█▌        | 23/150 [00:00<00:01, 71.89it/s]"
     ]
    },
    {
     "name": "stdout",
     "output_type": "stream",
     "text": [
      "Some values of the input are nan:  tensor([[10.0000, 10.0000, 10.0000,  ..., -1.0000, -1.0000, -1.0000],\n",
      "        [ 7.0000,  7.0000,  7.0000,  ...,  0.0000,  0.9765,  0.0000],\n",
      "        [12.0000, 12.0000, 12.0000,  ..., -1.0000, -1.0000, -1.0000],\n",
      "        ...,\n",
      "        [16.0000, 16.0000, 16.0000,  ..., 40.0000,  0.0000, 40.0000],\n",
      "        [ 7.0000,  7.0000,  7.0000,  ...,  0.0000, -7.0000,  0.0000],\n",
      "        [ 7.0000,  7.0000,  7.0000,  ...,  0.0000,  2.5000,  0.0000]])\n"
     ]
    },
    {
     "name": "stderr",
     "output_type": "stream",
     "text": [
      "Epoch 7:  37%|███▋      | 55/150 [00:00<00:01, 72.56it/s]"
     ]
    },
    {
     "name": "stdout",
     "output_type": "stream",
     "text": [
      "Some values of the input are nan:  tensor([[ 5.0000,  5.0000,  5.0000,  ..., -1.0000, -1.0000, -1.0000],\n",
      "        [10.0000, 10.0000, 10.0000,  ..., -1.0000, -1.0000, -1.0000],\n",
      "        [16.0000, 16.0000, 16.0000,  ..., 33.0000,  0.0000, 33.0000],\n",
      "        ...,\n",
      "        [12.0000, 12.0000, 12.0000,  ..., -1.0000, -1.0000, -1.0000],\n",
      "        [ 7.0000,  7.0000,  7.0000,  ...,  0.0000,  3.5000,  0.0000],\n",
      "        [ 7.0000,  7.0000,  7.0000,  ...,  0.0000, -5.0000,  0.0000]])\n"
     ]
    },
    {
     "name": "stderr",
     "output_type": "stream",
     "text": [
      "Epoch 7:  77%|███████▋  | 115/150 [00:01<00:00, 67.26it/s]"
     ]
    },
    {
     "name": "stdout",
     "output_type": "stream",
     "text": [
      "Some values of the input are nan:  tensor([[ 12.,  12.,  12.,  ...,  -1.,  -1.,  -1.],\n",
      "        [ 10.,  10.,  10.,  ...,  -1.,  -1.,  -1.],\n",
      "        [  5.,   5.,   5.,  ...,  -1.,  -1.,  -1.],\n",
      "        ...,\n",
      "        [ 12.,  12.,  12.,  ...,  -1.,  -1.,  -1.],\n",
      "        [  7.,   7.,   7.,  ...,   0.,   6.,   0.],\n",
      "        [  7.,   7.,   7.,  ...,   0., -10.,   0.]])\n",
      "Some values of the input are nan:  tensor([[12.0000, 12.0000, 12.0000,  ..., -1.0000, -1.0000, -1.0000],\n",
      "        [16.0000, 16.0000, 16.0000,  ..., 29.0000,  0.0000, 29.0000],\n",
      "        [ 7.0000,  7.0000,  7.0000,  ...,  0.0000, -6.5000,  0.0000],\n",
      "        ...,\n",
      "        [12.0000, 12.0000, 12.0000,  ..., -1.0000, -1.0000, -1.0000],\n",
      "        [ 7.0000,  7.0000,  7.0000,  ...,  0.0000,  4.0000,  0.0000],\n",
      "        [ 7.0000,  7.0000,  7.0000,  ...,  0.0000,  9.0000,  0.0000]])\n",
      "Some values of the input are nan:  tensor([[12.0000, 12.0000, 12.0000,  ..., -1.0000, -1.0000, -1.0000],\n",
      "        [16.0000, 16.0000, 16.0000,  ..., 29.0000,  0.0000, 29.0000],\n",
      "        [ 7.0000,  7.0000,  7.0000,  ...,  0.0000, -6.5000,  0.0000],\n",
      "        ...,\n",
      "        [12.0000, 12.0000, 12.0000,  ..., -1.0000, -1.0000, -1.0000],\n",
      "        [ 7.0000,  7.0000,  7.0000,  ...,  0.0000,  4.0000,  0.0000],\n",
      "        [ 7.0000,  7.0000,  7.0000,  ...,  0.0000,  9.0000,  0.0000]])\n"
     ]
    },
    {
     "name": "stderr",
     "output_type": "stream",
     "text": [
      "Epoch 7:  91%|█████████ | 136/150 [00:02<00:00, 64.53it/s]"
     ]
    },
    {
     "name": "stdout",
     "output_type": "stream",
     "text": [
      "Some values of the input are nan:  tensor([[ 10.,  10.,  10.,  ...,  -1.,  -1.,  -1.],\n",
      "        [  7.,   7.,   7.,  ...,   0., -10.,   0.],\n",
      "        [ 16.,  16.,  16.,  ...,  30.,   0.,  30.],\n",
      "        ...,\n",
      "        [ 12.,  12.,  12.,  ...,  -1.,  -1.,  -1.],\n",
      "        [ 16.,  16.,  16.,  ...,  19.,   0.,  19.],\n",
      "        [  7.,   7.,   7.,  ...,   0.,  -2.,   0.]])\n"
     ]
    },
    {
     "name": "stderr",
     "output_type": "stream",
     "text": [
      "Epoch 7: 100%|██████████| 150/150 [00:02<00:00, 67.16it/s]\n"
     ]
    },
    {
     "name": "stdout",
     "output_type": "stream",
     "text": [
      "Epoch 7, Loss: nan\n",
      "Some values of the input are nan:  tensor([[10.0000, 10.0000, 10.0000,  ..., -1.0000, -1.0000, -1.0000],\n",
      "        [ 7.0000,  7.0000,  7.0000,  ...,  0.0000, -5.5000,  0.0000],\n",
      "        [ 7.0000,  7.0000,  7.0000,  ...,  0.0000,  2.5000,  0.0000],\n",
      "        ...,\n",
      "        [10.0000, 10.0000, 10.0000,  ..., -1.0000, -1.0000, -1.0000],\n",
      "        [ 7.0000,  7.0000,  7.0000,  ...,  0.0000,  9.0000,  0.0000],\n",
      "        [ 7.0000,  7.0000,  7.0000,  ...,  0.0000,  3.0000,  0.0000]])\n",
      "Some values of the input are nan:  tensor([[10.0000, 10.0000, 10.0000,  ..., -1.0000, -1.0000, -1.0000],\n",
      "        [ 7.0000,  7.0000,  7.0000,  ...,  0.0000, -5.5000,  0.0000],\n",
      "        [ 7.0000,  7.0000,  7.0000,  ...,  0.0000,  2.5000,  0.0000],\n",
      "        ...,\n",
      "        [10.0000, 10.0000, 10.0000,  ..., -1.0000, -1.0000, -1.0000],\n",
      "        [ 7.0000,  7.0000,  7.0000,  ...,  0.0000,  9.0000,  0.0000],\n",
      "        [ 7.0000,  7.0000,  7.0000,  ...,  0.0000,  3.0000,  0.0000]])\n",
      "Test Loss: nan, Accuracy: 0.498125\n"
     ]
    },
    {
     "name": "stderr",
     "output_type": "stream",
     "text": [
      "Epoch 8:   5%|▍         | 7/150 [00:00<00:02, 60.75it/s]"
     ]
    },
    {
     "name": "stdout",
     "output_type": "stream",
     "text": [
      "Some values of the input are nan:  tensor([[12.0000, 12.0000, 12.0000,  ..., -1.0000, -1.0000, -1.0000],\n",
      "        [10.0000, 10.0000, 10.0000,  ..., -1.0000, -1.0000, -1.0000],\n",
      "        [16.0000, 16.0000, 16.0000,  ..., 38.0000,  0.0000, 38.0000],\n",
      "        ...,\n",
      "        [16.0000, 16.0000, 16.0000,  ..., 32.0000,  0.0000, 32.0000],\n",
      "        [ 7.0000,  7.0000,  7.0000,  ...,  0.0000,  0.8064,  0.0000],\n",
      "        [ 1.0000,  1.0000,  1.0000,  ..., 42.0000,  0.0000, 42.0000]])\n"
     ]
    },
    {
     "name": "stderr",
     "output_type": "stream",
     "text": [
      "Epoch 8:  37%|███▋      | 55/150 [00:00<00:01, 61.16it/s]"
     ]
    },
    {
     "name": "stdout",
     "output_type": "stream",
     "text": [
      "Some values of the input are nan:  tensor([[12.0000, 12.0000, 12.0000,  ..., -1.0000, -1.0000, -1.0000],\n",
      "        [ 5.0000,  5.0000,  5.0000,  ..., -1.0000, -1.0000, -1.0000],\n",
      "        [16.0000, 16.0000, 16.0000,  ..., 23.0000,  0.0000, 23.0000],\n",
      "        ...,\n",
      "        [10.0000, 10.0000, 10.0000,  ..., -1.0000, -1.0000, -1.0000],\n",
      "        [ 7.0000,  7.0000,  7.0000,  ...,  0.0000,  9.0000,  0.0000],\n",
      "        [ 7.0000,  7.0000,  7.0000,  ...,  0.0000, -8.5000,  0.0000]])\n",
      "Some values of the input are nan:  tensor([[ 5.0000,  5.0000,  5.0000,  ..., -1.0000, -1.0000, -1.0000],\n",
      "        [12.0000, 12.0000, 12.0000,  ..., -1.0000, -1.0000, -1.0000],\n",
      "        [12.0000, 12.0000, 12.0000,  ..., -1.0000, -1.0000, -1.0000],\n",
      "        ...,\n",
      "        [16.0000, 16.0000, 16.0000,  ..., 33.0000,  0.0000, 33.0000],\n",
      "        [ 7.0000,  7.0000,  7.0000,  ...,  0.0000, -8.5000,  0.0000],\n",
      "        [ 7.0000,  7.0000,  7.0000,  ...,  0.0000, -3.5000,  0.0000]])\n"
     ]
    },
    {
     "name": "stderr",
     "output_type": "stream",
     "text": [
      "Epoch 8:  79%|███████▉  | 119/150 [00:01<00:00, 65.73it/s]"
     ]
    },
    {
     "name": "stdout",
     "output_type": "stream",
     "text": [
      "Some values of the input are nan:  tensor([[ 10.,  10.,  10.,  ...,  -1.,  -1.,  -1.],\n",
      "        [  5.,   5.,   5.,  ...,  -1.,  -1.,  -1.],\n",
      "        [ 10.,  10.,  10.,  ...,  -1.,  -1.,  -1.],\n",
      "        ...,\n",
      "        [ 12.,  12.,  12.,  ...,  -1.,  -1.,  -1.],\n",
      "        [ 16.,  16.,  16.,  ...,  38.,   0.,  38.],\n",
      "        [  7.,   7.,   7.,  ...,   0., -10.,   0.]])\n",
      "Some values of the input are nan:  tensor([[ 10.0000,  10.0000,  10.0000,  ...,  -1.0000,  -1.0000,  -1.0000],\n",
      "        [  7.0000,   7.0000,   7.0000,  ...,   0.0000,  -6.5000,   0.0000],\n",
      "        [ 16.0000,  16.0000,  16.0000,  ...,  34.0000,   0.0000,  34.0000],\n",
      "        ...,\n",
      "        [ 12.0000,  12.0000,  12.0000,  ...,  -1.0000,  -1.0000,  -1.0000],\n",
      "        [ 16.0000,  16.0000,  16.0000,  ...,  38.0000,   0.0000,  38.0000],\n",
      "        [  7.0000,   7.0000,   7.0000,  ...,   0.0000, -10.0000,   0.0000]])\n"
     ]
    },
    {
     "name": "stderr",
     "output_type": "stream",
     "text": [
      "Epoch 8: 100%|██████████| 150/150 [00:02<00:00, 65.01it/s]\n"
     ]
    },
    {
     "name": "stdout",
     "output_type": "stream",
     "text": [
      "Some values of the input are nan:  tensor([[ 10.0000,  10.0000,  10.0000,  ...,  -1.0000,  -1.0000,  -1.0000],\n",
      "        [  7.0000,   7.0000,   7.0000,  ...,   0.0000, -46.7654,   0.0000],\n",
      "        [  1.0000,   1.0000,   1.0000,  ...,   6.0000,   0.0000,   6.0000],\n",
      "        ...,\n",
      "        [ 12.0000,  12.0000,  12.0000,  ...,  -1.0000,  -1.0000,  -1.0000],\n",
      "        [  7.0000,   7.0000,   7.0000,  ...,   0.0000,   5.5000,   0.0000],\n",
      "        [  7.0000,   7.0000,   7.0000,  ...,   0.0000,  -9.5000,   0.0000]])\n",
      "Epoch 8, Loss: nan\n",
      "Some values of the input are nan:  tensor([[10.0000, 10.0000, 10.0000,  ..., -1.0000, -1.0000, -1.0000],\n",
      "        [ 7.0000,  7.0000,  7.0000,  ...,  0.0000, -5.5000,  0.0000],\n",
      "        [ 7.0000,  7.0000,  7.0000,  ...,  0.0000,  2.5000,  0.0000],\n",
      "        ...,\n",
      "        [10.0000, 10.0000, 10.0000,  ..., -1.0000, -1.0000, -1.0000],\n",
      "        [ 7.0000,  7.0000,  7.0000,  ...,  0.0000,  9.0000,  0.0000],\n",
      "        [ 7.0000,  7.0000,  7.0000,  ...,  0.0000,  3.0000,  0.0000]])\n",
      "Some values of the input are nan:  tensor([[10.0000, 10.0000, 10.0000,  ..., -1.0000, -1.0000, -1.0000],\n",
      "        [ 7.0000,  7.0000,  7.0000,  ...,  0.0000, -5.5000,  0.0000],\n",
      "        [ 7.0000,  7.0000,  7.0000,  ...,  0.0000,  2.5000,  0.0000],\n",
      "        ...,\n",
      "        [10.0000, 10.0000, 10.0000,  ..., -1.0000, -1.0000, -1.0000],\n",
      "        [ 7.0000,  7.0000,  7.0000,  ...,  0.0000,  9.0000,  0.0000],\n",
      "        [ 7.0000,  7.0000,  7.0000,  ...,  0.0000,  3.0000,  0.0000]])\n",
      "Test Loss: nan, Accuracy: 0.498125\n"
     ]
    },
    {
     "name": "stderr",
     "output_type": "stream",
     "text": [
      "Epoch 9:  21%|██▏       | 32/150 [00:00<00:01, 75.64it/s]"
     ]
    },
    {
     "name": "stdout",
     "output_type": "stream",
     "text": [
      "Some values of the input are nan:  tensor([[ 7.0000,  7.0000,  7.0000,  ...,  0.0000,  0.0101,  0.0000],\n",
      "        [ 7.0000,  7.0000,  7.0000,  ...,  0.0000,  7.7228,  0.0000],\n",
      "        [ 5.0000,  5.0000,  5.0000,  ..., -1.0000, -1.0000, -1.0000],\n",
      "        ...,\n",
      "        [ 7.0000,  7.0000,  7.0000,  ...,  0.0000, -9.5000,  0.0000],\n",
      "        [ 7.0000,  7.0000,  7.0000,  ...,  0.0000, -8.0000,  0.0000],\n",
      "        [ 7.0000,  7.0000,  7.0000,  ...,  0.0000,  3.0000,  0.0000]])\n"
     ]
    },
    {
     "name": "stderr",
     "output_type": "stream",
     "text": [
      "Epoch 9:  63%|██████▎   | 95/150 [00:01<00:00, 71.94it/s]"
     ]
    },
    {
     "name": "stdout",
     "output_type": "stream",
     "text": [
      "Some values of the input are nan:  tensor([[ 5.,  5.,  5.,  ..., -1., -1., -1.],\n",
      "        [ 5.,  5.,  5.,  ..., -1., -1., -1.],\n",
      "        [16., 16., 16.,  ..., 22.,  0., 22.],\n",
      "        ...,\n",
      "        [10., 10., 10.,  ..., -1., -1., -1.],\n",
      "        [ 7.,  7.,  7.,  ...,  0., -3.,  0.],\n",
      "        [16., 16., 16.,  ..., 32.,  0., 32.]])\n"
     ]
    },
    {
     "name": "stderr",
     "output_type": "stream",
     "text": [
      "Epoch 9:  79%|███████▉  | 119/150 [00:01<00:00, 74.06it/s]"
     ]
    },
    {
     "name": "stdout",
     "output_type": "stream",
     "text": [
      "Some values of the input are nan:  tensor([[10.0000, 10.0000, 10.0000,  ..., -1.0000, -1.0000, -1.0000],\n",
      "        [ 5.0000,  5.0000,  5.0000,  ..., -1.0000, -1.0000, -1.0000],\n",
      "        [ 7.0000,  7.0000,  7.0000,  ...,  0.0000, -2.5000,  0.0000],\n",
      "        ...,\n",
      "        [ 7.0000,  7.0000,  7.0000,  ...,  0.0000,  5.5000,  0.0000],\n",
      "        [ 7.0000,  7.0000,  7.0000,  ...,  0.0000,  4.0000,  0.0000],\n",
      "        [ 7.0000,  7.0000,  7.0000,  ...,  0.0000, -8.5000,  0.0000]])\n",
      "Some values of the input are nan:  tensor([[10.0000, 10.0000, 10.0000,  ..., -1.0000, -1.0000, -1.0000],\n",
      "        [ 5.0000,  5.0000,  5.0000,  ..., -1.0000, -1.0000, -1.0000],\n",
      "        [ 7.0000,  7.0000,  7.0000,  ...,  0.0000, -2.5000,  0.0000],\n",
      "        ...,\n",
      "        [ 7.0000,  7.0000,  7.0000,  ...,  0.0000,  5.5000,  0.0000],\n",
      "        [ 7.0000,  7.0000,  7.0000,  ...,  0.0000,  4.0000,  0.0000],\n",
      "        [ 7.0000,  7.0000,  7.0000,  ...,  0.0000, -8.5000,  0.0000]])\n"
     ]
    },
    {
     "name": "stderr",
     "output_type": "stream",
     "text": [
      "Epoch 9:  90%|█████████ | 135/150 [00:01<00:00, 71.37it/s]"
     ]
    },
    {
     "name": "stdout",
     "output_type": "stream",
     "text": [
      "Some values of the input are nan:  tensor([[ 5.,  5.,  5.,  ..., -1., -1., -1.],\n",
      "        [16., 16., 16.,  ..., 18.,  0., 18.],\n",
      "        [ 5.,  5.,  5.,  ..., -1., -1., -1.],\n",
      "        ...,\n",
      "        [10., 10., 10.,  ..., -1., -1., -1.],\n",
      "        [16., 16., 16.,  ..., 27.,  0., 27.],\n",
      "        [ 7.,  7.,  7.,  ...,  0., -5.,  0.]])\n"
     ]
    },
    {
     "name": "stderr",
     "output_type": "stream",
     "text": [
      "Epoch 9: 100%|██████████| 150/150 [00:02<00:00, 71.53it/s]\n"
     ]
    },
    {
     "name": "stdout",
     "output_type": "stream",
     "text": [
      "Some values of the input are nan:  tensor([[ 5.,  5.,  5.,  ..., -1., -1., -1.],\n",
      "        [10., 10., 10.,  ..., -1., -1., -1.],\n",
      "        [12., 12., 12.,  ..., -1., -1., -1.],\n",
      "        ...,\n",
      "        [ 5.,  5.,  5.,  ..., -1., -1., -1.],\n",
      "        [ 5.,  5.,  5.,  ..., -1., -1., -1.],\n",
      "        [16., 16., 16.,  ..., 24.,  0., 24.]])\n",
      "Epoch 9, Loss: nan\n",
      "Some values of the input are nan:  tensor([[10.0000, 10.0000, 10.0000,  ..., -1.0000, -1.0000, -1.0000],\n",
      "        [ 7.0000,  7.0000,  7.0000,  ...,  0.0000, -5.5000,  0.0000],\n",
      "        [ 7.0000,  7.0000,  7.0000,  ...,  0.0000,  2.5000,  0.0000],\n",
      "        ...,\n",
      "        [10.0000, 10.0000, 10.0000,  ..., -1.0000, -1.0000, -1.0000],\n",
      "        [ 7.0000,  7.0000,  7.0000,  ...,  0.0000,  9.0000,  0.0000],\n",
      "        [ 7.0000,  7.0000,  7.0000,  ...,  0.0000,  3.0000,  0.0000]])\n",
      "Some values of the input are nan:  tensor([[10.0000, 10.0000, 10.0000,  ..., -1.0000, -1.0000, -1.0000],\n",
      "        [ 7.0000,  7.0000,  7.0000,  ...,  0.0000, -5.5000,  0.0000],\n",
      "        [ 7.0000,  7.0000,  7.0000,  ...,  0.0000,  2.5000,  0.0000],\n",
      "        ...,\n",
      "        [10.0000, 10.0000, 10.0000,  ..., -1.0000, -1.0000, -1.0000],\n",
      "        [ 7.0000,  7.0000,  7.0000,  ...,  0.0000,  9.0000,  0.0000],\n",
      "        [ 7.0000,  7.0000,  7.0000,  ...,  0.0000,  3.0000,  0.0000]])\n",
      "Test Loss: nan, Accuracy: 0.498125\n"
     ]
    }
   ],
   "source": [
    "num_epochs = 10\n",
    "for epoch in range(num_epochs):\n",
    "    train(epoch)\n",
    "    validate()"
   ]
  },
  {
   "cell_type": "code",
   "execution_count": null,
   "metadata": {},
   "outputs": [],
   "source": []
  },
  {
   "cell_type": "markdown",
   "metadata": {},
   "source": [
    "## Evaluation"
   ]
  },
  {
   "cell_type": "code",
   "execution_count": 61,
   "metadata": {},
   "outputs": [],
   "source": [
    "le = LabelEncoder()\n",
    "le.fit(OPERATIONS+FUNCTIONS+CLASSIC_CONSTANTS+VARIABLE_ALPHABET+TYPES)\n",
    "eval_node_attr_encoder = make_node_attribute_encoder(le)"
   ]
  },
  {
   "cell_type": "code",
   "execution_count": 67,
   "metadata": {},
   "outputs": [],
   "source": [
    "expr_left = {\n",
    "      \"type\": \"POW\",\n",
    "      \"value\": None,\n",
    "      \"subtype\": None,\n",
    "      \"children\": [\n",
    "        {\n",
    "          \"type\": \"POW\",\n",
    "          \"value\": None,\n",
    "          \"subtype\": None,\n",
    "          \"children\": [\n",
    "            {\n",
    "              \"type\": \"LITERAL\",\n",
    "              \"value\": -3.5,\n",
    "              \"subtype\": None,\n",
    "              \"children\": []\n",
    "            },\n",
    "            {\n",
    "              \"type\": \"LITERAL\",\n",
    "              \"value\": 3.0,\n",
    "              \"subtype\": None,\n",
    "              \"children\": []\n",
    "            }\n",
    "          ]\n",
    "        },\n",
    "        {\n",
    "          \"type\": \"LITERAL\",\n",
    "          \"value\": 4.5,\n",
    "          \"subtype\": None,\n",
    "          \"children\": []\n",
    "        }\n",
    "      ]\n",
    "    }\n",
    "expr_right = {\n",
    "      \"type\": \"POW\",\n",
    "      \"value\": None,\n",
    "      \"subtype\": None,\n",
    "      \"children\": [\n",
    "        {\n",
    "          \"type\": \"POW\",\n",
    "          \"value\": None,\n",
    "          \"subtype\": None,\n",
    "          \"children\": [\n",
    "            {\n",
    "              \"type\": \"LITERAL\",\n",
    "              \"value\": -5.5,\n",
    "              \"subtype\": None,\n",
    "              \"children\": []\n",
    "            },\n",
    "            {\n",
    "              \"type\": \"LITERAL\",\n",
    "              \"value\": -10.0,\n",
    "              \"subtype\": None,\n",
    "              \"children\": []\n",
    "            }\n",
    "          ]\n",
    "        },\n",
    "        {\n",
    "          \"type\": \"LITERAL\",\n",
    "          \"value\": 4.0,\n",
    "          \"subtype\": None,\n",
    "          \"children\": []\n",
    "        }\n",
    "      ]\n",
    "    }\n",
    "\n",
    "expr_right_constant_error = {\n",
    "      \"type\": \"POW\",\n",
    "      \"value\": None,\n",
    "      \"subtype\": None,\n",
    "      \"children\": [\n",
    "        {\n",
    "          \"type\": \"POW\",\n",
    "          \"value\": None,\n",
    "          \"subtype\": None,\n",
    "          \"children\": [\n",
    "            {\n",
    "              \"type\": \"LITERAL\",\n",
    "              \"value\": -5.5,\n",
    "              \"subtype\": None,\n",
    "              \"children\": []\n",
    "            },\n",
    "            {\n",
    "              \"type\": \"LITERAL\",\n",
    "              \"value\": -10.0,\n",
    "              \"subtype\": None,\n",
    "              \"children\": []\n",
    "            }\n",
    "          ]\n",
    "        },\n",
    "        {\n",
    "          \"type\": \"LITERAL\",\n",
    "          \"value\": 4.0,\n",
    "          \"subtype\": None,\n",
    "          \"children\": []\n",
    "        }\n",
    "      ]\n",
    "    }"
   ]
  },
  {
   "cell_type": "code",
   "execution_count": 68,
   "metadata": {},
   "outputs": [],
   "source": [
    "expr_l_obj = dict_to_geometric_representation(expr_left, eval_node_attr_encoder)\n",
    "expr_r_obj = dict_to_geometric_representation(expr_right, eval_node_attr_encoder)\n",
    "expr_r_c_obj = dict_to_geometric_representation(expr_right_constant_error, eval_node_attr_encoder)"
   ]
  },
  {
   "cell_type": "code",
   "execution_count": 69,
   "metadata": {},
   "outputs": [],
   "source": [
    "y_1 = model(expr_l_obj, expr_r_obj)\n",
    "y_2 = model(expr_l_obj, expr_l_obj)\n",
    "y_3 = model(expr_r_obj, expr_r_obj)\n",
    "y_4 = model(expr_r_obj, expr_r_c_obj)"
   ]
  },
  {
   "cell_type": "code",
   "execution_count": 70,
   "metadata": {},
   "outputs": [
    {
     "name": "stdout",
     "output_type": "stream",
     "text": [
      "tensor([0.4399], grad_fn=<SumBackward1>)\n",
      "tensor([1.], grad_fn=<SumBackward1>)\n",
      "tensor([1.0000], grad_fn=<SumBackward1>)\n",
      "tensor([1.0000], grad_fn=<SumBackward1>)\n"
     ]
    }
   ],
   "source": [
    "print(F.cosine_similarity(y_1[0], y_1[1]))\n",
    "print(F.cosine_similarity(y_2[0], y_2[1]))\n",
    "print(F.cosine_similarity(y_3[0], y_3[1]))\n",
    "print(F.cosine_similarity(y_4[0], y_4[1]))\n"
   ]
  },
  {
   "cell_type": "code",
   "execution_count": 66,
   "metadata": {},
   "outputs": [],
   "source": [
    "# from torchviz import make_dot"
   ]
  },
  {
   "cell_type": "markdown",
   "metadata": {},
   "source": [
    "# Misc"
   ]
  },
  {
   "cell_type": "code",
   "execution_count": 224,
   "metadata": {},
   "outputs": [],
   "source": [
    "# make_dot(y_f.mean(), params=dict(formulanet.named_parameters()))"
   ]
  }
 ],
 "metadata": {
  "kernelspec": {
   "display_name": "Python 3",
   "language": "python",
   "name": "python3"
  },
  "language_info": {
   "codemirror_mode": {
    "name": "ipython",
    "version": 3
   },
   "file_extension": ".py",
   "mimetype": "text/x-python",
   "name": "python",
   "nbconvert_exporter": "python",
   "pygments_lexer": "ipython3",
   "version": "3.10.11"
  }
 },
 "nbformat": 4,
 "nbformat_minor": 2
}
