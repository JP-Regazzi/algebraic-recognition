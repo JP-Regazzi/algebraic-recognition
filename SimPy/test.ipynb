{
 "cells": [
  {
   "cell_type": "markdown",
   "metadata": {},
   "source": [
    "### Test of similarity tree analysis"
   ]
  },
  {
   "cell_type": "code",
   "execution_count": 1,
   "metadata": {},
   "outputs": [],
   "source": [
    "from latex2sympy2 import latex2sympy, latex2latex\n",
    "from sympy import simplify, srepr, Eq\n",
    "from difflib import SequenceMatcher\n",
    "from main import *"
   ]
  },
  {
   "cell_type": "code",
   "execution_count": 2,
   "metadata": {},
   "outputs": [],
   "source": [
    "def expression_tree_similarity(expr1, expr2):\n",
    "    tree1 = srepr(simplify_latex_expression(expr1))\n",
    "    tree2 = srepr(simplify_latex_expression(expr2))\n",
    "\n",
    "    matcher = SequenceMatcher(None, tree1, tree2)\n",
    "    similarity_ratio = matcher.ratio()\n",
    "\n",
    "    similarity_percentage = similarity_ratio * 100\n",
    "    return similarity_percentage"
   ]
  },
  {
   "cell_type": "code",
   "execution_count": 3,
   "metadata": {},
   "outputs": [],
   "source": [
    "expr1 = r\"\\frac{d}{dx}(x^2 + 2*x) \\times \\int x \\,dx\"\n",
    "expr2 = r\"x^3 + x\" # Correct would be x^3 + x^2"
   ]
  },
  {
   "cell_type": "code",
   "execution_count": 4,
   "metadata": {},
   "outputs": [
    {
     "name": "stdout",
     "output_type": "stream",
     "text": [
      "Expression tree similarity: 77.06422018348624%\n"
     ]
    }
   ],
   "source": [
    "expression_tree_similarity = expression_tree_similarity(expr1, expr2)\n",
    "print(f\"Expression tree similarity: {expression_tree_similarity}%\")"
   ]
  }
 ],
 "metadata": {
  "kernelspec": {
   "display_name": "Python 3",
   "language": "python",
   "name": "python3"
  },
  "language_info": {
   "codemirror_mode": {
    "name": "ipython",
    "version": 3
   },
   "file_extension": ".py",
   "mimetype": "text/x-python",
   "name": "python",
   "nbconvert_exporter": "python",
   "pygments_lexer": "ipython3",
   "version": "3.10.5"
  }
 },
 "nbformat": 4,
 "nbformat_minor": 2
}
