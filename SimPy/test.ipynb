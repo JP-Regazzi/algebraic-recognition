{
 "cells": [
  {
   "cell_type": "markdown",
   "metadata": {},
   "source": [
    "### Requirements"
   ]
  },
  {
   "cell_type": "code",
   "execution_count": 1,
   "metadata": {},
   "outputs": [],
   "source": [
    "import json\n",
    "import os\n",
    "\n",
    "from latex2sympy2 import latex2sympy, latex2latex\n",
    "from sympy import simplify, srepr, Eq\n",
    "from sympy.core.basic import Basic\n",
    "from zss import simple_distance, Node\n",
    "from difflib import SequenceMatcher\n",
    "from PrettyPrint import PrettyPrintTree\n",
    "\n",
    "from main import *"
   ]
  },
  {
   "cell_type": "markdown",
   "metadata": {},
   "source": [
    "### Constants"
   ]
  },
  {
   "cell_type": "code",
   "execution_count": 2,
   "metadata": {},
   "outputs": [],
   "source": [
    "BASE_PATH = os.path.dirname(os.path.abspath(\"__file__\"))\n",
    "EXAMPLE_DATA_FILE = \"data_example.json\"\n",
    "DATA_FILE = \"data.json\""
   ]
  },
  {
   "cell_type": "markdown",
   "metadata": {},
   "source": [
    "### Read data"
   ]
  },
  {
   "cell_type": "code",
   "execution_count": 3,
   "metadata": {},
   "outputs": [],
   "source": [
    "# JSON example tree data\n",
    "with open(os.path.join(BASE_PATH, EXAMPLE_DATA_FILE), 'r') as file:\n",
    "    example_json_data = json.load(file)\n",
    "tree1 = example_json_data.get(\"exprl\", {}) # Template answer\n",
    "tree2 = example_json_data.get(\"expr2\", {}) # Right answer\n",
    "tree3 = example_json_data.get(\"expr3\", {}) # Wrong answer\n",
    "\n",
    "# Full JSON data\n",
    "with open(os.path.join(BASE_PATH, DATA_FILE), 'r') as file:\n",
    "    json_data = json.load(file)\n",
    "\n",
    "# Latex string data\n",
    "expr1 = r\"\\frac{d}{dx}(x^2 + 2*x) \\times \\int x \\,dx\"\n",
    "expr2 = r\"x^3 + x^2\" # Correct would be x^3 + x^2\n",
    "expr3 = r\"\\frac{(x^3 + x^3)}{\\tan(10)}\""
   ]
  },
  {
   "cell_type": "markdown",
   "metadata": {},
   "source": [
    "### Test of similarity tree analysis"
   ]
  },
  {
   "cell_type": "code",
   "execution_count": null,
   "metadata": {},
   "outputs": [],
   "source": [
    "tree1 = latex_to_tree(expr1)\n",
    "tree2 = latex_to_tree(expr2)\n",
    "expression_tree_similarity = get_tree_sequence_similarity(tree1, tree2)\n",
    "print(f\"Expression tree similarity: {round(expression_tree_similarity*100, 0)}%\")"
   ]
  },
  {
   "cell_type": "markdown",
   "metadata": {},
   "source": [
    "### Test Bert text similarity"
   ]
  },
  {
   "cell_type": "code",
   "execution_count": null,
   "metadata": {},
   "outputs": [],
   "source": [
    "from latex2sympy2 import latex2sympy, latex2latex\n",
    "from sympy import simplify, srepr, Eq\n",
    "from difflib import SequenceMatcher\n",
    "from main import *"
   ]
  },
  {
   "cell_type": "code",
   "execution_count": null,
   "metadata": {},
   "outputs": [],
   "source": [
    "# Carregar o modelo BERT pré-treinado e o tokenizador\n",
    "modelo = BertModel.from_pretrained('bert-base-uncased')\n",
    "tokenizer = BertTokenizer.from_pretrained('bert-base-uncased')"
   ]
  },
  {
   "cell_type": "code",
   "execution_count": null,
   "metadata": {},
   "outputs": [],
   "source": [
    "emb1 = get_bert_embeddings(latex2latex(expr1), modelo, tokenizer)\n",
    "emb2 = get_bert_embeddings(latex2latex(expr2), modelo, tokenizer)\n",
    "print(f\"Expression tree similarity: {round(get_text_similarity(emb1, emb2)*100,0)}%\")"
   ]
  },
  {
   "cell_type": "markdown",
   "metadata": {},
   "source": [
    "### Tree edit distance (Zhang-Shasha)"
   ]
  },
  {
   "cell_type": "code",
   "execution_count": 4,
   "metadata": {},
   "outputs": [
    {
     "data": {
      "text/plain": [
       "17.0"
      ]
     },
     "execution_count": 4,
     "metadata": {},
     "output_type": "execute_result"
    }
   ],
   "source": [
    "\n",
    "\n",
    "t1 = json_data[100]['expr_l']\n",
    "t2 = json_data[250]['expr_l']\n",
    "compare_database_trees(t1, t2)"
   ]
  },
  {
   "cell_type": "code",
   "execution_count": 5,
   "metadata": {},
   "outputs": [
    {
     "data": {
      "text/plain": [
       "2.0"
      ]
     },
     "execution_count": 5,
     "metadata": {},
     "output_type": "execute_result"
    }
   ],
   "source": [
    "t1 = json_data[1]['expr_l']\n",
    "t1_copy = {'val': 'POW',\n",
    " 'id': 1,\n",
    " 'children': [{'val': '7.0', 'id': 3},\n",
    "  {'val': 'POW',\n",
    "   'id': 4,\n",
    "   'children': [{'val': '7.0', 'id': 9},\n",
    "    {'val': 'POW',\n",
    "     'id': 10,\n",
    "     'children': [{'val': 'k', 'id': 21}, {'val': '-9.5', 'id': 22}]}]}]}\n",
    "\n",
    "compare_database_trees(t1, t1_copy)"
   ]
  },
  {
   "cell_type": "code",
   "execution_count": 6,
   "metadata": {},
   "outputs": [],
   "source": [
    "pt = PrettyPrintTree(lambda x: x.children, lambda x: x.label)"
   ]
  },
  {
   "cell_type": "code",
   "execution_count": 7,
   "metadata": {},
   "outputs": [
    {
     "name": "stdout",
     "output_type": "stream",
     "text": [
      "     \u001b[100m POW \u001b[0m\n",
      "  ┌────┴────┐\n",
      "\u001b[100m 7.0 \u001b[0m     \u001b[100m POW \u001b[0m       \n",
      "        ┌───┴────┐    \n",
      "      \u001b[100m 7.0 \u001b[0m    \u001b[100m POW \u001b[0m  \n",
      "              ┌──┴──┐ \n",
      "            \u001b[100m -9.5 \u001b[0m \u001b[100m k \u001b[0m\n"
     ]
    }
   ],
   "source": [
    "pt(parse_database_tree(t1))"
   ]
  },
  {
   "cell_type": "code",
   "execution_count": 8,
   "metadata": {},
   "outputs": [
    {
     "name": "stdout",
     "output_type": "stream",
     "text": [
      "    \u001b[100m POW \u001b[0m\n",
      "  ┌───┴────┐\n",
      "\u001b[100m 7.0 \u001b[0m    \u001b[100m POW \u001b[0m        \n",
      "        ┌──┴───┐      \n",
      "      \u001b[100m 7.0 \u001b[0m  \u001b[100m POW \u001b[0m    \n",
      "             ┌─┴──┐   \n",
      "            \u001b[100m k \u001b[0m \u001b[100m -9.5 \u001b[0m\n"
     ]
    }
   ],
   "source": [
    "pt(parse_database_tree(t1_copy))"
   ]
  },
  {
   "cell_type": "code",
   "execution_count": 9,
   "metadata": {},
   "outputs": [],
   "source": [
    "# Latex string data\n",
    "\n",
    "expr1 = r\"\\frac{d}{dx}(x^2 + 2*x) \\times \\int x \\,dx\"\n",
    "expr2 = r\"x^3 + x^2\" # Correct would be x^3 + x^2\n",
    "expr3 = r\"\\frac{(x^3 + x^3)}{\\tan(10)}\""
   ]
  },
  {
   "cell_type": "code",
   "execution_count": 10,
   "metadata": {},
   "outputs": [],
   "source": [
    "# Build the tree from the expression\n",
    "tree1 = build_tree(simplify_latex_expression(expr1))\n",
    "tree2 = build_tree(simplify_latex_expression(expr2))\n",
    "tree3 = build_tree(simplify_latex_expression(expr3))"
   ]
  },
  {
   "cell_type": "code",
   "execution_count": 12,
   "metadata": {},
   "outputs": [
    {
     "name": "stdout",
     "output_type": "stream",
     "text": [
      "                 \u001b[100m <class 'sympy.core.mul.Mul'> \u001b[0m\n",
      "               ┌───────────────┴───────────────┐\n",
      "\u001b[100m <class 'sympy.core.power.Pow'> \u001b[0m \u001b[100m <class 'sympy.core.add.Add'> \u001b[0m\n",
      "             ┌─┴─┐                           ┌─┴─┐             \n",
      "            \u001b[100m x \u001b[0m \u001b[100m 2 \u001b[0m                         \u001b[100m x \u001b[0m \u001b[100m 1 \u001b[0m\n"
     ]
    }
   ],
   "source": [
    "pt(tree1)"
   ]
  },
  {
   "cell_type": "code",
   "execution_count": 13,
   "metadata": {},
   "outputs": [
    {
     "name": "stdout",
     "output_type": "stream",
     "text": [
      "                 \u001b[100m <class 'sympy.core.mul.Mul'> \u001b[0m\n",
      "               ┌───────────────┴───────────────┐\n",
      "\u001b[100m <class 'sympy.core.power.Pow'> \u001b[0m \u001b[100m <class 'sympy.core.add.Add'> \u001b[0m\n",
      "             ┌─┴─┐                           ┌─┴─┐             \n",
      "            \u001b[100m x \u001b[0m \u001b[100m 2 \u001b[0m                         \u001b[100m x \u001b[0m \u001b[100m 1 \u001b[0m\n"
     ]
    }
   ],
   "source": [
    "pt(tree2) "
   ]
  },
  {
   "cell_type": "code",
   "execution_count": 14,
   "metadata": {},
   "outputs": [
    {
     "name": "stdout",
     "output_type": "stream",
     "text": [
      "                     \u001b[100m <class 'sympy.core.mul.Mul'> \u001b[0m\n",
      "              ┌────────────────────┴────────────────────┐\n",
      "\u001b[100m <class 'sympy.core.mul.Mul'> \u001b[0m           \u001b[100m <class 'sympy.core.power.Pow'> \u001b[0m\n",
      "     ┌────────┴────────┐                              ┌─┴──┐             \n",
      "    \u001b[100m 2 \u001b[0m \u001b[100m <class 'sympy.core.power.Pow'> \u001b[0m            \u001b[100m tan \u001b[0m \u001b[100m -1 \u001b[0m           \n",
      "                     ┌─┴─┐                            |                  \n",
      "                    \u001b[100m x \u001b[0m \u001b[100m 3 \u001b[0m                          \u001b[100m 10 \u001b[0m\n"
     ]
    }
   ],
   "source": [
    "pt(tree3)"
   ]
  },
  {
   "cell_type": "code",
   "execution_count": 15,
   "metadata": {},
   "outputs": [
    {
     "data": {
      "text/plain": [
       "(0.0, 7.0, 7.0)"
      ]
     },
     "execution_count": 15,
     "metadata": {},
     "output_type": "execute_result"
    }
   ],
   "source": [
    "simple_distance(tree1, tree2), simple_distance(tree1, tree3), simple_distance(tree2, tree3)"
   ]
  }
 ],
 "metadata": {
  "kernelspec": {
   "display_name": "Python 3",
   "language": "python",
   "name": "python3"
  },
  "language_info": {
   "codemirror_mode": {
    "name": "ipython",
    "version": 3
   },
   "file_extension": ".py",
   "mimetype": "text/x-python",
   "name": "python",
   "nbconvert_exporter": "python",
   "pygments_lexer": "ipython3",
   "version": "3.10.5"
  }
 },
 "nbformat": 4,
 "nbformat_minor": 2
}
