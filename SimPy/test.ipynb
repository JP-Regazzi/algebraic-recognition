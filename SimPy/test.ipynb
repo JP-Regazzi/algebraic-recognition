{
 "cells": [
  {
   "cell_type": "markdown",
   "metadata": {},
   "source": [
    "### Requirements"
   ]
  },
  {
   "cell_type": "code",
   "execution_count": 3,
   "metadata": {},
   "outputs": [],
   "source": [
    "import json\n",
    "import os\n",
    "import re\n",
    "import pandas as pd\n",
    "\n",
    "from latex2sympy2 import latex2sympy, latex2latex\n",
    "from sympy import simplify, srepr, Eq\n",
    "from sympy.core.basic import Basic\n",
    "from zss import simple_distance, Node\n",
    "from PrettyPrint import PrettyPrintTree\n",
    "\n",
    "from main import *"
   ]
  },
  {
   "cell_type": "markdown",
   "metadata": {},
   "source": [
    "### Constants"
   ]
  },
  {
   "cell_type": "code",
   "execution_count": 4,
   "metadata": {},
   "outputs": [],
   "source": [
    "BASE_PATH = os.path.dirname(os.path.abspath(\"__file__\"))\n",
    "EXAMPLE_DATA_FILE = \"data_example.json\"\n",
    "DATA_FILE = \"data.json\""
   ]
  },
  {
   "cell_type": "markdown",
   "metadata": {},
   "source": [
    "### Read data"
   ]
  },
  {
   "cell_type": "code",
   "execution_count": 5,
   "metadata": {},
   "outputs": [],
   "source": [
    "# JSON example tree data\n",
    "with open(os.path.join(BASE_PATH, EXAMPLE_DATA_FILE), 'r') as file:\n",
    "    example_json_data = json.load(file)\n",
    "tree1 = example_json_data.get(\"exprl\", {}) # Template answer\n",
    "tree2 = example_json_data.get(\"expr2\", {}) # Right answer\n",
    "tree3 = example_json_data.get(\"expr3\", {}) # Wrong answer\n",
    "\n",
    "# Full JSON data\n",
    "with open(os.path.join(BASE_PATH, DATA_FILE), 'r') as file:\n",
    "    json_data = json.load(file)\n",
    "\n",
    "# Latex string data\n",
    "expr1 = r\"\\frac{d}{dx}(x^2 + 2*x) \\times \\int x \\,dx\"\n",
    "expr2 = r\"x^3 + x^2\" # Correct would be x^3 + x^2\n",
    "expr3 = r\"\\frac{(x^3 + x^3)}{\\tan(10)}\""
   ]
  },
  {
   "cell_type": "markdown",
   "metadata": {},
   "source": [
    "### Test of similarity tree analysis"
   ]
  },
  {
   "cell_type": "code",
   "execution_count": null,
   "metadata": {},
   "outputs": [],
   "source": [
    "tree1 = latex_to_tree(expr1)\n",
    "tree2 = latex_to_tree(expr2)\n",
    "expression_tree_similarity = get_tree_sequence_similarity(tree1, tree2)\n",
    "print(f\"Expression tree similarity: {round(expression_tree_similarity*100, 0)}%\")"
   ]
  },
  {
   "cell_type": "markdown",
   "metadata": {},
   "source": [
    "### Test Bert text similarity"
   ]
  },
  {
   "cell_type": "code",
   "execution_count": null,
   "metadata": {},
   "outputs": [],
   "source": [
    "from transformers import BertModel, BertTokenizer\n",
    "\n",
    "# Carregar o modelo BERT pré-treinado e o tokenizador\n",
    "modelo = BertModel.from_pretrained('bert-base-uncased')\n",
    "tokenizer = BertTokenizer.from_pretrained('bert-base-uncased')\n",
    "\n",
    "emb1 = get_bert_embeddings(latex2latex(expr1), modelo, tokenizer)\n",
    "emb2 = get_bert_embeddings(latex2latex(expr2), modelo, tokenizer)\n",
    "print(f\"Expression tree similarity: {round(get_text_similarity(emb1, emb2)*100,0)}%\")"
   ]
  },
  {
   "cell_type": "markdown",
   "metadata": {},
   "source": [
    "### Tree edit distance (Zhang-Shasha)"
   ]
  },
  {
   "cell_type": "code",
   "execution_count": 6,
   "metadata": {},
   "outputs": [],
   "source": [
    "pt = PrettyPrintTree(lambda x: x.children, lambda x: x.label)"
   ]
  },
  {
   "cell_type": "code",
   "execution_count": 7,
   "metadata": {},
   "outputs": [],
   "source": [
    "# Latex string data\n",
    "\n",
    "expr1 = r\"\\frac{d}{dx}(x^2 + 2*x) \\times \\int x \\,dx\"\n",
    "expr2 = r\"x^3 + x^2\" # Correct would be x^3 + x^2\n",
    "expr3 = r\"\\frac{(x^3 + x^3)}{\\tan(10)}\""
   ]
  },
  {
   "cell_type": "code",
   "execution_count": 8,
   "metadata": {},
   "outputs": [],
   "source": [
    "# Build the tree from the expression\n",
    "tree1 = build_tree(simplify_latex_expression(expr1))\n",
    "tree2 = build_tree(simplify_latex_expression(expr2))\n",
    "tree3 = build_tree(simplify_latex_expression(expr3))"
   ]
  },
  {
   "cell_type": "code",
   "execution_count": 9,
   "metadata": {},
   "outputs": [
    {
     "name": "stdout",
     "output_type": "stream",
     "text": [
      "                 \u001b[100m <class 'sympy.core.mul.Mul'> \u001b[0m\n",
      "               ┌───────────────┴───────────────┐\n",
      "\u001b[100m <class 'sympy.core.power.Pow'> \u001b[0m \u001b[100m <class 'sympy.core.add.Add'> \u001b[0m\n",
      "             ┌─┴─┐                           ┌─┴─┐             \n",
      "            \u001b[100m x \u001b[0m \u001b[100m 2 \u001b[0m                         \u001b[100m x \u001b[0m \u001b[100m 1 \u001b[0m\n"
     ]
    }
   ],
   "source": [
    "pt(tree1)"
   ]
  },
  {
   "cell_type": "code",
   "execution_count": null,
   "metadata": {},
   "outputs": [],
   "source": [
    "pt(tree2) "
   ]
  },
  {
   "cell_type": "code",
   "execution_count": null,
   "metadata": {},
   "outputs": [],
   "source": [
    "pt(tree3)"
   ]
  },
  {
   "cell_type": "code",
   "execution_count": null,
   "metadata": {},
   "outputs": [],
   "source": [
    "simple_distance(tree1, tree2), simple_distance(tree1, tree3), simple_distance(tree2, tree3)"
   ]
  },
  {
   "cell_type": "markdown",
   "metadata": {},
   "source": [
    "### Caspa Dataset "
   ]
  },
  {
   "cell_type": "code",
   "execution_count": null,
   "metadata": {},
   "outputs": [],
   "source": [
    "df = pd.read_csv('test_datagen.csv')\n",
    "df_test = df[:50].copy(deep=True)"
   ]
  },
  {
   "cell_type": "code",
   "execution_count": null,
   "metadata": {},
   "outputs": [],
   "source": [
    "def remove_format_operations(expr):\n",
    "    return re.sub(r\"\\\\left|\\\\right\", \"\", expr)"
   ]
  },
  {
   "cell_type": "code",
   "execution_count": null,
   "metadata": {},
   "outputs": [],
   "source": [
    "# Apply simplify_latex_expression() to columns expr_l and expr_r\n",
    "df_test['expr_l'] = df_test['expr_l'].apply(remove_format_operations)\n",
    "df_test['expr_r'] = df_test['expr_r'].apply(remove_format_operations)"
   ]
  },
  {
   "cell_type": "code",
   "execution_count": null,
   "metadata": {},
   "outputs": [],
   "source": [
    "# Apply simplify_latex_expression() to columns expr_l and expr_r\n",
    "df_test['expr_l'] = df_test['expr_l'].apply(simplify_latex_expression)\n",
    "df_test['expr_r'] = df_test['expr_r'].apply(simplify_latex_expression)"
   ]
  },
  {
   "cell_type": "code",
   "execution_count": null,
   "metadata": {},
   "outputs": [],
   "source": [
    "# Build trees for simplified expressions in columns expr_l and expr_r\n",
    "\n",
    "df_test['tree_l'] = df_test['expr_l'].apply(build_tree)\n",
    "df_test['tree_r'] = df_test['expr_r'].apply(build_tree)"
   ]
  },
  {
   "cell_type": "code",
   "execution_count": null,
   "metadata": {},
   "outputs": [],
   "source": [
    "# Calculate tree scores using simple_distance()\n",
    "df_test['tree_score'] = df_test.apply(lambda row: simple_distance(row['tree_l'], row['tree_r']), axis=1)\n",
    "\n",
    "# Save the updated DataFrame to CSV\n",
    "df_test.to_csv('output.csv', index=False)"
   ]
  },
  {
   "cell_type": "code",
   "execution_count": null,
   "metadata": {},
   "outputs": [],
   "source": [
    "simplify_latex_expression(r\"\\tan(x)\")"
   ]
  },
  {
   "cell_type": "code",
   "execution_count": null,
   "metadata": {},
   "outputs": [],
   "source": [
    "pt(df_test.iloc[1][\"tree_l\"])\n",
    "pt(df_test.iloc[1][\"tree_r\"])\n",
    "df_test.iloc[1]"
   ]
  },
  {
   "cell_type": "code",
   "execution_count": null,
   "metadata": {},
   "outputs": [],
   "source": [
    "pt(df_test.iloc[17][\"tree_r\"])\n",
    "pt(df_test.iloc[17][\"tree_l\"])\n",
    "df_test.iloc[17]#[[\"expr_l\", \"expr_r\", \"tree_l\", \"tree_r\"]]"
   ]
  },
  {
   "cell_type": "markdown",
   "metadata": {},
   "source": [
    "#### Testing extreme cases"
   ]
  },
  {
   "cell_type": "code",
   "execution_count": null,
   "metadata": {},
   "outputs": [],
   "source": [
    "# Latex string data\n",
    "\n",
    "lim_expr1 = r\"\\lim_{x \\to \\infty} \\frac{1}{x}\"\n",
    "lim_expr2 = r\"\\lim_{x \\to 0} \\frac{10}{x}\"\n",
    "lim_expr3 = r\"\\lim_{x \\to \\infty} \\cos(x)\" "
   ]
  },
  {
   "cell_type": "code",
   "execution_count": null,
   "metadata": {},
   "outputs": [],
   "source": [
    "simplify_latex_expression(lim_expr1), simplify_latex_expression(lim_expr2), simplify_latex_expression(lim_expr3) "
   ]
  },
  {
   "cell_type": "code",
   "execution_count": null,
   "metadata": {},
   "outputs": [],
   "source": [
    "str1 = 'x - y'\n",
    "tree1 = load_expr(str1)\n",
    "pt(tree1)"
   ]
  },
  {
   "cell_type": "code",
   "execution_count": null,
   "metadata": {},
   "outputs": [],
   "source": [
    "tree1.label == Add"
   ]
  },
  {
   "cell_type": "code",
   "execution_count": null,
   "metadata": {},
   "outputs": [],
   "source": [
    "def give_feedback(answer, expected):\n",
    "    tree1 = load_expr(answer)\n",
    "    tree2 = load_expr(expected)\n",
    "    feedback = []\n",
    "    stack1 = []\n",
    "    stack2 = []\n",
    "    #Breath-first traversal\n",
    "    while True:\n",
    "        stack1.extend(tree1.children)\n",
    "        stack2.extend(tree2.children)\n",
    "        print(tree1.label)\n",
    "        print(tree2.label)\n",
    "        print(stack1)\n",
    "        print(stack2)\n",
    "        print('==========')\n",
    "        # if len(tree1.children) == 0:\n",
    "        #     feedback.append(\"You forgot terms!\")\n",
    "\n",
    "        # if len(tree2.children) == 0:\n",
    "        #     feedback.append(\"You have extra terms!\")\n",
    "\n",
    "        if tree1.label == Mul and not tree2.label.is_symbol:\n",
    "            print('a')\n",
    "            if tree1.children[0].label == '-1':\n",
    "                feedback.append(\"You got one sign wrong!\")\n",
    "\n",
    "        if tree2.label == Mul and not tree1.label.is_symbol:\n",
    "            print('b')\n",
    "            if tree2.children[0].label == '-1':\n",
    "                feedback.append(\"You got one sign wrong!\")\n",
    "\n",
    "        tree1 = stack1.pop(0)\n",
    "        tree2 = stack2.pop(0)\n",
    "\n",
    "        if len(tree1.children) > 0 or len(tree2.children) > 0:\n",
    "            break\n",
    "\n",
    "    return feedback"
   ]
  },
  {
   "cell_type": "code",
   "execution_count": null,
   "metadata": {},
   "outputs": [],
   "source": [
    "str1 = 'x - y'\n",
    "str2 = 'x + y'\n",
    "\n",
    "tree1 = load_expr(str1)\n",
    "tree2 = load_expr(str2)\n",
    "\n",
    "pt = PrettyPrintTree()\n",
    "\n",
    "pt(tree1)\n",
    "pt(tree2)"
   ]
  },
  {
   "cell_type": "code",
   "execution_count": 1,
   "metadata": {},
   "outputs": [
    {
     "ename": "AttributeError",
     "evalue": "'TreeNode' object has no attribute 'find'",
     "output_type": "error",
     "traceback": [
      "\u001b[0;31m---------------------------------------------------------------------------\u001b[0m",
      "\u001b[0;31mAttributeError\u001b[0m                            Traceback (most recent call last)",
      "File \u001b[0;32m~/Documents/2A/Pole/ReconnaissanceAlgebrique/SimPy/main.py:67\u001b[0m, in \u001b[0;36msimplify_latex_expression\u001b[0;34m(latex_expr)\u001b[0m\n\u001b[1;32m     66\u001b[0m \u001b[38;5;28;01mtry\u001b[39;00m:\n\u001b[0;32m---> 67\u001b[0m     result \u001b[38;5;241m=\u001b[39m latex2sympy(\u001b[43mlatex2latex\u001b[49m\u001b[43m(\u001b[49m\u001b[43mlatex_expr\u001b[49m\u001b[43m)\u001b[49m)\n\u001b[1;32m     68\u001b[0m \u001b[38;5;28;01mexcept\u001b[39;00m:\n",
      "File \u001b[0;32m~/.local/lib/python3.10/site-packages/latex2sympy2.py:1127\u001b[0m, in \u001b[0;36mlatex2latex\u001b[0;34m(tex)\u001b[0m\n\u001b[1;32m   1126\u001b[0m \u001b[38;5;28;01mdef\u001b[39;00m \u001b[38;5;21mlatex2latex\u001b[39m(tex):\n\u001b[0;32m-> 1127\u001b[0m     result \u001b[38;5;241m=\u001b[39m \u001b[43mlatex2sympy\u001b[49m\u001b[43m(\u001b[49m\u001b[43mtex\u001b[49m\u001b[43m)\u001b[49m\n\u001b[1;32m   1128\u001b[0m     \u001b[38;5;66;03m# if result is a list or tuple or dict\u001b[39;00m\n",
      "File \u001b[0;32m~/.local/lib/python3.10/site-packages/latex2sympy2.py:49\u001b[0m, in \u001b[0;36mlatex2sympy\u001b[0;34m(sympy, variable_values)\u001b[0m\n\u001b[1;32m     48\u001b[0m \u001b[38;5;28;01mglobal\u001b[39;00m frac_type\n\u001b[0;32m---> 49\u001b[0m \u001b[38;5;28;01mif\u001b[39;00m \u001b[43msympy\u001b[49m\u001b[38;5;241;43m.\u001b[39;49m\u001b[43mfind\u001b[49m(\u001b[38;5;124mr\u001b[39m\u001b[38;5;124m'\u001b[39m\u001b[38;5;124m\\\u001b[39m\u001b[38;5;124mfrac\u001b[39m\u001b[38;5;124m'\u001b[39m) \u001b[38;5;241m!=\u001b[39m \u001b[38;5;241m-\u001b[39m\u001b[38;5;241m1\u001b[39m:\n\u001b[1;32m     50\u001b[0m     frac_type \u001b[38;5;241m=\u001b[39m \u001b[38;5;124mr\u001b[39m\u001b[38;5;124m'\u001b[39m\u001b[38;5;124m\\\u001b[39m\u001b[38;5;124mfrac\u001b[39m\u001b[38;5;124m'\u001b[39m\n",
      "\u001b[0;31mAttributeError\u001b[0m: 'TreeNode' object has no attribute 'find'",
      "\nDuring handling of the above exception, another exception occurred:\n",
      "\u001b[0;31mAttributeError\u001b[0m                            Traceback (most recent call last)",
      "File \u001b[0;32m~/Documents/2A/Pole/ReconnaissanceAlgebrique/SimPy/main.py:70\u001b[0m, in \u001b[0;36msimplify_latex_expression\u001b[0;34m(latex_expr)\u001b[0m\n\u001b[1;32m     69\u001b[0m \u001b[38;5;28;01mtry\u001b[39;00m:\n\u001b[0;32m---> 70\u001b[0m     result \u001b[38;5;241m=\u001b[39m simplify(\u001b[43mlatex2sympy\u001b[49m\u001b[43m(\u001b[49m\u001b[43mlatex_expr\u001b[49m\u001b[43m)\u001b[49m\u001b[38;5;241m.\u001b[39mdoit())\n\u001b[1;32m     71\u001b[0m \u001b[38;5;28;01mexcept\u001b[39;00m:\n",
      "File \u001b[0;32m~/.local/lib/python3.10/site-packages/latex2sympy2.py:49\u001b[0m, in \u001b[0;36mlatex2sympy\u001b[0;34m(sympy, variable_values)\u001b[0m\n\u001b[1;32m     48\u001b[0m \u001b[38;5;28;01mglobal\u001b[39;00m frac_type\n\u001b[0;32m---> 49\u001b[0m \u001b[38;5;28;01mif\u001b[39;00m \u001b[43msympy\u001b[49m\u001b[38;5;241;43m.\u001b[39;49m\u001b[43mfind\u001b[49m(\u001b[38;5;124mr\u001b[39m\u001b[38;5;124m'\u001b[39m\u001b[38;5;124m\\\u001b[39m\u001b[38;5;124mfrac\u001b[39m\u001b[38;5;124m'\u001b[39m) \u001b[38;5;241m!=\u001b[39m \u001b[38;5;241m-\u001b[39m\u001b[38;5;241m1\u001b[39m:\n\u001b[1;32m     50\u001b[0m     frac_type \u001b[38;5;241m=\u001b[39m \u001b[38;5;124mr\u001b[39m\u001b[38;5;124m'\u001b[39m\u001b[38;5;124m\\\u001b[39m\u001b[38;5;124mfrac\u001b[39m\u001b[38;5;124m'\u001b[39m\n",
      "\u001b[0;31mAttributeError\u001b[0m: 'TreeNode' object has no attribute 'find'",
      "\nDuring handling of the above exception, another exception occurred:\n",
      "\u001b[0;31mAttributeError\u001b[0m                            Traceback (most recent call last)",
      "File \u001b[0;32m~/Documents/2A/Pole/ReconnaissanceAlgebrique/SimPy/main.py:73\u001b[0m, in \u001b[0;36msimplify_latex_expression\u001b[0;34m(latex_expr)\u001b[0m\n\u001b[1;32m     72\u001b[0m \u001b[38;5;28;01mtry\u001b[39;00m:\n\u001b[0;32m---> 73\u001b[0m     result \u001b[38;5;241m=\u001b[39m simplify(\u001b[43mlatex2sympy\u001b[49m\u001b[43m(\u001b[49m\u001b[43mlatex_expr\u001b[49m\u001b[43m)\u001b[49m)\n\u001b[1;32m     74\u001b[0m \u001b[38;5;28;01mexcept\u001b[39;00m:\n",
      "File \u001b[0;32m~/.local/lib/python3.10/site-packages/latex2sympy2.py:49\u001b[0m, in \u001b[0;36mlatex2sympy\u001b[0;34m(sympy, variable_values)\u001b[0m\n\u001b[1;32m     48\u001b[0m \u001b[38;5;28;01mglobal\u001b[39;00m frac_type\n\u001b[0;32m---> 49\u001b[0m \u001b[38;5;28;01mif\u001b[39;00m \u001b[43msympy\u001b[49m\u001b[38;5;241;43m.\u001b[39;49m\u001b[43mfind\u001b[49m(\u001b[38;5;124mr\u001b[39m\u001b[38;5;124m'\u001b[39m\u001b[38;5;124m\\\u001b[39m\u001b[38;5;124mfrac\u001b[39m\u001b[38;5;124m'\u001b[39m) \u001b[38;5;241m!=\u001b[39m \u001b[38;5;241m-\u001b[39m\u001b[38;5;241m1\u001b[39m:\n\u001b[1;32m     50\u001b[0m     frac_type \u001b[38;5;241m=\u001b[39m \u001b[38;5;124mr\u001b[39m\u001b[38;5;124m'\u001b[39m\u001b[38;5;124m\\\u001b[39m\u001b[38;5;124mfrac\u001b[39m\u001b[38;5;124m'\u001b[39m\n",
      "\u001b[0;31mAttributeError\u001b[0m: 'TreeNode' object has no attribute 'find'",
      "\nDuring handling of the above exception, another exception occurred:\n",
      "\u001b[0;31mAttributeError\u001b[0m                            Traceback (most recent call last)",
      "Cell \u001b[0;32mIn[1], line 16\u001b[0m\n\u001b[1;32m     13\u001b[0m str1 \u001b[38;5;241m=\u001b[39m \u001b[38;5;124m'\u001b[39m\u001b[38;5;124mx - y\u001b[39m\u001b[38;5;124m'\u001b[39m\n\u001b[1;32m     14\u001b[0m str2 \u001b[38;5;241m=\u001b[39m \u001b[38;5;124m'\u001b[39m\u001b[38;5;124mx + y\u001b[39m\u001b[38;5;124m'\u001b[39m\n\u001b[0;32m---> 16\u001b[0m \u001b[43mgive_feedback\u001b[49m\u001b[43m(\u001b[49m\u001b[43mstr1\u001b[49m\u001b[43m,\u001b[49m\u001b[43m \u001b[49m\u001b[43mstr2\u001b[49m\u001b[43m)\u001b[49m\n",
      "File \u001b[0;32m~/Documents/2A/Pole/ReconnaissanceAlgebrique/SimPy/main.py:307\u001b[0m, in \u001b[0;36mgive_feedback\u001b[0;34m(answer, expected)\u001b[0m\n\u001b[1;32m    304\u001b[0m \u001b[38;5;28;01mif\u001b[39;00m feedback:\n\u001b[1;32m    305\u001b[0m     feedback_list\u001b[38;5;241m.\u001b[39mappend(feedback)\n\u001b[0;32m--> 307\u001b[0m feedback \u001b[38;5;241m=\u001b[39m \u001b[43midentify_sign_error\u001b[49m\u001b[43m(\u001b[49m\u001b[43manswer\u001b[49m\u001b[43m,\u001b[49m\u001b[43m \u001b[49m\u001b[43mexpected\u001b[49m\u001b[43m)\u001b[49m\n\u001b[1;32m    308\u001b[0m \u001b[38;5;28;01mif\u001b[39;00m feedback:\n\u001b[1;32m    309\u001b[0m     feedback_list\u001b[38;5;241m.\u001b[39mappend(feedback)\n",
      "File \u001b[0;32m~/Documents/2A/Pole/ReconnaissanceAlgebrique/SimPy/main.py:359\u001b[0m, in \u001b[0;36midentify_sign_error\u001b[0;34m(str1, str2)\u001b[0m\n\u001b[1;32m    356\u001b[0m     \u001b[38;5;28;01mreturn\u001b[39;00m left_error \u001b[38;5;129;01mor\u001b[39;00m right_error\n\u001b[1;32m    358\u001b[0m \u001b[38;5;66;03m# If both nodes are not '+' or *(-1), recursively check their children\u001b[39;00m\n\u001b[0;32m--> 359\u001b[0m left_error \u001b[38;5;241m=\u001b[39m \u001b[43midentify_sign_error\u001b[49m\u001b[43m(\u001b[49m\u001b[43mtree1\u001b[49m\u001b[38;5;241;43m.\u001b[39;49m\u001b[43mchildren\u001b[49m\u001b[43m[\u001b[49m\u001b[38;5;241;43m0\u001b[39;49m\u001b[43m]\u001b[49m\u001b[43m,\u001b[49m\u001b[43m \u001b[49m\u001b[43mtree2\u001b[49m\u001b[38;5;241;43m.\u001b[39;49m\u001b[43mchildren\u001b[49m\u001b[43m[\u001b[49m\u001b[38;5;241;43m0\u001b[39;49m\u001b[43m]\u001b[49m\u001b[43m)\u001b[49m \u001b[38;5;28;01mif\u001b[39;00m tree1\u001b[38;5;241m.\u001b[39mchildren \u001b[38;5;129;01mand\u001b[39;00m tree2\u001b[38;5;241m.\u001b[39mchildren \u001b[38;5;28;01melse\u001b[39;00m \u001b[38;5;28;01mFalse\u001b[39;00m\n\u001b[1;32m    360\u001b[0m right_error \u001b[38;5;241m=\u001b[39m identify_sign_error(tree1\u001b[38;5;241m.\u001b[39mchildren[\u001b[38;5;241m1\u001b[39m], tree2\u001b[38;5;241m.\u001b[39mchildren[\u001b[38;5;241m1\u001b[39m]) \u001b[38;5;28;01mif\u001b[39;00m \u001b[38;5;28mlen\u001b[39m(tree1\u001b[38;5;241m.\u001b[39mchildren) \u001b[38;5;241m>\u001b[39m \u001b[38;5;241m1\u001b[39m \u001b[38;5;129;01mand\u001b[39;00m \u001b[38;5;28mlen\u001b[39m(tree2\u001b[38;5;241m.\u001b[39mchildren) \u001b[38;5;241m>\u001b[39m \u001b[38;5;241m1\u001b[39m \u001b[38;5;28;01melse\u001b[39;00m \u001b[38;5;28;01mFalse\u001b[39;00m\n\u001b[1;32m    361\u001b[0m \u001b[38;5;28;01mreturn\u001b[39;00m left_error \u001b[38;5;129;01mor\u001b[39;00m right_error\n",
      "File \u001b[0;32m~/Documents/2A/Pole/ReconnaissanceAlgebrique/SimPy/main.py:327\u001b[0m, in \u001b[0;36midentify_sign_error\u001b[0;34m(str1, str2)\u001b[0m\n\u001b[1;32m    326\u001b[0m \u001b[38;5;28;01mdef\u001b[39;00m \u001b[38;5;21midentify_sign_error\u001b[39m(str1, str2):\n\u001b[0;32m--> 327\u001b[0m     tree1 \u001b[38;5;241m=\u001b[39m \u001b[43mload_expr\u001b[49m\u001b[43m(\u001b[49m\u001b[43mstr1\u001b[49m\u001b[43m)\u001b[49m\n\u001b[1;32m    328\u001b[0m     tree2 \u001b[38;5;241m=\u001b[39m load_expr(str2)\n\u001b[1;32m    329\u001b[0m     \u001b[38;5;28;01mif\u001b[39;00m \u001b[38;5;129;01mnot\u001b[39;00m tree1 \u001b[38;5;129;01mand\u001b[39;00m \u001b[38;5;129;01mnot\u001b[39;00m tree2:\n",
      "File \u001b[0;32m~/Documents/2A/Pole/ReconnaissanceAlgebrique/SimPy/main.py:142\u001b[0m, in \u001b[0;36mload_expr\u001b[0;34m(expr)\u001b[0m\n\u001b[1;32m    141\u001b[0m \u001b[38;5;28;01mdef\u001b[39;00m \u001b[38;5;21mload_expr\u001b[39m(expr):\n\u001b[0;32m--> 142\u001b[0m     symbolic \u001b[38;5;241m=\u001b[39m \u001b[43msimplify_latex_expression\u001b[49m\u001b[43m(\u001b[49m\u001b[43mexpr\u001b[49m\u001b[43m)\u001b[49m\n\u001b[1;32m    143\u001b[0m     tree \u001b[38;5;241m=\u001b[39m build_tree(symbolic)\n\u001b[1;32m    145\u001b[0m     \u001b[38;5;28;01mreturn\u001b[39;00m tree\n",
      "File \u001b[0;32m~/Documents/2A/Pole/ReconnaissanceAlgebrique/SimPy/main.py:75\u001b[0m, in \u001b[0;36msimplify_latex_expression\u001b[0;34m(latex_expr)\u001b[0m\n\u001b[1;32m     73\u001b[0m             result \u001b[38;5;241m=\u001b[39m simplify(latex2sympy(latex_expr))\n\u001b[1;32m     74\u001b[0m         \u001b[38;5;28;01mexcept\u001b[39;00m:\n\u001b[0;32m---> 75\u001b[0m             result \u001b[38;5;241m=\u001b[39m \u001b[43mlatex2sympy\u001b[49m\u001b[43m(\u001b[49m\u001b[43mlatex_expr\u001b[49m\u001b[43m)\u001b[49m\n\u001b[1;32m     76\u001b[0m \u001b[38;5;28;01mreturn\u001b[39;00m result\n",
      "File \u001b[0;32m~/.local/lib/python3.10/site-packages/latex2sympy2.py:49\u001b[0m, in \u001b[0;36mlatex2sympy\u001b[0;34m(sympy, variable_values)\u001b[0m\n\u001b[1;32m     46\u001b[0m \u001b[38;5;28;01mdef\u001b[39;00m \u001b[38;5;21mlatex2sympy\u001b[39m(sympy: \u001b[38;5;28mstr\u001b[39m, variable_values\u001b[38;5;241m=\u001b[39m{}):\n\u001b[1;32m     47\u001b[0m     \u001b[38;5;66;03m# record frac\u001b[39;00m\n\u001b[1;32m     48\u001b[0m     \u001b[38;5;28;01mglobal\u001b[39;00m frac_type\n\u001b[0;32m---> 49\u001b[0m     \u001b[38;5;28;01mif\u001b[39;00m \u001b[43msympy\u001b[49m\u001b[38;5;241;43m.\u001b[39;49m\u001b[43mfind\u001b[49m(\u001b[38;5;124mr\u001b[39m\u001b[38;5;124m'\u001b[39m\u001b[38;5;124m\\\u001b[39m\u001b[38;5;124mfrac\u001b[39m\u001b[38;5;124m'\u001b[39m) \u001b[38;5;241m!=\u001b[39m \u001b[38;5;241m-\u001b[39m\u001b[38;5;241m1\u001b[39m:\n\u001b[1;32m     50\u001b[0m         frac_type \u001b[38;5;241m=\u001b[39m \u001b[38;5;124mr\u001b[39m\u001b[38;5;124m'\u001b[39m\u001b[38;5;124m\\\u001b[39m\u001b[38;5;124mfrac\u001b[39m\u001b[38;5;124m'\u001b[39m\n\u001b[1;32m     51\u001b[0m     \u001b[38;5;28;01mif\u001b[39;00m sympy\u001b[38;5;241m.\u001b[39mfind(\u001b[38;5;124mr\u001b[39m\u001b[38;5;124m'\u001b[39m\u001b[38;5;124m\\\u001b[39m\u001b[38;5;124mdfrac\u001b[39m\u001b[38;5;124m'\u001b[39m) \u001b[38;5;241m!=\u001b[39m \u001b[38;5;241m-\u001b[39m\u001b[38;5;241m1\u001b[39m:\n",
      "\u001b[0;31mAttributeError\u001b[0m: 'TreeNode' object has no attribute 'find'"
     ]
    }
   ],
   "source": [
    "from main import give_feedback\n",
    "import json\n",
    "import os\n",
    "import re\n",
    "import pandas as pd\n",
    "from latex2sympy2 import latex2sympy, latex2latex\n",
    "from sympy import simplify, srepr, Eq\n",
    "from sympy.core.basic import Basic\n",
    "from zss import simple_distance, Node\n",
    "from PrettyPrint import PrettyPrintTree\n",
    "from main import *\n",
    "\n",
    "str1 = 'x - y'\n",
    "str2 = 'x + y'\n",
    "\n",
    "give_feedback(str1, str2)"
   ]
  },
  {
   "cell_type": "code",
   "execution_count": 2,
   "metadata": {},
   "outputs": [
    {
     "ename": "AttributeError",
     "evalue": "'TreeNode' object has no attribute 'find'",
     "output_type": "error",
     "traceback": [
      "\u001b[0;31m---------------------------------------------------------------------------\u001b[0m",
      "\u001b[0;31mAttributeError\u001b[0m                            Traceback (most recent call last)",
      "File \u001b[0;32m~/Documents/2A/Pole/ReconnaissanceAlgebrique/SimPy/main.py:67\u001b[0m, in \u001b[0;36msimplify_latex_expression\u001b[0;34m(latex_expr)\u001b[0m\n\u001b[1;32m     66\u001b[0m \u001b[38;5;28;01mtry\u001b[39;00m:\n\u001b[0;32m---> 67\u001b[0m     result \u001b[38;5;241m=\u001b[39m latex2sympy(\u001b[43mlatex2latex\u001b[49m\u001b[43m(\u001b[49m\u001b[43mlatex_expr\u001b[49m\u001b[43m)\u001b[49m)\n\u001b[1;32m     68\u001b[0m \u001b[38;5;28;01mexcept\u001b[39;00m:\n",
      "File \u001b[0;32m~/.local/lib/python3.10/site-packages/latex2sympy2.py:1127\u001b[0m, in \u001b[0;36mlatex2latex\u001b[0;34m(tex)\u001b[0m\n\u001b[1;32m   1126\u001b[0m \u001b[38;5;28;01mdef\u001b[39;00m \u001b[38;5;21mlatex2latex\u001b[39m(tex):\n\u001b[0;32m-> 1127\u001b[0m     result \u001b[38;5;241m=\u001b[39m \u001b[43mlatex2sympy\u001b[49m\u001b[43m(\u001b[49m\u001b[43mtex\u001b[49m\u001b[43m)\u001b[49m\n\u001b[1;32m   1128\u001b[0m     \u001b[38;5;66;03m# if result is a list or tuple or dict\u001b[39;00m\n",
      "File \u001b[0;32m~/.local/lib/python3.10/site-packages/latex2sympy2.py:49\u001b[0m, in \u001b[0;36mlatex2sympy\u001b[0;34m(sympy, variable_values)\u001b[0m\n\u001b[1;32m     48\u001b[0m \u001b[38;5;28;01mglobal\u001b[39;00m frac_type\n\u001b[0;32m---> 49\u001b[0m \u001b[38;5;28;01mif\u001b[39;00m \u001b[43msympy\u001b[49m\u001b[38;5;241;43m.\u001b[39;49m\u001b[43mfind\u001b[49m(\u001b[38;5;124mr\u001b[39m\u001b[38;5;124m'\u001b[39m\u001b[38;5;124m\\\u001b[39m\u001b[38;5;124mfrac\u001b[39m\u001b[38;5;124m'\u001b[39m) \u001b[38;5;241m!=\u001b[39m \u001b[38;5;241m-\u001b[39m\u001b[38;5;241m1\u001b[39m:\n\u001b[1;32m     50\u001b[0m     frac_type \u001b[38;5;241m=\u001b[39m \u001b[38;5;124mr\u001b[39m\u001b[38;5;124m'\u001b[39m\u001b[38;5;124m\\\u001b[39m\u001b[38;5;124mfrac\u001b[39m\u001b[38;5;124m'\u001b[39m\n",
      "\u001b[0;31mAttributeError\u001b[0m: 'TreeNode' object has no attribute 'find'",
      "\nDuring handling of the above exception, another exception occurred:\n",
      "\u001b[0;31mAttributeError\u001b[0m                            Traceback (most recent call last)",
      "File \u001b[0;32m~/Documents/2A/Pole/ReconnaissanceAlgebrique/SimPy/main.py:70\u001b[0m, in \u001b[0;36msimplify_latex_expression\u001b[0;34m(latex_expr)\u001b[0m\n\u001b[1;32m     69\u001b[0m \u001b[38;5;28;01mtry\u001b[39;00m:\n\u001b[0;32m---> 70\u001b[0m     result \u001b[38;5;241m=\u001b[39m simplify(\u001b[43mlatex2sympy\u001b[49m\u001b[43m(\u001b[49m\u001b[43mlatex_expr\u001b[49m\u001b[43m)\u001b[49m\u001b[38;5;241m.\u001b[39mdoit())\n\u001b[1;32m     71\u001b[0m \u001b[38;5;28;01mexcept\u001b[39;00m:\n",
      "File \u001b[0;32m~/.local/lib/python3.10/site-packages/latex2sympy2.py:49\u001b[0m, in \u001b[0;36mlatex2sympy\u001b[0;34m(sympy, variable_values)\u001b[0m\n\u001b[1;32m     48\u001b[0m \u001b[38;5;28;01mglobal\u001b[39;00m frac_type\n\u001b[0;32m---> 49\u001b[0m \u001b[38;5;28;01mif\u001b[39;00m \u001b[43msympy\u001b[49m\u001b[38;5;241;43m.\u001b[39;49m\u001b[43mfind\u001b[49m(\u001b[38;5;124mr\u001b[39m\u001b[38;5;124m'\u001b[39m\u001b[38;5;124m\\\u001b[39m\u001b[38;5;124mfrac\u001b[39m\u001b[38;5;124m'\u001b[39m) \u001b[38;5;241m!=\u001b[39m \u001b[38;5;241m-\u001b[39m\u001b[38;5;241m1\u001b[39m:\n\u001b[1;32m     50\u001b[0m     frac_type \u001b[38;5;241m=\u001b[39m \u001b[38;5;124mr\u001b[39m\u001b[38;5;124m'\u001b[39m\u001b[38;5;124m\\\u001b[39m\u001b[38;5;124mfrac\u001b[39m\u001b[38;5;124m'\u001b[39m\n",
      "\u001b[0;31mAttributeError\u001b[0m: 'TreeNode' object has no attribute 'find'",
      "\nDuring handling of the above exception, another exception occurred:\n",
      "\u001b[0;31mAttributeError\u001b[0m                            Traceback (most recent call last)",
      "File \u001b[0;32m~/Documents/2A/Pole/ReconnaissanceAlgebrique/SimPy/main.py:73\u001b[0m, in \u001b[0;36msimplify_latex_expression\u001b[0;34m(latex_expr)\u001b[0m\n\u001b[1;32m     72\u001b[0m \u001b[38;5;28;01mtry\u001b[39;00m:\n\u001b[0;32m---> 73\u001b[0m     result \u001b[38;5;241m=\u001b[39m simplify(\u001b[43mlatex2sympy\u001b[49m\u001b[43m(\u001b[49m\u001b[43mlatex_expr\u001b[49m\u001b[43m)\u001b[49m)\n\u001b[1;32m     74\u001b[0m \u001b[38;5;28;01mexcept\u001b[39;00m:\n",
      "File \u001b[0;32m~/.local/lib/python3.10/site-packages/latex2sympy2.py:49\u001b[0m, in \u001b[0;36mlatex2sympy\u001b[0;34m(sympy, variable_values)\u001b[0m\n\u001b[1;32m     48\u001b[0m \u001b[38;5;28;01mglobal\u001b[39;00m frac_type\n\u001b[0;32m---> 49\u001b[0m \u001b[38;5;28;01mif\u001b[39;00m \u001b[43msympy\u001b[49m\u001b[38;5;241;43m.\u001b[39;49m\u001b[43mfind\u001b[49m(\u001b[38;5;124mr\u001b[39m\u001b[38;5;124m'\u001b[39m\u001b[38;5;124m\\\u001b[39m\u001b[38;5;124mfrac\u001b[39m\u001b[38;5;124m'\u001b[39m) \u001b[38;5;241m!=\u001b[39m \u001b[38;5;241m-\u001b[39m\u001b[38;5;241m1\u001b[39m:\n\u001b[1;32m     50\u001b[0m     frac_type \u001b[38;5;241m=\u001b[39m \u001b[38;5;124mr\u001b[39m\u001b[38;5;124m'\u001b[39m\u001b[38;5;124m\\\u001b[39m\u001b[38;5;124mfrac\u001b[39m\u001b[38;5;124m'\u001b[39m\n",
      "\u001b[0;31mAttributeError\u001b[0m: 'TreeNode' object has no attribute 'find'",
      "\nDuring handling of the above exception, another exception occurred:\n",
      "\u001b[0;31mAttributeError\u001b[0m                            Traceback (most recent call last)",
      "Cell \u001b[0;32mIn[2], line 3\u001b[0m\n\u001b[1;32m      1\u001b[0m \u001b[38;5;66;03m#Testing framework\u001b[39;00m\n\u001b[0;32m----> 3\u001b[0m \u001b[43mgive_feedback\u001b[49m\u001b[43m(\u001b[49m\u001b[43mstr1\u001b[49m\u001b[43m,\u001b[49m\u001b[43m \u001b[49m\u001b[43mstr2\u001b[49m\u001b[43m)\u001b[49m\n",
      "File \u001b[0;32m~/Documents/2A/Pole/ReconnaissanceAlgebrique/SimPy/main.py:307\u001b[0m, in \u001b[0;36mgive_feedback\u001b[0;34m(answer, expected)\u001b[0m\n\u001b[1;32m    304\u001b[0m \u001b[38;5;28;01mif\u001b[39;00m feedback:\n\u001b[1;32m    305\u001b[0m     feedback_list\u001b[38;5;241m.\u001b[39mappend(feedback)\n\u001b[0;32m--> 307\u001b[0m feedback \u001b[38;5;241m=\u001b[39m \u001b[43midentify_sign_error\u001b[49m\u001b[43m(\u001b[49m\u001b[43manswer\u001b[49m\u001b[43m,\u001b[49m\u001b[43m \u001b[49m\u001b[43mexpected\u001b[49m\u001b[43m)\u001b[49m\n\u001b[1;32m    308\u001b[0m \u001b[38;5;28;01mif\u001b[39;00m feedback:\n\u001b[1;32m    309\u001b[0m     feedback_list\u001b[38;5;241m.\u001b[39mappend(feedback)\n",
      "File \u001b[0;32m~/Documents/2A/Pole/ReconnaissanceAlgebrique/SimPy/main.py:359\u001b[0m, in \u001b[0;36midentify_sign_error\u001b[0;34m(str1, str2)\u001b[0m\n\u001b[1;32m    356\u001b[0m     \u001b[38;5;28;01mreturn\u001b[39;00m left_error \u001b[38;5;129;01mor\u001b[39;00m right_error\n\u001b[1;32m    358\u001b[0m \u001b[38;5;66;03m# If both nodes are not '+' or *(-1), recursively check their children\u001b[39;00m\n\u001b[0;32m--> 359\u001b[0m left_error \u001b[38;5;241m=\u001b[39m \u001b[43midentify_sign_error\u001b[49m\u001b[43m(\u001b[49m\u001b[43mtree1\u001b[49m\u001b[38;5;241;43m.\u001b[39;49m\u001b[43mchildren\u001b[49m\u001b[43m[\u001b[49m\u001b[38;5;241;43m0\u001b[39;49m\u001b[43m]\u001b[49m\u001b[43m,\u001b[49m\u001b[43m \u001b[49m\u001b[43mtree2\u001b[49m\u001b[38;5;241;43m.\u001b[39;49m\u001b[43mchildren\u001b[49m\u001b[43m[\u001b[49m\u001b[38;5;241;43m0\u001b[39;49m\u001b[43m]\u001b[49m\u001b[43m)\u001b[49m \u001b[38;5;28;01mif\u001b[39;00m tree1\u001b[38;5;241m.\u001b[39mchildren \u001b[38;5;129;01mand\u001b[39;00m tree2\u001b[38;5;241m.\u001b[39mchildren \u001b[38;5;28;01melse\u001b[39;00m \u001b[38;5;28;01mFalse\u001b[39;00m\n\u001b[1;32m    360\u001b[0m right_error \u001b[38;5;241m=\u001b[39m identify_sign_error(tree1\u001b[38;5;241m.\u001b[39mchildren[\u001b[38;5;241m1\u001b[39m], tree2\u001b[38;5;241m.\u001b[39mchildren[\u001b[38;5;241m1\u001b[39m]) \u001b[38;5;28;01mif\u001b[39;00m \u001b[38;5;28mlen\u001b[39m(tree1\u001b[38;5;241m.\u001b[39mchildren) \u001b[38;5;241m>\u001b[39m \u001b[38;5;241m1\u001b[39m \u001b[38;5;129;01mand\u001b[39;00m \u001b[38;5;28mlen\u001b[39m(tree2\u001b[38;5;241m.\u001b[39mchildren) \u001b[38;5;241m>\u001b[39m \u001b[38;5;241m1\u001b[39m \u001b[38;5;28;01melse\u001b[39;00m \u001b[38;5;28;01mFalse\u001b[39;00m\n\u001b[1;32m    361\u001b[0m \u001b[38;5;28;01mreturn\u001b[39;00m left_error \u001b[38;5;129;01mor\u001b[39;00m right_error\n",
      "File \u001b[0;32m~/Documents/2A/Pole/ReconnaissanceAlgebrique/SimPy/main.py:327\u001b[0m, in \u001b[0;36midentify_sign_error\u001b[0;34m(str1, str2)\u001b[0m\n\u001b[1;32m    326\u001b[0m \u001b[38;5;28;01mdef\u001b[39;00m \u001b[38;5;21midentify_sign_error\u001b[39m(str1, str2):\n\u001b[0;32m--> 327\u001b[0m     tree1 \u001b[38;5;241m=\u001b[39m \u001b[43mload_expr\u001b[49m\u001b[43m(\u001b[49m\u001b[43mstr1\u001b[49m\u001b[43m)\u001b[49m\n\u001b[1;32m    328\u001b[0m     tree2 \u001b[38;5;241m=\u001b[39m load_expr(str2)\n\u001b[1;32m    329\u001b[0m     \u001b[38;5;28;01mif\u001b[39;00m \u001b[38;5;129;01mnot\u001b[39;00m tree1 \u001b[38;5;129;01mand\u001b[39;00m \u001b[38;5;129;01mnot\u001b[39;00m tree2:\n",
      "File \u001b[0;32m~/Documents/2A/Pole/ReconnaissanceAlgebrique/SimPy/main.py:142\u001b[0m, in \u001b[0;36mload_expr\u001b[0;34m(expr)\u001b[0m\n\u001b[1;32m    141\u001b[0m \u001b[38;5;28;01mdef\u001b[39;00m \u001b[38;5;21mload_expr\u001b[39m(expr):\n\u001b[0;32m--> 142\u001b[0m     symbolic \u001b[38;5;241m=\u001b[39m \u001b[43msimplify_latex_expression\u001b[49m\u001b[43m(\u001b[49m\u001b[43mexpr\u001b[49m\u001b[43m)\u001b[49m\n\u001b[1;32m    143\u001b[0m     tree \u001b[38;5;241m=\u001b[39m build_tree(symbolic)\n\u001b[1;32m    145\u001b[0m     \u001b[38;5;28;01mreturn\u001b[39;00m tree\n",
      "File \u001b[0;32m~/Documents/2A/Pole/ReconnaissanceAlgebrique/SimPy/main.py:75\u001b[0m, in \u001b[0;36msimplify_latex_expression\u001b[0;34m(latex_expr)\u001b[0m\n\u001b[1;32m     73\u001b[0m             result \u001b[38;5;241m=\u001b[39m simplify(latex2sympy(latex_expr))\n\u001b[1;32m     74\u001b[0m         \u001b[38;5;28;01mexcept\u001b[39;00m:\n\u001b[0;32m---> 75\u001b[0m             result \u001b[38;5;241m=\u001b[39m \u001b[43mlatex2sympy\u001b[49m\u001b[43m(\u001b[49m\u001b[43mlatex_expr\u001b[49m\u001b[43m)\u001b[49m\n\u001b[1;32m     76\u001b[0m \u001b[38;5;28;01mreturn\u001b[39;00m result\n",
      "File \u001b[0;32m~/.local/lib/python3.10/site-packages/latex2sympy2.py:49\u001b[0m, in \u001b[0;36mlatex2sympy\u001b[0;34m(sympy, variable_values)\u001b[0m\n\u001b[1;32m     46\u001b[0m \u001b[38;5;28;01mdef\u001b[39;00m \u001b[38;5;21mlatex2sympy\u001b[39m(sympy: \u001b[38;5;28mstr\u001b[39m, variable_values\u001b[38;5;241m=\u001b[39m{}):\n\u001b[1;32m     47\u001b[0m     \u001b[38;5;66;03m# record frac\u001b[39;00m\n\u001b[1;32m     48\u001b[0m     \u001b[38;5;28;01mglobal\u001b[39;00m frac_type\n\u001b[0;32m---> 49\u001b[0m     \u001b[38;5;28;01mif\u001b[39;00m \u001b[43msympy\u001b[49m\u001b[38;5;241;43m.\u001b[39;49m\u001b[43mfind\u001b[49m(\u001b[38;5;124mr\u001b[39m\u001b[38;5;124m'\u001b[39m\u001b[38;5;124m\\\u001b[39m\u001b[38;5;124mfrac\u001b[39m\u001b[38;5;124m'\u001b[39m) \u001b[38;5;241m!=\u001b[39m \u001b[38;5;241m-\u001b[39m\u001b[38;5;241m1\u001b[39m:\n\u001b[1;32m     50\u001b[0m         frac_type \u001b[38;5;241m=\u001b[39m \u001b[38;5;124mr\u001b[39m\u001b[38;5;124m'\u001b[39m\u001b[38;5;124m\\\u001b[39m\u001b[38;5;124mfrac\u001b[39m\u001b[38;5;124m'\u001b[39m\n\u001b[1;32m     51\u001b[0m     \u001b[38;5;28;01mif\u001b[39;00m sympy\u001b[38;5;241m.\u001b[39mfind(\u001b[38;5;124mr\u001b[39m\u001b[38;5;124m'\u001b[39m\u001b[38;5;124m\\\u001b[39m\u001b[38;5;124mdfrac\u001b[39m\u001b[38;5;124m'\u001b[39m) \u001b[38;5;241m!=\u001b[39m \u001b[38;5;241m-\u001b[39m\u001b[38;5;241m1\u001b[39m:\n",
      "\u001b[0;31mAttributeError\u001b[0m: 'TreeNode' object has no attribute 'find'"
     ]
    }
   ],
   "source": [
    "#Testing framework\n",
    "\n",
    "give_feedback(str1, str2)"
   ]
  }
 ],
 "metadata": {
  "kernelspec": {
   "display_name": "Python 3",
   "language": "python",
   "name": "python3"
  },
  "language_info": {
   "codemirror_mode": {
    "name": "ipython",
    "version": 3
   },
   "file_extension": ".py",
   "mimetype": "text/x-python",
   "name": "python",
   "nbconvert_exporter": "python",
   "pygments_lexer": "ipython3",
   "version": "3.10.12"
  }
 },
 "nbformat": 4,
 "nbformat_minor": 2
}
